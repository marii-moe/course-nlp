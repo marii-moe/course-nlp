{
 "cells": [
  {
   "cell_type": "markdown",
   "metadata": {},
   "source": [
    "# Sentiment Classification the old-fashioned way: \n",
    "## `Naive Bayes`, `Logistic Regression`, and `Ngrams`"
   ]
  },
  {
   "cell_type": "markdown",
   "metadata": {},
   "source": [
    "The purpose of this notebook is to show how sentiment classification is done via the classic techniques of `Naive Bayes`, `Logistic regression`, and `Ngrams`.  We will be using `sklearn` and the `fastai` library.\n",
    "\n",
    "In a future lesson, we will revisit sentiment classification using `deep learning`, so that you can compare the two approaches."
   ]
  },
  {
   "cell_type": "markdown",
   "metadata": {},
   "source": [
    "The content here was extended from [Lesson 10 of the fast.ai Machine Learning course](https://course.fast.ai/lessonsml1/lesson10.html). Linear model is pretty close to the state of the art here.  Jeremy surpassed state of the art using a RNN in fall 2017."
   ]
  },
  {
   "cell_type": "markdown",
   "metadata": {
    "heading_collapsed": true
   },
   "source": [
    "## 0.The fastai library"
   ]
  },
  {
   "cell_type": "markdown",
   "metadata": {
    "hidden": true
   },
   "source": [
    "We will begin using [the fastai library](https://docs.fast.ai) (version 1.0) in this notebook.  We will use it more once we move on to neural networks.\n",
    "\n",
    "The fastai library is built on top of PyTorch and encodes many state-of-the-art best practices. It is used in production at a number of companies.  You can read more about it here:\n",
    "\n",
    "- [Fast.ai's software could radically democratize AI](https://www.zdnet.com/article/fast-ais-new-software-could-radically-democratize-ai/) (ZDNet)\n",
    "\n",
    "- [fastai v1 for PyTorch: Fast and accurate neural nets using modern best practices](https://www.fast.ai/2018/10/02/fastai-ai/) (fast.ai)\n",
    "\n",
    "- [fastai docs](https://docs.fast.ai/)\n",
    "\n",
    "### Installation\n",
    "\n",
    "With conda:\n",
    "\n",
    "`conda install -c pytorch -c fastai fastai=1.0`\n",
    "\n",
    "Or with pip:\n",
    "\n",
    "`pip install fastai==1.0`\n",
    "\n",
    "More [installation information here](https://github.com/fastai/fastai/blob/master/README.md).\n",
    "\n",
    "Beginning in lesson 4, we will be using GPUs, so if you want, you could switch to a [cloud option](https://course.fast.ai/#using-a-gpu) now to setup fastai."
   ]
  },
  {
   "cell_type": "markdown",
   "metadata": {},
   "source": [
    "## 1. The IMDB dataset"
   ]
  },
  {
   "cell_type": "markdown",
   "metadata": {},
   "source": [
    "<img src=\"IMDb.png\" alt=\"floating point\" style=\"width: 90%\"/>"
   ]
  },
  {
   "cell_type": "markdown",
   "metadata": {},
   "source": [
    "The [large movie review dataset](http://ai.stanford.edu/~amaas/data/sentiment/) contains a collection of 50,000 reviews from IMDB, We will use the version hosted as part [fast.ai datasets](https://course.fast.ai/datasets.html) on AWS Open Datasets. \n",
    "\n",
    "The dataset contains an even number of positive and negative reviews. The authors considered only highly polarized reviews. A negative review has a score ≤ 4 out of 10, and a positive review has a score ≥ 7 out of 10. Neutral reviews are not included in the dataset. The dataset is divided into training and test sets. The training set is the same 25,000 labeled reviews.\n",
    "\n",
    "The **sentiment classification task** consists of predicting the polarity (positive or negative) of a given text."
   ]
  },
  {
   "cell_type": "markdown",
   "metadata": {},
   "source": [
    "### Imports"
   ]
  },
  {
   "cell_type": "code",
   "execution_count": 1,
   "metadata": {},
   "outputs": [
    {
     "name": "stdout",
     "output_type": "stream",
     "text": [
      "Collecting package metadata (current_repodata.json): done\n",
      "Solving environment: failed with initial frozen solve. Retrying with flexible solve.\n",
      "Collecting package metadata (repodata.json): done\n",
      "Solving environment: failed with initial frozen solve. Retrying with flexible solve.\n",
      "\n",
      "PackagesNotFoundError: The following packages are not available from current channels:\n",
      "\n",
      "  - sklearn\n",
      "\n",
      "Current channels:\n",
      "\n",
      "  - https://repo.anaconda.com/pkgs/main/linux-64\n",
      "  - https://repo.anaconda.com/pkgs/main/noarch\n",
      "  - https://repo.anaconda.com/pkgs/r/linux-64\n",
      "  - https://repo.anaconda.com/pkgs/r/noarch\n",
      "\n",
      "To search for alternate channels that may provide the conda package you're\n",
      "looking for, navigate to\n",
      "\n",
      "    https://anaconda.org\n",
      "\n",
      "and use the search bar at the top of the page.\n",
      "\n",
      "\n"
     ]
    }
   ],
   "source": [
    "! conda install sklearn"
   ]
  },
  {
   "cell_type": "code",
   "execution_count": 2,
   "metadata": {
    "scrolled": true
   },
   "outputs": [],
   "source": [
    "%reload_ext autoreload\n",
    "%autoreload 2\n",
    "%matplotlib inline"
   ]
  },
  {
   "cell_type": "code",
   "execution_count": 3,
   "metadata": {},
   "outputs": [],
   "source": [
    "from fastai import *\n",
    "from fastai.text import *\n",
    "from fastai.basics import * #added this for unter_data\n",
    "from fastai.utils.mem import GPUMemTrace #call with mtrace"
   ]
  },
  {
   "cell_type": "code",
   "execution_count": 4,
   "metadata": {},
   "outputs": [],
   "source": [
    "import sklearn.feature_extraction.text as sklearn_text\n",
    "import pickle "
   ]
  },
  {
   "cell_type": "markdown",
   "metadata": {},
   "source": [
    "### Preview the sample IMDb data set"
   ]
  },
  {
   "cell_type": "markdown",
   "metadata": {},
   "source": [
    "fast.ai has a number of [datasets hosted via AWS Open Datasets](https://course.fast.ai/datasets.html) for easy download. We can see them by checking the docs for URLs (remember `??` is a helpful command):"
   ]
  },
  {
   "cell_type": "markdown",
   "metadata": {},
   "source": [
    "It is always good to start working on a sample of your data before you use the full dataset-- this allows for quicker computations as you debug and get your code working. For IMDB, there is a sample dataset already available:"
   ]
  },
  {
   "cell_type": "code",
   "execution_count": 5,
   "metadata": {},
   "outputs": [],
   "source": [
    "path = untar_data(URLs.IMDB_SAMPLE)"
   ]
  },
  {
   "cell_type": "markdown",
   "metadata": {},
   "source": [
    "#### Read the data set into a pandas dataframe, which we can inspect to get a sense of what our data looks like. We see that the three columns contain review label, review text, and the `is_valid` flag, respectively. `is_valid` is a boolean flag indicating whether the row is from the validation set or not."
   ]
  },
  {
   "cell_type": "code",
   "execution_count": 6,
   "metadata": {
    "scrolled": true
   },
   "outputs": [
    {
     "data": {
      "text/html": [
       "<div>\n",
       "<style scoped>\n",
       "    .dataframe tbody tr th:only-of-type {\n",
       "        vertical-align: middle;\n",
       "    }\n",
       "\n",
       "    .dataframe tbody tr th {\n",
       "        vertical-align: top;\n",
       "    }\n",
       "\n",
       "    .dataframe thead th {\n",
       "        text-align: right;\n",
       "    }\n",
       "</style>\n",
       "<table border=\"1\" class=\"dataframe\">\n",
       "  <thead>\n",
       "    <tr style=\"text-align: right;\">\n",
       "      <th></th>\n",
       "      <th>label</th>\n",
       "      <th>text</th>\n",
       "      <th>is_valid</th>\n",
       "    </tr>\n",
       "  </thead>\n",
       "  <tbody>\n",
       "    <tr>\n",
       "      <th>0</th>\n",
       "      <td>negative</td>\n",
       "      <td>Un-bleeping-believable! Meg Ryan doesn't even ...</td>\n",
       "      <td>False</td>\n",
       "    </tr>\n",
       "    <tr>\n",
       "      <th>1</th>\n",
       "      <td>positive</td>\n",
       "      <td>This is a extremely well-made film. The acting...</td>\n",
       "      <td>False</td>\n",
       "    </tr>\n",
       "    <tr>\n",
       "      <th>2</th>\n",
       "      <td>negative</td>\n",
       "      <td>Every once in a long while a movie will come a...</td>\n",
       "      <td>False</td>\n",
       "    </tr>\n",
       "    <tr>\n",
       "      <th>3</th>\n",
       "      <td>positive</td>\n",
       "      <td>Name just says it all. I watched this movie wi...</td>\n",
       "      <td>False</td>\n",
       "    </tr>\n",
       "    <tr>\n",
       "      <th>4</th>\n",
       "      <td>negative</td>\n",
       "      <td>This movie succeeds at being one of the most u...</td>\n",
       "      <td>False</td>\n",
       "    </tr>\n",
       "  </tbody>\n",
       "</table>\n",
       "</div>"
      ],
      "text/plain": [
       "      label                                               text  is_valid\n",
       "0  negative  Un-bleeping-believable! Meg Ryan doesn't even ...     False\n",
       "1  positive  This is a extremely well-made film. The acting...     False\n",
       "2  negative  Every once in a long while a movie will come a...     False\n",
       "3  positive  Name just says it all. I watched this movie wi...     False\n",
       "4  negative  This movie succeeds at being one of the most u...     False"
      ]
     },
     "execution_count": 6,
     "metadata": {},
     "output_type": "execute_result"
    }
   ],
   "source": [
    "df = pd.read_csv(path/'texts.csv')\n",
    "df.head()"
   ]
  },
  {
   "cell_type": "markdown",
   "metadata": {},
   "source": [
    "### Extract the movie reviews from the sample IMDb data set.\n",
    "#### We will be using [TextList](https://docs.fast.ai/text.data.html#TextList) from the fastai library:"
   ]
  },
  {
   "cell_type": "code",
   "execution_count": 7,
   "metadata": {},
   "outputs": [
    {
     "data": {
      "text/plain": [
       "fastai.text.data.TextList"
      ]
     },
     "execution_count": 7,
     "metadata": {},
     "output_type": "execute_result"
    }
   ],
   "source": [
    "TextList"
   ]
  },
  {
   "cell_type": "code",
   "execution_count": 8,
   "metadata": {},
   "outputs": [
    {
     "data": {
      "text/html": [],
      "text/plain": [
       "<IPython.core.display.HTML object>"
      ]
     },
     "metadata": {},
     "output_type": "display_data"
    },
    {
     "name": "stderr",
     "output_type": "stream",
     "text": [
      "/home/molly/miniconda3/envs/fastai1/lib/python3.9/site-packages/fastai/core.py:302: VisibleDeprecationWarning: Creating an ndarray from ragged nested sequences (which is a list-or-tuple of lists-or-tuples-or ndarrays with different lengths or shapes) is deprecated. If you meant to do this, you must specify 'dtype=object' when creating the ndarray.\n",
      "  return np.array(a, dtype=dtype, **kwargs)\n"
     ]
    },
    {
     "data": {
      "text/html": [],
      "text/plain": [
       "<IPython.core.display.HTML object>"
      ]
     },
     "metadata": {},
     "output_type": "display_data"
    },
    {
     "name": "stdout",
     "output_type": "stream",
     "text": [
      "failure count is 0\n",
      "\n",
      "CPU times: user 250 ms, sys: 248 ms, total: 498 ms\n",
      "Wall time: 1.83 s\n"
     ]
    }
   ],
   "source": [
    "%%time\n",
    "# throws `BrokenProcessPool' Error sometimes. Keep trying `till it works!\n",
    "\n",
    "count = 0\n",
    "error = True\n",
    "while error:\n",
    "    try: \n",
    "        # Preprocessing steps\n",
    "        movie_reviews = (TextList.from_csv(path, 'texts.csv', cols='text')\n",
    "                         .split_from_df(col=2)\n",
    "                         .label_from_df(cols=0))\n",
    "        error = False\n",
    "        print(f'failure count is {count}\\n')    \n",
    "    except: # catch *all* exceptions\n",
    "        # accumulate failure count\n",
    "        count = count + 1\n",
    "        print(f'failure count is {count}')\n"
   ]
  },
  {
   "cell_type": "markdown",
   "metadata": {},
   "source": [
    "### Exploring IMDb review data"
   ]
  },
  {
   "cell_type": "markdown",
   "metadata": {},
   "source": [
    "A good first step for any data problem is to explore the data and get a sense of what it looks like.  In this case we are looking at movie reviews, which have been labeled as \"positive\" or \"negative\". The reviews have already been `tokenized`, i.e. split into `tokens`, basic units such as words, prefixes, punctuation, capitalization, and other features of the text."
   ]
  },
  {
   "cell_type": "code",
   "execution_count": 9,
   "metadata": {},
   "outputs": [
    {
     "data": {
      "text/plain": [
       "LabelLists;\n",
       "\n",
       "Train: LabelList (800 items)\n",
       "x: TextList\n",
       "xxbos xxmaj un - xxunk - believable ! xxmaj meg xxmaj ryan does n't even look her usual xxunk lovable self in this , which normally makes me forgive her shallow xxunk acting xxunk . xxmaj hard to believe she was the producer on this dog . xxmaj plus xxmaj kevin xxmaj kline : what kind of suicide trip has his career been on ? xxmaj xxunk ... xxmaj xxunk ! ! ! xxmaj finally this was directed by the guy who did xxmaj big xxmaj xxunk ? xxmaj must be a replay of xxmaj jonestown - hollywood style . xxmaj xxunk !,xxbos xxmaj this is a extremely well - made film . xxmaj the acting , script and camera - work are all first - rate . xxmaj the music is good , too , though it is mostly early in the film , when things are still relatively xxunk . xxmaj there are no really xxunk in the cast , though several faces will be familiar . xxmaj the entire cast does an excellent job with the script . \n",
       " \n",
       "  xxmaj but it is hard to watch , because there is no good end to a situation like the one presented . xxmaj it is now xxunk to blame the xxmaj british for setting xxmaj hindus and xxmaj muslims against each other , and then xxunk xxunk them into two countries . xxmaj there is some merit in this view , but it 's also true that no one forced xxmaj hindus and xxmaj muslims in the region to xxunk each other as they did around the time of partition . xxmaj it seems more likely that the xxmaj british simply saw the xxunk between the xxunk and were clever enough to exploit them to their own ends . \n",
       " \n",
       "  xxmaj the result is that there is much cruelty and inhumanity in the situation and this is very unpleasant to remember and to see on the screen . xxmaj but it is never painted as a black - and - white case . xxmaj there is xxunk and xxunk on both sides , and also the hope for change in the younger generation . \n",
       " \n",
       "  xxmaj there is redemption of a sort , in the end , when xxmaj xxunk has to make a hard choice between a man who has ruined her life , but also truly loved her , and her family which has xxunk her , then later come looking for her . xxmaj but by that point , she has no xxunk that is without great pain for her . \n",
       " \n",
       "  xxmaj this film carries the message that both xxmaj muslims and xxmaj hindus have their grave xxunk , and also that both can be xxunk and caring people . xxmaj the reality of partition makes that xxunk all the more wrenching , since there can never be real xxunk across the xxmaj india / xxmaj pakistan border . xxmaj in that sense , it is similar to \" xxmaj mr & xxmaj xxunk xxmaj xxunk \" . \n",
       " \n",
       "  xxmaj in the end , we were glad to have seen the film , even though the resolution was xxunk . xxmaj if the xxup uk and xxup us could deal with their own xxunk of racism with this kind of xxunk , they would certainly be better off .,xxbos xxmaj every once in a long while a movie will come along that will be so awful that i feel compelled to warn people . xxmaj if i labor all my days and i can save but one soul from watching this movie , how great will be my joy . \n",
       " \n",
       "  xxmaj where to begin my discussion of pain . xxmaj for xxunk , there was a musical xxunk every five minutes . xxmaj there was no character development . xxmaj every character was a stereotype . xxmaj we had xxunk guy , fat guy who eats donuts , goofy foreign guy , etc . xxmaj the script felt as if it were being written as the movie was being shot . xxmaj the production value was so incredibly low that it felt like i was watching a junior high video presentation . xxmaj have the directors , producers , etc . ever even seen a movie before ? xxmaj xxunk is getting worse and worse with every new entry . xxmaj the concept for this movie sounded so funny . xxmaj how could you go wrong with xxmaj gary xxmaj coleman and a handful of somewhat legitimate actors . xxmaj but trust me when i say this , things went wrong , xxup very xxup wrong .,xxbos xxmaj name just says it all . i watched this movie with my dad when it came out and having served in xxmaj xxunk he had great admiration for the man . xxmaj the disappointing thing about this film is that it only xxunk on a short period of the man 's life - interestingly enough the man 's entire life would have made such an epic bio - xxunk that it is staggering to imagine the cost for production . \n",
       " \n",
       "  xxmaj some posters xxunk to the flawed xxunk about the man , which are cheap shots . xxmaj the theme of the movie \" xxmaj duty , xxmaj honor , xxmaj country \" are not just mere words xxunk from the lips of a high - xxunk officer - it is the deep xxunk of one man 's total devotion to his country . \n",
       " \n",
       "  xxmaj ironically xxmaj xxunk being the liberal that he was xxunk a better understanding of the man . xxmaj he does a great job showing the xxunk general xxunk with the xxunk side of the man .,xxbos xxmaj this movie succeeds at being one of the most unique movies you 've seen . xxmaj however this comes from the fact that you ca n't make heads or xxunk of this mess . xxmaj it almost seems as a series of challenges set up to determine whether or not you are willing to walk out of the movie and give up the money you just paid . xxmaj if you do n't want to feel xxunk you 'll sit through this horrible film and develop a real sense of pity for the actors involved , they 've all seen better days , but then you realize they actually got paid quite a bit of money to do this and you 'll lose pity for them just like you 've already done for the film . i ca n't go on enough about this horrible movie , its almost something that xxmaj ed xxmaj wood would have made and in that case it surely would have been his masterpiece . \n",
       " \n",
       "  xxmaj to start you are forced to sit through an opening dialogue the likes of which you 've never seen / heard , this thing has got to be five minutes long . xxmaj on top of that it is narrated , as to suggest that you the viewer can not read . xxmaj then we meet xxmaj mr. xxmaj xxunk and the xxunk of terrible lines gets xxunk , it is as if he is xxunk solely to get lines on to the movie poster xxunk line . xxmaj soon we meet xxmaj stephen xxmaj xxunk , who i typically enjoy ) and he does his best not to drown in this but ultimately he does . xxmaj then comes the ultimate insult , xxmaj tara xxmaj xxunk playing an intelligent role , oh help us ! xxmaj tara xxmaj xxunk is not a very talented actress and somehow she xxunk gets roles in movies , in my opinion though she should stick to movies of the xxmaj american pie type . \n",
       " \n",
       "  xxmaj all in all you just may want to see this for yourself when it comes out on video , i know that i got a kick out of it , i mean lets all be honest here , sometimes its comforting to xxunk in the shortcomings of others .\n",
       "y: CategoryList\n",
       "negative,positive,negative,positive,negative\n",
       "Path: /home/molly/.fastai/data/imdb_sample;\n",
       "\n",
       "Valid: LabelList (200 items)\n",
       "x: TextList\n",
       "xxbos xxmaj this very funny xxmaj british comedy shows what might happen if a section of xxmaj london , in this case xxmaj xxunk , were to xxunk itself independent from the rest of the xxup uk and its laws , xxunk & post - war xxunk . xxmaj merry xxunk is what would happen . \n",
       " \n",
       "  xxmaj the explosion of a wartime bomb leads to the xxunk of ancient xxunk which show that xxmaj xxunk was xxunk to the xxmaj xxunk of xxmaj xxunk xxunk ago , a small historical xxunk long since forgotten . xxmaj to the new xxmaj xxunk , however , this is an unexpected opportunity to live as they please , free from any xxunk from xxmaj xxunk . \n",
       " \n",
       "  xxmaj stanley xxmaj xxunk is excellent as the minor city xxunk who suddenly finds himself leading one of the world 's xxunk xxunk . xxmaj xxunk xxmaj margaret xxmaj xxunk is a delight as the history professor who sides with xxmaj xxunk . xxmaj others in the stand - out cast include xxmaj xxunk xxmaj xxunk , xxmaj paul xxmaj xxunk , xxmaj xxunk xxmaj xxunk , xxmaj xxunk xxmaj xxunk & xxmaj sir xxmaj michael xxmaj xxunk . \n",
       " \n",
       "  xxmaj welcome to xxmaj xxunk !,xxbos i saw this movie once as a kid on the late - late show and fell in love with it . \n",
       " \n",
       "  xxmaj it took 30 + years , but i recently did find it on xxup dvd - it was n't cheap , either - in a xxunk that xxunk in war movies . xxmaj we watched it last night for the first time . xxmaj the audio was good , however it was grainy and had the trailers between xxunk . xxmaj even so , it was better than i remembered it . i was also impressed at how true it was to the play . \n",
       " \n",
       "  xxmaj the xxunk is around here xxunk . xxmaj if you 're xxunk in finding it , fire me a xxunk and i 'll see if i can get you the xxunk . xxunk,xxbos xxmaj this is , in my opinion , a very good film , especially for xxmaj michael xxmaj jackson lovers . xxmaj it contains a message on drugs , stunning special effects , and an awesome music video . \n",
       " \n",
       "  xxmaj the main film is xxunk around the song and music video ' xxmaj smooth xxmaj criminal . ' xxmaj unlike the four - minute music video , it is normal speed and , in my opinion , much xxunk to watch . \n",
       " \n",
       "  xxmaj the plot is rather weird , however . xxmaj michael xxmaj jackson plays a xxunk ' gangster ' that , when he sees a shooting star , he xxunk into a piece of xxunk . xxmaj throughout the film , he xxunk into a race car , a giant robot , and a space ship . \n",
       " \n",
       "  xxmaj the robot scene in particular is a bit drawn out and strange . i found it a little out - of - whack compared to the rest of the film . \n",
       " \n",
       "  a child is kidnapped , xxmaj michael tries to save her , is tortured and beaten , and suddenly turns into a giant robot that blows up all the bad guys . a little weird ? xxmaj yeah . \n",
       " \n",
       "  xxmaj but besides the bizarre robot scene , it 's a very good movie , and any xxmaj michael xxmaj jackson fan will enjoy both the xxmaj smooth xxmaj criminal music video and the movie .,xxbos xxmaj in xxmaj iran , women are not xxunk to attend men 's sporting events , apparently to \" xxunk \" them from all the xxunk and foul language they might hear xxunk from the male fans ( so since men ca n't xxunk or xxunk themselves , women are forced to suffer . xxmaj go figure . ) . \" xxmaj xxunk \" tells the tale of a half dozen or so young women who , dressed like men , attempt to xxunk into the high - xxunk match between xxmaj iran and xxmaj xxunk that , in xxunk , qualified xxmaj iran to go to the xxmaj world xxmaj cup ( the movie was actually filmed in large part during that game ) . \n",
       " \n",
       "  \" xxmaj xxunk \" is a xxunk - of - life comedy that will remind you of all those great xxunk films ( \" xxmaj the xxmaj shop on xxmaj main xxmaj street , \" \" xxmaj loves of a xxmaj blonde , \" \" xxmaj closely xxmaj watched xxmaj trains \" etc . ) that xxunk out of xxmaj communist xxmaj xxunk as part of the \" xxmaj xxunk xxmaj xxunk \" in the mid xxunk 's . xxmaj as with many of those works , \" xxmaj xxunk \" is more concerned with xxunk life than with xxunk any kind of xxunk contrived fictional narrative . xxmaj indeed , it is the simplicity of the xxunk and the xxunk of the style that make the movie so effective . \n",
       " \n",
       "  xxmaj once their xxunk is discovered , the girls are xxunk into a small xxunk right outside the xxunk where they can hear the xxunk xxunk xxunk from the game inside . xxmaj stuck where they are , all they can do is xxunk with the security guards to let them go in , guards who are basically xxunk , good - xxunk xxunk who are compelled to do their duty as a part of their xxunk military service . xxmaj even most of the men going into the xxunk do n't seem particularly xxunk at the thought of these women being allowed in . xxmaj still the prohibition xxunk . xxmaj yet , how can one not be impressed by the very real courage and xxunk displayed by these women as they go up against a system that continues to xxunk such a xxunk xxunk and xxunk xxunk ? xxmaj and , yet , the purpose of these women is not to xxunk behind a cause or to make a \" point . \" xxmaj they are simply obsessed fans with a burning desire to watch a soccer game and , like all the men in the country , xxunk on their team . \n",
       " \n",
       "  xxmaj it 's hard to tell just how much of the dialogue is scripted and how much of it is xxunk , but , in either case , the actors , with their xxunk xxunk faces , do a magnificent job making each moment seem utterly real and convincing . xxmaj xxunk xxmaj xxunk - xxunk and xxmaj xxunk xxmaj xxunk are notable xxunk in a xxunk excellent cast . xxmaj the structure of the film is also very loose and xxunk , as writer / director xxmaj xxunk xxmaj xxunk and co - writer xxmaj xxunk xxmaj xxunk focus for a few brief moments on one or two of the characters , then move xxunk and xxunk onto others . xxmaj with this documentary - type approach , we come to feel as if we are xxunk an actual event xxunk in \" real time . \" xxmaj very often , it 's quite easy for us to forget we 're actually watching a movie . \n",
       " \n",
       "  xxmaj it was a very smart move on the part of the filmmakers to include so much good - xxunk humor in the film ( it 's what the xxmaj xxunk filmmakers did as well ) , the better to point up the utter absurdity of the situation and xxunk the appeal of the film for audiences both domestic and foreign . \" xxmaj xxunk \" is obviously a cry for justice , but it is one that is made all the more effective by its xxunk to make of its story a heavy - breathing tragedy . xxmaj instead , it realizes that nothing breaks down social xxunk quite as xxunk as humor and an appeal to the audience 's common humanity . xxmaj and is n't that what true art is supposed to be all about ? xxmaj in its own quiet , xxunk way , \" xxmaj xxunk \" is one of the great , under - appreciated xxunk of xxunk .,xxbos \" xxmaj in xxmaj xxunk xxunk , the xxmaj university of xxmaj xxunk xxunk to xxunk xxmaj xxunk xxmaj national xxmaj xxunk , with an xxunk of xxmaj xxunk xxunk offering to xxunk the research . xxmaj xxunk xxunk became the first \" national \" xxunk . xxmaj it did not , however , remain at its original location in the xxmaj xxunk forest . xxmaj in xxunk , it moved xxunk west from the \" xxmaj xxunk xxmaj city \" to a new site on xxmaj xxunk xxunk . xxmaj when xxmaj xxunk xxmaj xxunk visited xxmaj xxunk 's director , xxmaj walter xxmaj xxunk , in xxunk , he asked him what kind of xxunk was to be built at the new site . xxmaj when xxmaj xxunk described a heavy - water xxunk xxunk at one - xxunk the power of the xxmaj xxunk xxmaj xxunk xxmaj xxunk under design at xxmaj xxunk xxmaj xxunk , xxmaj xxunk xxunk it would be xxunk if xxmaj xxunk took the xxmaj xxunk xxmaj xxunk design and xxunk the xxmaj xxunk xxmaj xxunk xxmaj xxunk at one - xxunk capacity . xxmaj the joke proved unintentionally xxunk . \" \n",
       " \n",
       "  xxmaj the xxup xxunk plant used xxunk to separate the xxunk in thousands of tall xxunk . xxmaj it was built next to the xxup xxunk power plant , which provided the necessary steam . xxmaj much less xxunk than xxup xxunk , the xxup xxunk plant was torn down after the war . \n",
       " \n",
       "  xxmaj concerned that the xxmaj xxunk xxmaj energy xxmaj xxunk research program might become too xxunk , xxmaj xxunk xxunk a xxunk of industrial xxunk , and during a xxmaj xxunk visit to xxmaj xxunk xxmaj xxunk , he xxunk with xxmaj clark xxmaj center , manager of xxmaj xxunk & xxmaj xxunk , a xxunk of xxmaj union xxmaj xxunk xxmaj corporation at xxmaj xxunk xxmaj xxunk , the possibility of the company xxunk xxunk of the xxmaj xxunk . \n",
       " \n",
       "  xxmaj prince xxmaj henry ( of xxmaj xxunk ) xxmaj xxunk in xxmaj washington and xxmaj visiting the xxmaj german xxmaj xxunk ( xxunk ) . xxmaj xxunk , with xxmaj prince xxmaj henry of xxmaj xxunk according to the xxunk of science and its xxunk their were already concerns with the xxunk of new science with military xxunk . xxmaj the xxmaj xxunk ( xxunk / xxup ii ) , \" xxmaj xxunk xxmaj xxunk 's splendid xxunk at the xxunk xxmaj st. xxmaj xxunk , xxmaj new xxmaj york . xxmaj taken at the exact moment of xxmaj prince xxmaj henry 's xxunk , and the raising of the xxunk standard . \" xxmaj if xxmaj xxunk knew of these necessary xxunk to xxunk xxunk then what was the xxunk of the xxunk xxup xxunk and xxup wwii . xxmaj the quality of xxunk control i xxunk ? \n",
       " \n",
       "  xxmaj thus , did the xxunk of xxmaj xxunk xxmaj xxunk xxunk for a military mission , or a business plan , based on the security xxunk of xxmaj xxunk xxunk ? xxmaj because supposedly their were no survivors , and the ones who were caught in xxmaj europe ordered to be executed . xxmaj of the xxunk man commando team the survivors who were captured were executed under orders of the xxmaj german xxmaj army against xxunk , and xxunk acts of the xxmaj state of xxmaj germany . \n",
       " \n",
       "  xxmaj the xxmaj xxunk xxmaj no . xxunk / xxunk xxunk xxmaj xxunk . xxup xxunk / xxunk , xxmaj xxunk xxup xxunk , 18 xxmaj xxunk xxunk , ( xxunk ) xxmaj xxunk xxmaj hitler ; xxmaj translation of xxmaj document no . xxup xxunk , xxmaj office of xxup u.s. xxmaj chief of xxmaj xxunk , xxunk true copy xxmaj xxunk xxmaj major , xxunk xxup xxunk xxunk xxmaj march xxunk , xxunk , xxunk at the xxup u.s. xxmaj national xxmaj xxunk . \n",
       " \n",
       "  xxmaj the xxup xxunk xxmaj society xxunk xxunk xxmaj xxunk xxmaj xxunk . , xxunk xxunk , xxup xxunk xxunk\n",
       "y: CategoryList\n",
       "positive,positive,positive,positive,positive\n",
       "Path: /home/molly/.fastai/data/imdb_sample;\n",
       "\n",
       "Test: None"
      ]
     },
     "execution_count": 9,
     "metadata": {},
     "output_type": "execute_result"
    }
   ],
   "source": [
    "movie_reviews"
   ]
  },
  {
   "cell_type": "markdown",
   "metadata": {},
   "source": [
    "### Let's examine the`movie_reviews` object:"
   ]
  },
  {
   "cell_type": "code",
   "execution_count": 10,
   "metadata": {},
   "outputs": [
    {
     "data": {
      "text/plain": [
       "['__class__',\n",
       " '__delattr__',\n",
       " '__dict__',\n",
       " '__dir__',\n",
       " '__doc__',\n",
       " '__eq__',\n",
       " '__format__',\n",
       " '__ge__',\n",
       " '__getattr__',\n",
       " '__getattribute__',\n",
       " '__gt__',\n",
       " '__hash__',\n",
       " '__init__',\n",
       " '__init_subclass__',\n",
       " '__le__',\n",
       " '__lt__',\n",
       " '__module__',\n",
       " '__ne__',\n",
       " '__new__',\n",
       " '__reduce__',\n",
       " '__reduce_ex__',\n",
       " '__repr__',\n",
       " '__setattr__',\n",
       " '__setstate__',\n",
       " '__sizeof__',\n",
       " '__str__',\n",
       " '__subclasshook__',\n",
       " '__weakref__',\n",
       " 'add_test',\n",
       " 'add_test_folder',\n",
       " 'databunch',\n",
       " 'filter_by_func',\n",
       " 'get_processors',\n",
       " 'label_const',\n",
       " 'label_empty',\n",
       " 'label_from_df',\n",
       " 'label_from_folder',\n",
       " 'label_from_func',\n",
       " 'label_from_list',\n",
       " 'label_from_lists',\n",
       " 'label_from_re',\n",
       " 'lists',\n",
       " 'load_empty',\n",
       " 'load_state',\n",
       " 'path',\n",
       " 'process',\n",
       " 'test',\n",
       " 'train',\n",
       " 'transform',\n",
       " 'transform_y',\n",
       " 'valid']"
      ]
     },
     "execution_count": 10,
     "metadata": {},
     "output_type": "execute_result"
    }
   ],
   "source": [
    "dir(movie_reviews)"
   ]
  },
  {
   "cell_type": "markdown",
   "metadata": {},
   "source": [
    "### `movie_reviews` splits the data into training and validation sets, `.train` and `.valid` "
   ]
  },
  {
   "cell_type": "code",
   "execution_count": 11,
   "metadata": {},
   "outputs": [
    {
     "name": "stdout",
     "output_type": "stream",
     "text": [
      "There are 800 and 200 reviews in the training and validations sets, respectively.\n"
     ]
    }
   ],
   "source": [
    "print(f'There are {len(movie_reviews.train.x)} and {len(movie_reviews.valid.x)} reviews in the training and validations sets, respectively.')"
   ]
  },
  {
   "cell_type": "markdown",
   "metadata": {},
   "source": [
    "### Reviews are composed of lists of tokens. In NLP, a **token** is the basic unit of processing (what the tokens are depends on the application and your choices). Here, the tokens mostly correspond to words or punctuation, as well as several special tokens, corresponding to unknown words, capitalization, etc."
   ]
  },
  {
   "attachments": {
    "image.png": {
     "image/png": "[encoded data removed]"
    }
   },
   "cell_type": "markdown",
   "metadata": {},
   "source": [
    "### Special tokens:\n",
    "All those tokens starting with \"xx\" are fastai special tokens.  You can see the list of all of them and their meanings ([in the fastai docs](https://docs.fast.ai/text.transform.html)): \n",
    "\n",
    "![image.png](attachment:image.png)"
   ]
  },
  {
   "cell_type": "markdown",
   "metadata": {},
   "source": [
    "### Let's examine the structure of the `training set`"
   ]
  },
  {
   "cell_type": "markdown",
   "metadata": {},
   "source": [
    "#### movie_reviews.train is a `LabelList` object. \n",
    "#### movie_reviews.train.x  is a `TextList` object that holds the reviews\n",
    "#### movie_reviews.train.y is a `CategoryList` object that holds the labels "
   ]
  },
  {
   "cell_type": "code",
   "execution_count": 12,
   "metadata": {},
   "outputs": [
    {
     "name": "stdout",
     "output_type": "stream",
     "text": [
      "\f",
      "There are 800 movie reviews in the training set\n",
      "\n",
      "LabelList (800 items)\n",
      "x: TextList\n",
      "xxbos xxmaj un - xxunk - believable ! xxmaj meg xxmaj ryan does n't even look her usual xxunk lovable self in this , which normally makes me forgive her shallow xxunk acting xxunk . xxmaj hard to believe she was the producer on this dog . xxmaj plus xxmaj kevin xxmaj kline : what kind of suicide trip has his career been on ? xxmaj xxunk ... xxmaj xxunk ! ! ! xxmaj finally this was directed by the guy who did xxmaj big xxmaj xxunk ? xxmaj must be a replay of xxmaj jonestown - hollywood style . xxmaj xxunk !,xxbos xxmaj this is a extremely well - made film . xxmaj the acting , script and camera - work are all first - rate . xxmaj the music is good , too , though it is mostly early in the film , when things are still relatively xxunk . xxmaj there are no really xxunk in the cast , though several faces will be familiar . xxmaj the entire cast does an excellent job with the script . \n",
      " \n",
      "  xxmaj but it is hard to watch , because there is no good end to a situation like the one presented . xxmaj it is now xxunk to blame the xxmaj british for setting xxmaj hindus and xxmaj muslims against each other , and then xxunk xxunk them into two countries . xxmaj there is some merit in this view , but it 's also true that no one forced xxmaj hindus and xxmaj muslims in the region to xxunk each other as they did around the time of partition . xxmaj it seems more likely that the xxmaj british simply saw the xxunk between the xxunk and were clever enough to exploit them to their own ends . \n",
      " \n",
      "  xxmaj the result is that there is much cruelty and inhumanity in the situation and this is very unpleasant to remember and to see on the screen . xxmaj but it is never painted as a black - and - white case . xxmaj there is xxunk and xxunk on both sides , and also the hope for change in the younger generation . \n",
      " \n",
      "  xxmaj there is redemption of a sort , in the end , when xxmaj xxunk has to make a hard choice between a man who has ruined her life , but also truly loved her , and her family which has xxunk her , then later come looking for her . xxmaj but by that point , she has no xxunk that is without great pain for her . \n",
      " \n",
      "  xxmaj this film carries the message that both xxmaj muslims and xxmaj hindus have their grave xxunk , and also that both can be xxunk and caring people . xxmaj the reality of partition makes that xxunk all the more wrenching , since there can never be real xxunk across the xxmaj india / xxmaj pakistan border . xxmaj in that sense , it is similar to \" xxmaj mr & xxmaj xxunk xxmaj xxunk \" . \n",
      " \n",
      "  xxmaj in the end , we were glad to have seen the film , even though the resolution was xxunk . xxmaj if the xxup uk and xxup us could deal with their own xxunk of racism with this kind of xxunk , they would certainly be better off .,xxbos xxmaj every once in a long while a movie will come along that will be so awful that i feel compelled to warn people . xxmaj if i labor all my days and i can save but one soul from watching this movie , how great will be my joy . \n",
      " \n",
      "  xxmaj where to begin my discussion of pain . xxmaj for xxunk , there was a musical xxunk every five minutes . xxmaj there was no character development . xxmaj every character was a stereotype . xxmaj we had xxunk guy , fat guy who eats donuts , goofy foreign guy , etc . xxmaj the script felt as if it were being written as the movie was being shot . xxmaj the production value was so incredibly low that it felt like i was watching a junior high video presentation . xxmaj have the directors , producers , etc . ever even seen a movie before ? xxmaj xxunk is getting worse and worse with every new entry . xxmaj the concept for this movie sounded so funny . xxmaj how could you go wrong with xxmaj gary xxmaj coleman and a handful of somewhat legitimate actors . xxmaj but trust me when i say this , things went wrong , xxup very xxup wrong .,xxbos xxmaj name just says it all . i watched this movie with my dad when it came out and having served in xxmaj xxunk he had great admiration for the man . xxmaj the disappointing thing about this film is that it only xxunk on a short period of the man 's life - interestingly enough the man 's entire life would have made such an epic bio - xxunk that it is staggering to imagine the cost for production . \n",
      " \n",
      "  xxmaj some posters xxunk to the flawed xxunk about the man , which are cheap shots . xxmaj the theme of the movie \" xxmaj duty , xxmaj honor , xxmaj country \" are not just mere words xxunk from the lips of a high - xxunk officer - it is the deep xxunk of one man 's total devotion to his country . \n",
      " \n",
      "  xxmaj ironically xxmaj xxunk being the liberal that he was xxunk a better understanding of the man . xxmaj he does a great job showing the xxunk general xxunk with the xxunk side of the man .,xxbos xxmaj this movie succeeds at being one of the most unique movies you 've seen . xxmaj however this comes from the fact that you ca n't make heads or xxunk of this mess . xxmaj it almost seems as a series of challenges set up to determine whether or not you are willing to walk out of the movie and give up the money you just paid . xxmaj if you do n't want to feel xxunk you 'll sit through this horrible film and develop a real sense of pity for the actors involved , they 've all seen better days , but then you realize they actually got paid quite a bit of money to do this and you 'll lose pity for them just like you 've already done for the film . i ca n't go on enough about this horrible movie , its almost something that xxmaj ed xxmaj wood would have made and in that case it surely would have been his masterpiece . \n",
      " \n",
      "  xxmaj to start you are forced to sit through an opening dialogue the likes of which you 've never seen / heard , this thing has got to be five minutes long . xxmaj on top of that it is narrated , as to suggest that you the viewer can not read . xxmaj then we meet xxmaj mr. xxmaj xxunk and the xxunk of terrible lines gets xxunk , it is as if he is xxunk solely to get lines on to the movie poster xxunk line . xxmaj soon we meet xxmaj stephen xxmaj xxunk , who i typically enjoy ) and he does his best not to drown in this but ultimately he does . xxmaj then comes the ultimate insult , xxmaj tara xxmaj xxunk playing an intelligent role , oh help us ! xxmaj tara xxmaj xxunk is not a very talented actress and somehow she xxunk gets roles in movies , in my opinion though she should stick to movies of the xxmaj american pie type . \n",
      " \n",
      "  xxmaj all in all you just may want to see this for yourself when it comes out on video , i know that i got a kick out of it , i mean lets all be honest here , sometimes its comforting to xxunk in the shortcomings of others .\n",
      "y: CategoryList\n",
      "negative,positive,negative,positive,negative\n",
      "Path: /home/molly/.fastai/data/imdb_sample\n"
     ]
    }
   ],
   "source": [
    "print(f'\\fThere are {len(movie_reviews.train.x)} movie reviews in the training set\\n')\n",
    "print(movie_reviews.train)"
   ]
  },
  {
   "cell_type": "markdown",
   "metadata": {},
   "source": [
    "#### The text of the movie review is stored as a character `string`, which contains the tokens separated by spaces. Here is the text of the first review:"
   ]
  },
  {
   "cell_type": "code",
   "execution_count": 13,
   "metadata": {},
   "outputs": [
    {
     "name": "stdout",
     "output_type": "stream",
     "text": [
      "xxbos xxmaj un - xxunk - believable ! xxmaj meg xxmaj ryan does n't even look her usual xxunk lovable self in this , which normally makes me forgive her shallow xxunk acting xxunk . xxmaj hard to believe she was the producer on this dog . xxmaj plus xxmaj kevin xxmaj kline : what kind of suicide trip has his career been on ? xxmaj xxunk ... xxmaj xxunk ! ! ! xxmaj finally this was directed by the guy who did xxmaj big xxmaj xxunk ? xxmaj must be a replay of xxmaj jonestown - hollywood style . xxmaj xxunk !\n",
      "\n",
      "There are 511 characters in the review\n"
     ]
    }
   ],
   "source": [
    "print(movie_reviews.train.x[0].text)\n",
    "print(f'\\nThere are {len(movie_reviews.train.x[0].text)} characters in the review')"
   ]
  },
  {
   "cell_type": "markdown",
   "metadata": {},
   "source": [
    "#### The text string can be split to get the list of tokens."
   ]
  },
  {
   "cell_type": "code",
   "execution_count": 14,
   "metadata": {},
   "outputs": [
    {
     "name": "stdout",
     "output_type": "stream",
     "text": [
      "['xxbos', 'xxmaj', 'un', '-', 'xxunk', '-', 'believable', '!', 'xxmaj', 'meg', 'xxmaj', 'ryan', 'does', \"n't\", 'even', 'look', 'her', 'usual', 'xxunk', 'lovable', 'self', 'in', 'this', ',', 'which', 'normally', 'makes', 'me', 'forgive', 'her', 'shallow', 'xxunk', 'acting', 'xxunk', '.', 'xxmaj', 'hard', 'to', 'believe', 'she', 'was', 'the', 'producer', 'on', 'this', 'dog', '.', 'xxmaj', 'plus', 'xxmaj', 'kevin', 'xxmaj', 'kline', ':', 'what', 'kind', 'of', 'suicide', 'trip', 'has', 'his', 'career', 'been', 'on', '?', 'xxmaj', 'xxunk', '...', 'xxmaj', 'xxunk', '!', '!', '!', 'xxmaj', 'finally', 'this', 'was', 'directed', 'by', 'the', 'guy', 'who', 'did', 'xxmaj', 'big', 'xxmaj', 'xxunk', '?', 'xxmaj', 'must', 'be', 'a', 'replay', 'of', 'xxmaj', 'jonestown', '-', 'hollywood', 'style', '.', 'xxmaj', 'xxunk', '!']\n",
      "\n",
      "The review has 103 tokens\n"
     ]
    }
   ],
   "source": [
    "print(movie_reviews.train.x[0].text.split())\n",
    "print(f'\\nThe review has {len(movie_reviews.train.x[0].text.split())} tokens')"
   ]
  },
  {
   "cell_type": "markdown",
   "metadata": {},
   "source": [
    "#### The review tokens are `numericalized`, ie. mapped to integers.  So a movie review is also stored as an array of integers:"
   ]
  },
  {
   "cell_type": "code",
   "execution_count": 15,
   "metadata": {},
   "outputs": [
    {
     "name": "stdout",
     "output_type": "stream",
     "text": [
      "[   2    5 4619   25 ...   10    5    0   52]\n",
      "\n",
      "The array contains 103 numericalized tokens\n"
     ]
    }
   ],
   "source": [
    "print(movie_reviews.train.x[0].data)\n",
    "print(f'\\nThe array contains {len(movie_reviews.train.x[0].data)} numericalized tokens')"
   ]
  },
  {
   "cell_type": "markdown",
   "metadata": {},
   "source": [
    "## 2. The IMDb Vocabulary"
   ]
  },
  {
   "cell_type": "markdown",
   "metadata": {},
   "source": [
    "### The `movie_revews` object also contains a `.vocab` property, even though it is not shown with`dir()`. (This may be an error in the `fastai` library.) "
   ]
  },
  {
   "cell_type": "code",
   "execution_count": 16,
   "metadata": {},
   "outputs": [
    {
     "data": {
      "text/plain": [
       "defaultdict(int,\n",
       "            {'xxunk': 0,\n",
       "             'xxpad': 1,\n",
       "             'xxbos': 2,\n",
       "             'xxeos': 3,\n",
       "             'xxfld': 4,\n",
       "             'xxmaj': 5,\n",
       "             'xxup': 6,\n",
       "             'xxrep': 7,\n",
       "             'xxwrep': 8,\n",
       "             'the': 9,\n",
       "             '.': 10,\n",
       "             ',': 11,\n",
       "             'and': 12,\n",
       "             'a': 13,\n",
       "             'of': 14,\n",
       "             'to': 15,\n",
       "             'is': 16,\n",
       "             'it': 17,\n",
       "             'in': 18,\n",
       "             'i': 19,\n",
       "             'that': 20,\n",
       "             'this': 21,\n",
       "             '\"': 22,\n",
       "             \"'s\": 23,\n",
       "             '\\n \\n ': 24,\n",
       "             '-': 25,\n",
       "             'was': 26,\n",
       "             'as': 27,\n",
       "             'for': 28,\n",
       "             'movie': 29,\n",
       "             'with': 30,\n",
       "             'but': 31,\n",
       "             'film': 32,\n",
       "             'you': 33,\n",
       "             ')': 34,\n",
       "             'on': 35,\n",
       "             '(': 36,\n",
       "             \"n't\": 37,\n",
       "             'are': 38,\n",
       "             'he': 39,\n",
       "             'his': 40,\n",
       "             'not': 41,\n",
       "             'have': 42,\n",
       "             'be': 43,\n",
       "             'one': 44,\n",
       "             'they': 45,\n",
       "             'all': 46,\n",
       "             'at': 47,\n",
       "             'by': 48,\n",
       "             'an': 49,\n",
       "             'from': 50,\n",
       "             'like': 51,\n",
       "             '!': 52,\n",
       "             'so': 53,\n",
       "             'who': 54,\n",
       "             'there': 55,\n",
       "             'about': 56,\n",
       "             'just': 57,\n",
       "             'out': 58,\n",
       "             'if': 59,\n",
       "             'or': 60,\n",
       "             'do': 61,\n",
       "             \"'\": 62,\n",
       "             'what': 63,\n",
       "             'her': 64,\n",
       "             'has': 65,\n",
       "             'some': 66,\n",
       "             'more': 67,\n",
       "             'good': 68,\n",
       "             'when': 69,\n",
       "             'up': 70,\n",
       "             'very': 71,\n",
       "             '?': 72,\n",
       "             'she': 73,\n",
       "             'would': 74,\n",
       "             'no': 75,\n",
       "             'really': 76,\n",
       "             'were': 77,\n",
       "             'their': 78,\n",
       "             'my': 79,\n",
       "             'had': 80,\n",
       "             'time': 81,\n",
       "             'can': 82,\n",
       "             'only': 83,\n",
       "             'which': 84,\n",
       "             'even': 85,\n",
       "             'see': 86,\n",
       "             'story': 87,\n",
       "             'me': 88,\n",
       "             'into': 89,\n",
       "             'did': 90,\n",
       "             ':': 91,\n",
       "             'well': 92,\n",
       "             'we': 93,\n",
       "             'will': 94,\n",
       "             'does': 95,\n",
       "             'than': 96,\n",
       "             'also': 97,\n",
       "             'get': 98,\n",
       "             '...': 99,\n",
       "             'people': 100,\n",
       "             'other': 101,\n",
       "             'bad': 102,\n",
       "             'been': 103,\n",
       "             'could': 104,\n",
       "             'first': 105,\n",
       "             'much': 106,\n",
       "             'how': 107,\n",
       "             'most': 108,\n",
       "             'any': 109,\n",
       "             'because': 110,\n",
       "             'two': 111,\n",
       "             'then': 112,\n",
       "             'great': 113,\n",
       "             'him': 114,\n",
       "             'its': 115,\n",
       "             'too': 116,\n",
       "             'made': 117,\n",
       "             'them': 118,\n",
       "             'after': 119,\n",
       "             'movies': 120,\n",
       "             'make': 121,\n",
       "             '/': 122,\n",
       "             'way': 123,\n",
       "             'think': 124,\n",
       "             'never': 125,\n",
       "             'watch': 126,\n",
       "             'acting': 127,\n",
       "             'seen': 128,\n",
       "             ';': 129,\n",
       "             'films': 130,\n",
       "             'plot': 131,\n",
       "             'being': 132,\n",
       "             'many': 133,\n",
       "             'over': 134,\n",
       "             'where': 135,\n",
       "             'character': 136,\n",
       "             'man': 137,\n",
       "             'little': 138,\n",
       "             'better': 139,\n",
       "             'life': 140,\n",
       "             'characters': 141,\n",
       "             'love': 142,\n",
       "             'your': 143,\n",
       "             'here': 144,\n",
       "             'know': 145,\n",
       "             'scenes': 146,\n",
       "             'best': 147,\n",
       "             'end': 148,\n",
       "             'show': 149,\n",
       "             'while': 150,\n",
       "             'through': 151,\n",
       "             'should': 152,\n",
       "             'off': 153,\n",
       "             'ever': 154,\n",
       "             'these': 155,\n",
       "             'go': 156,\n",
       "             'such': 157,\n",
       "             'say': 158,\n",
       "             '--': 159,\n",
       "             'something': 160,\n",
       "             'scene': 161,\n",
       "             'still': 162,\n",
       "             'before': 163,\n",
       "             'though': 164,\n",
       "             'watching': 165,\n",
       "             'between': 166,\n",
       "             'actually': 167,\n",
       "             'old': 168,\n",
       "             '10': 169,\n",
       "             'find': 170,\n",
       "             'back': 171,\n",
       "             'now': 172,\n",
       "             'why': 173,\n",
       "             'years': 174,\n",
       "             \"'ve\": 175,\n",
       "             'actors': 176,\n",
       "             'fact': 177,\n",
       "             'those': 178,\n",
       "             \"'m\": 179,\n",
       "             'thing': 180,\n",
       "             'pretty': 181,\n",
       "             'quite': 182,\n",
       "             'part': 183,\n",
       "             'going': 184,\n",
       "             'same': 185,\n",
       "             'real': 186,\n",
       "             'another': 187,\n",
       "             'down': 188,\n",
       "             '*': 189,\n",
       "             'funny': 190,\n",
       "             'nothing': 191,\n",
       "             'look': 192,\n",
       "             'makes': 193,\n",
       "             'new': 194,\n",
       "             'want': 195,\n",
       "             'action': 196,\n",
       "             '&': 197,\n",
       "             'director': 198,\n",
       "             'work': 199,\n",
       "             'few': 200,\n",
       "             \"'re\": 201,\n",
       "             'seems': 202,\n",
       "             'around': 203,\n",
       "             'world': 204,\n",
       "             'point': 205,\n",
       "             'without': 206,\n",
       "             'cast': 207,\n",
       "             'again': 208,\n",
       "             'own': 209,\n",
       "             'both': 210,\n",
       "             'lot': 211,\n",
       "             'enough': 212,\n",
       "             'every': 213,\n",
       "             'family': 214,\n",
       "             'got': 215,\n",
       "             'ca': 216,\n",
       "             \"'ll\": 217,\n",
       "             'probably': 218,\n",
       "             'big': 219,\n",
       "             'bit': 220,\n",
       "             'might': 221,\n",
       "             'things': 222,\n",
       "             'horror': 223,\n",
       "             'us': 224,\n",
       "             'almost': 225,\n",
       "             'may': 226,\n",
       "             'right': 227,\n",
       "             'must': 228,\n",
       "             'away': 229,\n",
       "             'thought': 230,\n",
       "             'interesting': 231,\n",
       "             'least': 232,\n",
       "             'whole': 233,\n",
       "             'series': 234,\n",
       "             'gets': 235,\n",
       "             'each': 236,\n",
       "             'give': 237,\n",
       "             'young': 238,\n",
       "             'however': 239,\n",
       "             'making': 240,\n",
       "             'day': 241,\n",
       "             'fun': 242,\n",
       "             'anything': 243,\n",
       "             'minutes': 244,\n",
       "             'kind': 245,\n",
       "             'come': 246,\n",
       "             'girl': 247,\n",
       "             'saw': 248,\n",
       "             'script': 249,\n",
       "             'take': 250,\n",
       "             'long': 251,\n",
       "             'times': 252,\n",
       "             'someone': 253,\n",
       "             'found': 254,\n",
       "             'done': 255,\n",
       "             'feel': 256,\n",
       "             'far': 257,\n",
       "             'since': 258,\n",
       "             'role': 259,\n",
       "             'original': 260,\n",
       "             'course': 261,\n",
       "             'goes': 262,\n",
       "             'last': 263,\n",
       "             'true': 264,\n",
       "             'simply': 265,\n",
       "             'always': 266,\n",
       "             \"'d\": 267,\n",
       "             'tv': 268,\n",
       "             'hard': 269,\n",
       "             'place': 270,\n",
       "             'set': 271,\n",
       "             'trying': 272,\n",
       "             'believe': 273,\n",
       "             'shot': 274,\n",
       "             'comes': 275,\n",
       "             'actor': 276,\n",
       "             'yet': 277,\n",
       "             '4': 278,\n",
       "             'having': 279,\n",
       "             'book': 280,\n",
       "             'looks': 281,\n",
       "             'guy': 282,\n",
       "             'screen': 283,\n",
       "             'later': 284,\n",
       "             'shows': 285,\n",
       "             'performance': 286,\n",
       "             'worth': 287,\n",
       "             'comedy': 288,\n",
       "             'sure': 289,\n",
       "             'looking': 290,\n",
       "             'sense': 291,\n",
       "             'star': 292,\n",
       "             'effects': 293,\n",
       "             'read': 294,\n",
       "             'takes': 295,\n",
       "             'although': 296,\n",
       "             'audience': 297,\n",
       "             'ending': 298,\n",
       "             'john': 299,\n",
       "             'anyone': 300,\n",
       "             'worst': 301,\n",
       "             'american': 302,\n",
       "             'year': 303,\n",
       "             'especially': 304,\n",
       "             'women': 305,\n",
       "             'together': 306,\n",
       "             'dvd': 307,\n",
       "             'instead': 308,\n",
       "             'different': 309,\n",
       "             'am': 310,\n",
       "             'woman': 311,\n",
       "             'men': 312,\n",
       "             '2': 313,\n",
       "             'our': 314,\n",
       "             'played': 315,\n",
       "             'music': 316,\n",
       "             'special': 317,\n",
       "             'three': 318,\n",
       "             'rest': 319,\n",
       "             'put': 320,\n",
       "             'maybe': 321,\n",
       "             'wife': 322,\n",
       "             'kids': 323,\n",
       "             'war': 324,\n",
       "             'left': 325,\n",
       "             'black': 326,\n",
       "             'once': 327,\n",
       "             'second': 328,\n",
       "             'watched': 329,\n",
       "             'next': 330,\n",
       "             'friends': 331,\n",
       "             'rather': 332,\n",
       "             'let': 333,\n",
       "             '\\x96': 334,\n",
       "             'job': 335,\n",
       "             'start': 336,\n",
       "             'others': 337,\n",
       "             'budget': 338,\n",
       "             'need': 339,\n",
       "             'mind': 340,\n",
       "             'said': 341,\n",
       "             'main': 342,\n",
       "             'else': 343,\n",
       "             'wrong': 344,\n",
       "             'beautiful': 345,\n",
       "             'half': 346,\n",
       "             'high': 347,\n",
       "             'idea': 348,\n",
       "             'death': 349,\n",
       "             'tell': 350,\n",
       "             'help': 351,\n",
       "             'nice': 352,\n",
       "             'seem': 353,\n",
       "             'perhaps': 354,\n",
       "             'hollywood': 355,\n",
       "             'everyone': 356,\n",
       "             'play': 357,\n",
       "             'case': 358,\n",
       "             'production': 359,\n",
       "             'piece': 360,\n",
       "             'episode': 361,\n",
       "             'camera': 362,\n",
       "             'low': 363,\n",
       "             'already': 364,\n",
       "             'top': 365,\n",
       "             'poor': 366,\n",
       "             'during': 367,\n",
       "             '3': 368,\n",
       "             'stars': 369,\n",
       "             'house': 370,\n",
       "             '..': 371,\n",
       "             'couple': 372,\n",
       "             'boring': 373,\n",
       "             'reason': 374,\n",
       "             'try': 375,\n",
       "             'along': 376,\n",
       "             'name': 377,\n",
       "             'small': 378,\n",
       "             'plays': 379,\n",
       "             'father': 380,\n",
       "             'everything': 381,\n",
       "             'used': 382,\n",
       "             'video': 383,\n",
       "             'getting': 384,\n",
       "             'money': 385,\n",
       "             'full': 386,\n",
       "             'less': 387,\n",
       "             'performances': 388,\n",
       "             'often': 389,\n",
       "             'liked': 390,\n",
       "             'came': 391,\n",
       "             '1': 392,\n",
       "             'robert': 393,\n",
       "             'either': 394,\n",
       "             'fan': 395,\n",
       "             'given': 396,\n",
       "             'hand': 397,\n",
       "             'kill': 398,\n",
       "             'felt': 399,\n",
       "             'yes': 400,\n",
       "             'completely': 401,\n",
       "             'night': 402,\n",
       "             'children': 403,\n",
       "             'himself': 404,\n",
       "             'girls': 405,\n",
       "             'early': 406,\n",
       "             'awful': 407,\n",
       "             'oh': 408,\n",
       "             'live': 409,\n",
       "             'picture': 410,\n",
       "             'parts': 411,\n",
       "             'throughout': 412,\n",
       "             'until': 413,\n",
       "             'become': 414,\n",
       "             'town': 415,\n",
       "             'written': 416,\n",
       "             'terrible': 417,\n",
       "             'turn': 418,\n",
       "             'child': 419,\n",
       "             'despite': 420,\n",
       "             'moments': 421,\n",
       "             'boy': 422,\n",
       "             'problem': 423,\n",
       "             'head': 424,\n",
       "             'stupid': 425,\n",
       "             'beginning': 426,\n",
       "             'home': 427,\n",
       "             'version': 428,\n",
       "             'able': 429,\n",
       "             'excellent': 430,\n",
       "             'sometimes': 431,\n",
       "             'overall': 432,\n",
       "             'recommend': 433,\n",
       "             'sex': 434,\n",
       "             'keep': 435,\n",
       "             'human': 436,\n",
       "             'drama': 437,\n",
       "             'hero': 438,\n",
       "             'supposed': 439,\n",
       "             'seemed': 440,\n",
       "             'use': 441,\n",
       "             'writing': 442,\n",
       "             'wo': 443,\n",
       "             'remember': 444,\n",
       "             'went': 445,\n",
       "             'enjoy': 446,\n",
       "             'classic': 447,\n",
       "             'person': 448,\n",
       "             'killer': 449,\n",
       "             'lost': 450,\n",
       "             'late': 451,\n",
       "             '5': 452,\n",
       "             'title': 453,\n",
       "             'king': 454,\n",
       "             'entire': 455,\n",
       "             'history': 456,\n",
       "             'son': 457,\n",
       "             'school': 458,\n",
       "             'lead': 459,\n",
       "             'english': 460,\n",
       "             'sound': 461,\n",
       "             'cinema': 462,\n",
       "             'seeing': 463,\n",
       "             'unfortunately': 464,\n",
       "             'genre': 465,\n",
       "             'sort': 466,\n",
       "             'mean': 467,\n",
       "             'friend': 468,\n",
       "             'fans': 469,\n",
       "             'close': 470,\n",
       "             'quality': 471,\n",
       "             'definitely': 472,\n",
       "             'james': 473,\n",
       "             'worse': 474,\n",
       "             'says': 475,\n",
       "             'except': 476,\n",
       "             'doing': 477,\n",
       "             'itself': 478,\n",
       "             'past': 479,\n",
       "             'certainly': 480,\n",
       "             'days': 481,\n",
       "             'five': 482,\n",
       "             'dialogue': 483,\n",
       "             'line': 484,\n",
       "             'anyway': 485,\n",
       "             'under': 486,\n",
       "             'tries': 487,\n",
       "             'called': 488,\n",
       "             'fine': 489,\n",
       "             'guys': 490,\n",
       "             'care': 491,\n",
       "             'style': 492,\n",
       "             'hope': 493,\n",
       "             'short': 494,\n",
       "             'lines': 495,\n",
       "             'told': 496,\n",
       "             'car': 497,\n",
       "             'decent': 498,\n",
       "             'brother': 499,\n",
       "             'killed': 500,\n",
       "             'wanted': 501,\n",
       "             'entertaining': 502,\n",
       "             'based': 503,\n",
       "             'absolutely': 504,\n",
       "             'feeling': 505,\n",
       "             'truly': 506,\n",
       "             'etc': 507,\n",
       "             'heard': 508,\n",
       "             'serious': 509,\n",
       "             'run': 510,\n",
       "             'wonderful': 511,\n",
       "             'lives': 512,\n",
       "             'gives': 513,\n",
       "             'moment': 514,\n",
       "             'game': 515,\n",
       "             'documentary': 516,\n",
       "             'self': 517,\n",
       "             'several': 518,\n",
       "             'waste': 519,\n",
       "             'dead': 520,\n",
       "             'blood': 521,\n",
       "             'matter': 522,\n",
       "             'wonder': 523,\n",
       "             'humor': 524,\n",
       "             'thinking': 525,\n",
       "             'against': 526,\n",
       "             'white': 527,\n",
       "             'side': 528,\n",
       "             'works': 529,\n",
       "             'mother': 530,\n",
       "             'flick': 531,\n",
       "             'stuff': 532,\n",
       "             'turns': 533,\n",
       "             'finally': 534,\n",
       "             'loved': 535,\n",
       "             'group': 536,\n",
       "             'wants': 537,\n",
       "             'face': 538,\n",
       "             'guess': 539,\n",
       "             'dark': 540,\n",
       "             'city': 541,\n",
       "             'events': 542,\n",
       "             'starts': 543,\n",
       "             'hour': 544,\n",
       "             'took': 545,\n",
       "             'george': 546,\n",
       "             'themselves': 547,\n",
       "             'red': 548,\n",
       "             'behind': 549,\n",
       "             'talking': 550,\n",
       "             'hit': 551,\n",
       "             'eyes': 552,\n",
       "             'attempt': 553,\n",
       "             'direction': 554,\n",
       "             'novel': 555,\n",
       "             'saying': 556,\n",
       "             'word': 557,\n",
       "             'dull': 558,\n",
       "             'light': 559,\n",
       "             'view': 560,\n",
       "             'playing': 561,\n",
       "             'opinion': 562,\n",
       "             'expect': 563,\n",
       "             'evil': 564,\n",
       "             'ten': 565,\n",
       "             'violence': 566,\n",
       "             'local': 567,\n",
       "             'final': 568,\n",
       "             'gave': 569,\n",
       "             'leave': 570,\n",
       "             'paul': 571,\n",
       "             'crap': 572,\n",
       "             'happens': 573,\n",
       "             'knows': 574,\n",
       "             'problems': 575,\n",
       "             'example': 576,\n",
       "             'relationship': 577,\n",
       "             'non': 578,\n",
       "             'michael': 579,\n",
       "             'victor': 580,\n",
       "             'ridiculous': 581,\n",
       "             'god': 582,\n",
       "             'similar': 583,\n",
       "             'general': 584,\n",
       "             'major': 585,\n",
       "             'bunch': 586,\n",
       "             'sister': 587,\n",
       "             'oscar': 588,\n",
       "             'turned': 589,\n",
       "             'brilliant': 590,\n",
       "             'highly': 591,\n",
       "             'nearly': 592,\n",
       "             'de': 593,\n",
       "             'please': 594,\n",
       "             'romance': 595,\n",
       "             'body': 596,\n",
       "             'extremely': 597,\n",
       "             'mr.': 598,\n",
       "             'soon': 599,\n",
       "             'yourself': 600,\n",
       "             'known': 601,\n",
       "             'lack': 602,\n",
       "             'age': 603,\n",
       "             'interest': 604,\n",
       "             'ago': 605,\n",
       "             'stories': 606,\n",
       "             'exactly': 607,\n",
       "             'finds': 608,\n",
       "             'modern': 609,\n",
       "             'voice': 610,\n",
       "             'perfect': 611,\n",
       "             'heart': 612,\n",
       "             'alone': 613,\n",
       "             'tells': 614,\n",
       "             'daughter': 615,\n",
       "             'directed': 616,\n",
       "             'needs': 617,\n",
       "             'kid': 618,\n",
       "             'lady': 619,\n",
       "             'sad': 620,\n",
       "             'fight': 621,\n",
       "             'happened': 622,\n",
       "             'eye': 623,\n",
       "             'favorite': 624,\n",
       "             'using': 625,\n",
       "             'upon': 626,\n",
       "             'ben': 627,\n",
       "             'none': 628,\n",
       "             'beyond': 629,\n",
       "             'nature': 630,\n",
       "             'change': 631,\n",
       "             'save': 632,\n",
       "             'shots': 633,\n",
       "             'country': 634,\n",
       "             'number': 635,\n",
       "             'shown': 636,\n",
       "             'surprised': 637,\n",
       "             'romantic': 638,\n",
       "             'huge': 639,\n",
       "             'murder': 640,\n",
       "             'steve': 641,\n",
       "             'slow': 642,\n",
       "             'myself': 643,\n",
       "             'woods': 644,\n",
       "             'apparently': 645,\n",
       "             'lake': 646,\n",
       "             'cheap': 647,\n",
       "             'involved': 648,\n",
       "             'roles': 649,\n",
       "             '6': 650,\n",
       "             'gore': 651,\n",
       "             'obviously': 652,\n",
       "             'knew': 653,\n",
       "             'level': 654,\n",
       "             '8': 655,\n",
       "             'experience': 656,\n",
       "             'became': 657,\n",
       "             'gone': 658,\n",
       "             'cover': 659,\n",
       "             'amazing': 660,\n",
       "             'create': 661,\n",
       "             'living': 662,\n",
       "             'usually': 663,\n",
       "             'order': 664,\n",
       "             'monster': 665,\n",
       "             'happen': 666,\n",
       "             'list': 667,\n",
       "             'clearly': 668,\n",
       "             'power': 669,\n",
       "             'features': 670,\n",
       "             're': 671,\n",
       "             'subject': 672,\n",
       "             'across': 673,\n",
       "             'parents': 674,\n",
       "             'seriously': 675,\n",
       "             'ways': 676,\n",
       "             'room': 677,\n",
       "             'filmed': 678,\n",
       "             'cheesy': 679,\n",
       "             'disappointed': 680,\n",
       "             'important': 681,\n",
       "             'plenty': 682,\n",
       "             '7': 683,\n",
       "             'particular': 684,\n",
       "             'started': 685,\n",
       "             'today': 686,\n",
       "             'enjoyed': 687,\n",
       "             'cinematography': 688,\n",
       "             'annoying': 689,\n",
       "             'looked': 690,\n",
       "             'supporting': 691,\n",
       "             'mostly': 692,\n",
       "             'message': 693,\n",
       "             'somewhat': 694,\n",
       "             'viewer': 695,\n",
       "             'type': 696,\n",
       "             'certain': 697,\n",
       "             'release': 698,\n",
       "             'effort': 699,\n",
       "             'possible': 700,\n",
       "             'add': 701,\n",
       "             'figure': 702,\n",
       "             'named': 703,\n",
       "             'wish': 704,\n",
       "             'difficult': 705,\n",
       "             'falls': 706,\n",
       "             'four': 707,\n",
       "             'husband': 708,\n",
       "             'score': 709,\n",
       "             'leads': 710,\n",
       "             'form': 711,\n",
       "             'working': 712,\n",
       "             'writer': 713,\n",
       "             'sets': 714,\n",
       "             'including': 715,\n",
       "             'enjoyable': 716,\n",
       "             'ok': 717,\n",
       "             'note': 718,\n",
       "             'spent': 719,\n",
       "             'review': 720,\n",
       "             'art': 721,\n",
       "             'police': 722,\n",
       "             'sit': 723,\n",
       "             'horrible': 724,\n",
       "             'actress': 725,\n",
       "             'ones': 726,\n",
       "             'bring': 727,\n",
       "             'greatest': 728,\n",
       "             'dance': 729,\n",
       "             'earth': 730,\n",
       "             'becomes': 731,\n",
       "             'happy': 732,\n",
       "             'cut': 733,\n",
       "             'straight': 734,\n",
       "             'soundtrack': 735,\n",
       "             'leading': 736,\n",
       "             'laugh': 737,\n",
       "             'strange': 738,\n",
       "             'space': 739,\n",
       "             'b': 740,\n",
       "             'tale': 741,\n",
       "             'comic': 742,\n",
       "             'near': 743,\n",
       "             'due': 744,\n",
       "             'weak': 745,\n",
       "             'earlier': 746,\n",
       "             'follow': 747,\n",
       "             'british': 748,\n",
       "             'ends': 749,\n",
       "             'typical': 750,\n",
       "             'attention': 751,\n",
       "             'points': 752,\n",
       "             'talent': 753,\n",
       "             'tom': 754,\n",
       "             'female': 755,\n",
       "             'future': 756,\n",
       "             'fall': 757,\n",
       "             'laughs': 758,\n",
       "             'stop': 759,\n",
       "             'easy': 760,\n",
       "             'moving': 761,\n",
       "             'apart': 762,\n",
       "             'chance': 763,\n",
       "             'running': 764,\n",
       "             'york': 765,\n",
       "             'particularly': 766,\n",
       "             'luke': 767,\n",
       "             'bill': 768,\n",
       "             'forced': 769,\n",
       "             'theme': 770,\n",
       "             'rating': 771,\n",
       "             'coming': 772,\n",
       "             'davis': 773,\n",
       "             'totally': 774,\n",
       "             'realistic': 775,\n",
       "             'simple': 776,\n",
       "             'hours': 777,\n",
       "             'taken': 778,\n",
       "             'indeed': 779,\n",
       "             'released': 780,\n",
       "             'sexual': 781,\n",
       "             'feels': 782,\n",
       "             'french': 783,\n",
       "             'screenplay': 784,\n",
       "             'la': 785,\n",
       "             'jokes': 786,\n",
       "             'sequences': 787,\n",
       "             'chase': 788,\n",
       "             'portrayed': 789,\n",
       "             'dramatic': 790,\n",
       "             'mention': 791,\n",
       "             'talk': 792,\n",
       "             'gun': 793,\n",
       "             'thriller': 794,\n",
       "             'jimmy': 795,\n",
       "             'career': 796,\n",
       "             'reality': 797,\n",
       "             'incredibly': 798,\n",
       "             'whether': 799,\n",
       "             'towards': 800,\n",
       "             'easily': 801,\n",
       "             'entertainment': 802,\n",
       "             'feature': 803,\n",
       "             'western': 804,\n",
       "             'dialog': 805,\n",
       "             'business': 806,\n",
       "             'suspense': 807,\n",
       "             'focus': 808,\n",
       "             'doubt': 809,\n",
       "             'possibly': 810,\n",
       "             'water': 811,\n",
       "             'gay': 812,\n",
       "             'blob': 813,\n",
       "             'comments': 814,\n",
       "             'brothers': 815,\n",
       "             'clear': 816,\n",
       "             'agree': 817,\n",
       "             'allen': 818,\n",
       "             'door': 819,\n",
       "             'editing': 820,\n",
       "             'third': 821,\n",
       "             'deserves': 822,\n",
       "             'silly': 823,\n",
       "             'fantastic': 824,\n",
       "             'convincing': 825,\n",
       "             'hardly': 826,\n",
       "             'lame': 827,\n",
       "             'act': 828,\n",
       "             'former': 829,\n",
       "             'material': 830,\n",
       "             'appears': 831,\n",
       "             'understand': 832,\n",
       "             'twist': 833,\n",
       "             'episodes': 834,\n",
       "             'buy': 835,\n",
       "             'secret': 836,\n",
       "             'richard': 837,\n",
       "             'south': 838,\n",
       "             'bourne': 839,\n",
       "             'deal': 840,\n",
       "             'musical': 841,\n",
       "             'words': 842,\n",
       "             'unique': 843,\n",
       "             'mess': 844,\n",
       "             'opening': 845,\n",
       "             'society': 846,\n",
       "             'avoid': 847,\n",
       "             'footage': 848,\n",
       "             'joe': 849,\n",
       "             'free': 850,\n",
       "             'forget': 851,\n",
       "             'herself': 852,\n",
       "             'appear': 853,\n",
       "             'obvious': 854,\n",
       "             'box': 855,\n",
       "             'single': 856,\n",
       "             'average': 857,\n",
       "             'indian': 858,\n",
       "             'rent': 859,\n",
       "             'okay': 860,\n",
       "             'scary': 861,\n",
       "             'within': 862,\n",
       "             'office': 863,\n",
       "             'crime': 864,\n",
       "             'science': 865,\n",
       "             '80': 866,\n",
       "             'believable': 867,\n",
       "             'period': 868,\n",
       "             'showing': 869,\n",
       "             'call': 870,\n",
       "             'return': 871,\n",
       "             'keeps': 872,\n",
       "             'lee': 873,\n",
       "             'expected': 874,\n",
       "             'stay': 875,\n",
       "             'middle': 876,\n",
       "             'jack': 877,\n",
       "             'hands': 878,\n",
       "             'david': 879,\n",
       "             'attempts': 880,\n",
       "             'strong': 881,\n",
       "             'tension': 882,\n",
       "             'crew': 883,\n",
       "             'hilarious': 884,\n",
       "             'grade': 885,\n",
       "             'outside': 886,\n",
       "             'means': 887,\n",
       "             'viewing': 888,\n",
       "             'sadly': 889,\n",
       "             'hell': 890,\n",
       "             'whatever': 891,\n",
       "             'sorry': 892,\n",
       "             'recently': 893,\n",
       "             'stage': 894,\n",
       "             'decides': 895,\n",
       "             'hear': 896,\n",
       "             'team': 897,\n",
       "             'learn': 898,\n",
       "             'nor': 899,\n",
       "             'open': 900,\n",
       "             'break': 901,\n",
       "             'question': 902,\n",
       "             'remake': 903,\n",
       "             'porn': 904,\n",
       "             'pain': 905,\n",
       "             'imagine': 906,\n",
       "             'deep': 907,\n",
       "             'zombie': 908,\n",
       "             'basically': 909,\n",
       "             'killing': 910,\n",
       "             'company': 911,\n",
       "             'poorly': 912,\n",
       "             'dr.': 913,\n",
       "             'predictable': 914,\n",
       "             'taking': 915,\n",
       "             'large': 916,\n",
       "             'language': 917,\n",
       "             'giving': 918,\n",
       "             'public': 919,\n",
       "             'audiences': 920,\n",
       "             'ask': 921,\n",
       "             'cool': 922,\n",
       "             'america': 923,\n",
       "             'slasher': 924,\n",
       "             'west': 925,\n",
       "             'mentioned': 926,\n",
       "             'die': 927,\n",
       "             'christmas': 928,\n",
       "             'complete': 929,\n",
       "             'needed': 930,\n",
       "             'martin': 931,\n",
       "             'cgi': 932,\n",
       "             'boys': 933,\n",
       "             'vargas': 934,\n",
       "             'usual': 935,\n",
       "             'begin': 936,\n",
       "             'dad': 937,\n",
       "             'total': 938,\n",
       "             'somehow': 939,\n",
       "             'stick': 940,\n",
       "             'shame': 941,\n",
       "             'successful': 942,\n",
       "             'sitting': 943,\n",
       "             'fred': 944,\n",
       "             'meets': 945,\n",
       "             'unless': 946,\n",
       "             'dancing': 947,\n",
       "             'sounds': 948,\n",
       "             'above': 949,\n",
       "             'elements': 950,\n",
       "             'whose': 951,\n",
       "             'german': 952,\n",
       "             'considering': 953,\n",
       "             'caught': 954,\n",
       "             'credit': 955,\n",
       "             'interested': 956,\n",
       "             'move': 957,\n",
       "             'filming': 958,\n",
       "             'truth': 959,\n",
       "             'eventually': 960,\n",
       "             'share': 961,\n",
       "             'ability': 962,\n",
       "             'meaning': 963,\n",
       "             'agent': 964,\n",
       "             'fast': 965,\n",
       "             'stand': 966,\n",
       "             'onto': 967,\n",
       "             'plain': 968,\n",
       "             'comment': 969,\n",
       "             'kept': 970,\n",
       "             'situation': 971,\n",
       "             'setting': 972,\n",
       "             'value': 973,\n",
       "             'willing': 974,\n",
       "             'realize': 975,\n",
       "             'acted': 976,\n",
       "             'weird': 977,\n",
       "             'alive': 978,\n",
       "             'fairly': 979,\n",
       "             'dream': 980,\n",
       "             'building': 981,\n",
       "             'hair': 982,\n",
       "             'bored': 983,\n",
       "             'minute': 984,\n",
       "             'emotional': 985,\n",
       "             'directing': 986,\n",
       "             'theatrical': 987,\n",
       "             'famous': 988,\n",
       "             'begins': 989,\n",
       "             'front': 990,\n",
       "             'catch': 991,\n",
       "             'sequence': 992,\n",
       "             'runs': 993,\n",
       "             'follows': 994,\n",
       "             'song': 995,\n",
       "             'government': 996,\n",
       "             'miss': 997,\n",
       "             'actual': 998,\n",
       "             'makers': 999,\n",
       "             ...})"
      ]
     },
     "execution_count": 16,
     "metadata": {},
     "output_type": "execute_result"
    }
   ],
   "source": [
    "movie_reviews.vocab.stoi"
   ]
  },
  {
   "cell_type": "code",
   "execution_count": 17,
   "metadata": {
    "scrolled": false
   },
   "outputs": [
    {
     "data": {
      "text/plain": [
       "<fastai.text.transform.Vocab at 0x7f9a6f7dccd0>"
      ]
     },
     "execution_count": 17,
     "metadata": {},
     "output_type": "execute_result"
    }
   ],
   "source": [
    "movie_reviews.vocab"
   ]
  },
  {
   "cell_type": "markdown",
   "metadata": {},
   "source": [
    "### The `vocab` object is a kind of reversible dictionary that translates back and forth between tokens and their integer representations.  It has two methods of particular interest: `stoi` and `itos`, which stand for `string-to-index` and `index-to-string`"
   ]
  },
  {
   "cell_type": "markdown",
   "metadata": {},
   "source": [
    "#### `movie_reviews.vocab.stoi` maps vocabulary tokens to their `indexes` in vocab"
   ]
  },
  {
   "cell_type": "code",
   "execution_count": 18,
   "metadata": {},
   "outputs": [
    {
     "data": {
      "text/plain": [
       "defaultdict(int,\n",
       "            {'xxunk': 0,\n",
       "             'xxpad': 1,\n",
       "             'xxbos': 2,\n",
       "             'xxeos': 3,\n",
       "             'xxfld': 4,\n",
       "             'xxmaj': 5,\n",
       "             'xxup': 6,\n",
       "             'xxrep': 7,\n",
       "             'xxwrep': 8,\n",
       "             'the': 9,\n",
       "             '.': 10,\n",
       "             ',': 11,\n",
       "             'and': 12,\n",
       "             'a': 13,\n",
       "             'of': 14,\n",
       "             'to': 15,\n",
       "             'is': 16,\n",
       "             'it': 17,\n",
       "             'in': 18,\n",
       "             'i': 19,\n",
       "             'that': 20,\n",
       "             'this': 21,\n",
       "             '\"': 22,\n",
       "             \"'s\": 23,\n",
       "             '\\n \\n ': 24,\n",
       "             '-': 25,\n",
       "             'was': 26,\n",
       "             'as': 27,\n",
       "             'for': 28,\n",
       "             'movie': 29,\n",
       "             'with': 30,\n",
       "             'but': 31,\n",
       "             'film': 32,\n",
       "             'you': 33,\n",
       "             ')': 34,\n",
       "             'on': 35,\n",
       "             '(': 36,\n",
       "             \"n't\": 37,\n",
       "             'are': 38,\n",
       "             'he': 39,\n",
       "             'his': 40,\n",
       "             'not': 41,\n",
       "             'have': 42,\n",
       "             'be': 43,\n",
       "             'one': 44,\n",
       "             'they': 45,\n",
       "             'all': 46,\n",
       "             'at': 47,\n",
       "             'by': 48,\n",
       "             'an': 49,\n",
       "             'from': 50,\n",
       "             'like': 51,\n",
       "             '!': 52,\n",
       "             'so': 53,\n",
       "             'who': 54,\n",
       "             'there': 55,\n",
       "             'about': 56,\n",
       "             'just': 57,\n",
       "             'out': 58,\n",
       "             'if': 59,\n",
       "             'or': 60,\n",
       "             'do': 61,\n",
       "             \"'\": 62,\n",
       "             'what': 63,\n",
       "             'her': 64,\n",
       "             'has': 65,\n",
       "             'some': 66,\n",
       "             'more': 67,\n",
       "             'good': 68,\n",
       "             'when': 69,\n",
       "             'up': 70,\n",
       "             'very': 71,\n",
       "             '?': 72,\n",
       "             'she': 73,\n",
       "             'would': 74,\n",
       "             'no': 75,\n",
       "             'really': 76,\n",
       "             'were': 77,\n",
       "             'their': 78,\n",
       "             'my': 79,\n",
       "             'had': 80,\n",
       "             'time': 81,\n",
       "             'can': 82,\n",
       "             'only': 83,\n",
       "             'which': 84,\n",
       "             'even': 85,\n",
       "             'see': 86,\n",
       "             'story': 87,\n",
       "             'me': 88,\n",
       "             'into': 89,\n",
       "             'did': 90,\n",
       "             ':': 91,\n",
       "             'well': 92,\n",
       "             'we': 93,\n",
       "             'will': 94,\n",
       "             'does': 95,\n",
       "             'than': 96,\n",
       "             'also': 97,\n",
       "             'get': 98,\n",
       "             '...': 99,\n",
       "             'people': 100,\n",
       "             'other': 101,\n",
       "             'bad': 102,\n",
       "             'been': 103,\n",
       "             'could': 104,\n",
       "             'first': 105,\n",
       "             'much': 106,\n",
       "             'how': 107,\n",
       "             'most': 108,\n",
       "             'any': 109,\n",
       "             'because': 110,\n",
       "             'two': 111,\n",
       "             'then': 112,\n",
       "             'great': 113,\n",
       "             'him': 114,\n",
       "             'its': 115,\n",
       "             'too': 116,\n",
       "             'made': 117,\n",
       "             'them': 118,\n",
       "             'after': 119,\n",
       "             'movies': 120,\n",
       "             'make': 121,\n",
       "             '/': 122,\n",
       "             'way': 123,\n",
       "             'think': 124,\n",
       "             'never': 125,\n",
       "             'watch': 126,\n",
       "             'acting': 127,\n",
       "             'seen': 128,\n",
       "             ';': 129,\n",
       "             'films': 130,\n",
       "             'plot': 131,\n",
       "             'being': 132,\n",
       "             'many': 133,\n",
       "             'over': 134,\n",
       "             'where': 135,\n",
       "             'character': 136,\n",
       "             'man': 137,\n",
       "             'little': 138,\n",
       "             'better': 139,\n",
       "             'life': 140,\n",
       "             'characters': 141,\n",
       "             'love': 142,\n",
       "             'your': 143,\n",
       "             'here': 144,\n",
       "             'know': 145,\n",
       "             'scenes': 146,\n",
       "             'best': 147,\n",
       "             'end': 148,\n",
       "             'show': 149,\n",
       "             'while': 150,\n",
       "             'through': 151,\n",
       "             'should': 152,\n",
       "             'off': 153,\n",
       "             'ever': 154,\n",
       "             'these': 155,\n",
       "             'go': 156,\n",
       "             'such': 157,\n",
       "             'say': 158,\n",
       "             '--': 159,\n",
       "             'something': 160,\n",
       "             'scene': 161,\n",
       "             'still': 162,\n",
       "             'before': 163,\n",
       "             'though': 164,\n",
       "             'watching': 165,\n",
       "             'between': 166,\n",
       "             'actually': 167,\n",
       "             'old': 168,\n",
       "             '10': 169,\n",
       "             'find': 170,\n",
       "             'back': 171,\n",
       "             'now': 172,\n",
       "             'why': 173,\n",
       "             'years': 174,\n",
       "             \"'ve\": 175,\n",
       "             'actors': 176,\n",
       "             'fact': 177,\n",
       "             'those': 178,\n",
       "             \"'m\": 179,\n",
       "             'thing': 180,\n",
       "             'pretty': 181,\n",
       "             'quite': 182,\n",
       "             'part': 183,\n",
       "             'going': 184,\n",
       "             'same': 185,\n",
       "             'real': 186,\n",
       "             'another': 187,\n",
       "             'down': 188,\n",
       "             '*': 189,\n",
       "             'funny': 190,\n",
       "             'nothing': 191,\n",
       "             'look': 192,\n",
       "             'makes': 193,\n",
       "             'new': 194,\n",
       "             'want': 195,\n",
       "             'action': 196,\n",
       "             '&': 197,\n",
       "             'director': 198,\n",
       "             'work': 199,\n",
       "             'few': 200,\n",
       "             \"'re\": 201,\n",
       "             'seems': 202,\n",
       "             'around': 203,\n",
       "             'world': 204,\n",
       "             'point': 205,\n",
       "             'without': 206,\n",
       "             'cast': 207,\n",
       "             'again': 208,\n",
       "             'own': 209,\n",
       "             'both': 210,\n",
       "             'lot': 211,\n",
       "             'enough': 212,\n",
       "             'every': 213,\n",
       "             'family': 214,\n",
       "             'got': 215,\n",
       "             'ca': 216,\n",
       "             \"'ll\": 217,\n",
       "             'probably': 218,\n",
       "             'big': 219,\n",
       "             'bit': 220,\n",
       "             'might': 221,\n",
       "             'things': 222,\n",
       "             'horror': 223,\n",
       "             'us': 224,\n",
       "             'almost': 225,\n",
       "             'may': 226,\n",
       "             'right': 227,\n",
       "             'must': 228,\n",
       "             'away': 229,\n",
       "             'thought': 230,\n",
       "             'interesting': 231,\n",
       "             'least': 232,\n",
       "             'whole': 233,\n",
       "             'series': 234,\n",
       "             'gets': 235,\n",
       "             'each': 236,\n",
       "             'give': 237,\n",
       "             'young': 238,\n",
       "             'however': 239,\n",
       "             'making': 240,\n",
       "             'day': 241,\n",
       "             'fun': 242,\n",
       "             'anything': 243,\n",
       "             'minutes': 244,\n",
       "             'kind': 245,\n",
       "             'come': 246,\n",
       "             'girl': 247,\n",
       "             'saw': 248,\n",
       "             'script': 249,\n",
       "             'take': 250,\n",
       "             'long': 251,\n",
       "             'times': 252,\n",
       "             'someone': 253,\n",
       "             'found': 254,\n",
       "             'done': 255,\n",
       "             'feel': 256,\n",
       "             'far': 257,\n",
       "             'since': 258,\n",
       "             'role': 259,\n",
       "             'original': 260,\n",
       "             'course': 261,\n",
       "             'goes': 262,\n",
       "             'last': 263,\n",
       "             'true': 264,\n",
       "             'simply': 265,\n",
       "             'always': 266,\n",
       "             \"'d\": 267,\n",
       "             'tv': 268,\n",
       "             'hard': 269,\n",
       "             'place': 270,\n",
       "             'set': 271,\n",
       "             'trying': 272,\n",
       "             'believe': 273,\n",
       "             'shot': 274,\n",
       "             'comes': 275,\n",
       "             'actor': 276,\n",
       "             'yet': 277,\n",
       "             '4': 278,\n",
       "             'having': 279,\n",
       "             'book': 280,\n",
       "             'looks': 281,\n",
       "             'guy': 282,\n",
       "             'screen': 283,\n",
       "             'later': 284,\n",
       "             'shows': 285,\n",
       "             'performance': 286,\n",
       "             'worth': 287,\n",
       "             'comedy': 288,\n",
       "             'sure': 289,\n",
       "             'looking': 290,\n",
       "             'sense': 291,\n",
       "             'star': 292,\n",
       "             'effects': 293,\n",
       "             'read': 294,\n",
       "             'takes': 295,\n",
       "             'although': 296,\n",
       "             'audience': 297,\n",
       "             'ending': 298,\n",
       "             'john': 299,\n",
       "             'anyone': 300,\n",
       "             'worst': 301,\n",
       "             'american': 302,\n",
       "             'year': 303,\n",
       "             'especially': 304,\n",
       "             'women': 305,\n",
       "             'together': 306,\n",
       "             'dvd': 307,\n",
       "             'instead': 308,\n",
       "             'different': 309,\n",
       "             'am': 310,\n",
       "             'woman': 311,\n",
       "             'men': 312,\n",
       "             '2': 313,\n",
       "             'our': 314,\n",
       "             'played': 315,\n",
       "             'music': 316,\n",
       "             'special': 317,\n",
       "             'three': 318,\n",
       "             'rest': 319,\n",
       "             'put': 320,\n",
       "             'maybe': 321,\n",
       "             'wife': 322,\n",
       "             'kids': 323,\n",
       "             'war': 324,\n",
       "             'left': 325,\n",
       "             'black': 326,\n",
       "             'once': 327,\n",
       "             'second': 328,\n",
       "             'watched': 329,\n",
       "             'next': 330,\n",
       "             'friends': 331,\n",
       "             'rather': 332,\n",
       "             'let': 333,\n",
       "             '\\x96': 334,\n",
       "             'job': 335,\n",
       "             'start': 336,\n",
       "             'others': 337,\n",
       "             'budget': 338,\n",
       "             'need': 339,\n",
       "             'mind': 340,\n",
       "             'said': 341,\n",
       "             'main': 342,\n",
       "             'else': 343,\n",
       "             'wrong': 344,\n",
       "             'beautiful': 345,\n",
       "             'half': 346,\n",
       "             'high': 347,\n",
       "             'idea': 348,\n",
       "             'death': 349,\n",
       "             'tell': 350,\n",
       "             'help': 351,\n",
       "             'nice': 352,\n",
       "             'seem': 353,\n",
       "             'perhaps': 354,\n",
       "             'hollywood': 355,\n",
       "             'everyone': 356,\n",
       "             'play': 357,\n",
       "             'case': 358,\n",
       "             'production': 359,\n",
       "             'piece': 360,\n",
       "             'episode': 361,\n",
       "             'camera': 362,\n",
       "             'low': 363,\n",
       "             'already': 364,\n",
       "             'top': 365,\n",
       "             'poor': 366,\n",
       "             'during': 367,\n",
       "             '3': 368,\n",
       "             'stars': 369,\n",
       "             'house': 370,\n",
       "             '..': 371,\n",
       "             'couple': 372,\n",
       "             'boring': 373,\n",
       "             'reason': 374,\n",
       "             'try': 375,\n",
       "             'along': 376,\n",
       "             'name': 377,\n",
       "             'small': 378,\n",
       "             'plays': 379,\n",
       "             'father': 380,\n",
       "             'everything': 381,\n",
       "             'used': 382,\n",
       "             'video': 383,\n",
       "             'getting': 384,\n",
       "             'money': 385,\n",
       "             'full': 386,\n",
       "             'less': 387,\n",
       "             'performances': 388,\n",
       "             'often': 389,\n",
       "             'liked': 390,\n",
       "             'came': 391,\n",
       "             '1': 392,\n",
       "             'robert': 393,\n",
       "             'either': 394,\n",
       "             'fan': 395,\n",
       "             'given': 396,\n",
       "             'hand': 397,\n",
       "             'kill': 398,\n",
       "             'felt': 399,\n",
       "             'yes': 400,\n",
       "             'completely': 401,\n",
       "             'night': 402,\n",
       "             'children': 403,\n",
       "             'himself': 404,\n",
       "             'girls': 405,\n",
       "             'early': 406,\n",
       "             'awful': 407,\n",
       "             'oh': 408,\n",
       "             'live': 409,\n",
       "             'picture': 410,\n",
       "             'parts': 411,\n",
       "             'throughout': 412,\n",
       "             'until': 413,\n",
       "             'become': 414,\n",
       "             'town': 415,\n",
       "             'written': 416,\n",
       "             'terrible': 417,\n",
       "             'turn': 418,\n",
       "             'child': 419,\n",
       "             'despite': 420,\n",
       "             'moments': 421,\n",
       "             'boy': 422,\n",
       "             'problem': 423,\n",
       "             'head': 424,\n",
       "             'stupid': 425,\n",
       "             'beginning': 426,\n",
       "             'home': 427,\n",
       "             'version': 428,\n",
       "             'able': 429,\n",
       "             'excellent': 430,\n",
       "             'sometimes': 431,\n",
       "             'overall': 432,\n",
       "             'recommend': 433,\n",
       "             'sex': 434,\n",
       "             'keep': 435,\n",
       "             'human': 436,\n",
       "             'drama': 437,\n",
       "             'hero': 438,\n",
       "             'supposed': 439,\n",
       "             'seemed': 440,\n",
       "             'use': 441,\n",
       "             'writing': 442,\n",
       "             'wo': 443,\n",
       "             'remember': 444,\n",
       "             'went': 445,\n",
       "             'enjoy': 446,\n",
       "             'classic': 447,\n",
       "             'person': 448,\n",
       "             'killer': 449,\n",
       "             'lost': 450,\n",
       "             'late': 451,\n",
       "             '5': 452,\n",
       "             'title': 453,\n",
       "             'king': 454,\n",
       "             'entire': 455,\n",
       "             'history': 456,\n",
       "             'son': 457,\n",
       "             'school': 458,\n",
       "             'lead': 459,\n",
       "             'english': 460,\n",
       "             'sound': 461,\n",
       "             'cinema': 462,\n",
       "             'seeing': 463,\n",
       "             'unfortunately': 464,\n",
       "             'genre': 465,\n",
       "             'sort': 466,\n",
       "             'mean': 467,\n",
       "             'friend': 468,\n",
       "             'fans': 469,\n",
       "             'close': 470,\n",
       "             'quality': 471,\n",
       "             'definitely': 472,\n",
       "             'james': 473,\n",
       "             'worse': 474,\n",
       "             'says': 475,\n",
       "             'except': 476,\n",
       "             'doing': 477,\n",
       "             'itself': 478,\n",
       "             'past': 479,\n",
       "             'certainly': 480,\n",
       "             'days': 481,\n",
       "             'five': 482,\n",
       "             'dialogue': 483,\n",
       "             'line': 484,\n",
       "             'anyway': 485,\n",
       "             'under': 486,\n",
       "             'tries': 487,\n",
       "             'called': 488,\n",
       "             'fine': 489,\n",
       "             'guys': 490,\n",
       "             'care': 491,\n",
       "             'style': 492,\n",
       "             'hope': 493,\n",
       "             'short': 494,\n",
       "             'lines': 495,\n",
       "             'told': 496,\n",
       "             'car': 497,\n",
       "             'decent': 498,\n",
       "             'brother': 499,\n",
       "             'killed': 500,\n",
       "             'wanted': 501,\n",
       "             'entertaining': 502,\n",
       "             'based': 503,\n",
       "             'absolutely': 504,\n",
       "             'feeling': 505,\n",
       "             'truly': 506,\n",
       "             'etc': 507,\n",
       "             'heard': 508,\n",
       "             'serious': 509,\n",
       "             'run': 510,\n",
       "             'wonderful': 511,\n",
       "             'lives': 512,\n",
       "             'gives': 513,\n",
       "             'moment': 514,\n",
       "             'game': 515,\n",
       "             'documentary': 516,\n",
       "             'self': 517,\n",
       "             'several': 518,\n",
       "             'waste': 519,\n",
       "             'dead': 520,\n",
       "             'blood': 521,\n",
       "             'matter': 522,\n",
       "             'wonder': 523,\n",
       "             'humor': 524,\n",
       "             'thinking': 525,\n",
       "             'against': 526,\n",
       "             'white': 527,\n",
       "             'side': 528,\n",
       "             'works': 529,\n",
       "             'mother': 530,\n",
       "             'flick': 531,\n",
       "             'stuff': 532,\n",
       "             'turns': 533,\n",
       "             'finally': 534,\n",
       "             'loved': 535,\n",
       "             'group': 536,\n",
       "             'wants': 537,\n",
       "             'face': 538,\n",
       "             'guess': 539,\n",
       "             'dark': 540,\n",
       "             'city': 541,\n",
       "             'events': 542,\n",
       "             'starts': 543,\n",
       "             'hour': 544,\n",
       "             'took': 545,\n",
       "             'george': 546,\n",
       "             'themselves': 547,\n",
       "             'red': 548,\n",
       "             'behind': 549,\n",
       "             'talking': 550,\n",
       "             'hit': 551,\n",
       "             'eyes': 552,\n",
       "             'attempt': 553,\n",
       "             'direction': 554,\n",
       "             'novel': 555,\n",
       "             'saying': 556,\n",
       "             'word': 557,\n",
       "             'dull': 558,\n",
       "             'light': 559,\n",
       "             'view': 560,\n",
       "             'playing': 561,\n",
       "             'opinion': 562,\n",
       "             'expect': 563,\n",
       "             'evil': 564,\n",
       "             'ten': 565,\n",
       "             'violence': 566,\n",
       "             'local': 567,\n",
       "             'final': 568,\n",
       "             'gave': 569,\n",
       "             'leave': 570,\n",
       "             'paul': 571,\n",
       "             'crap': 572,\n",
       "             'happens': 573,\n",
       "             'knows': 574,\n",
       "             'problems': 575,\n",
       "             'example': 576,\n",
       "             'relationship': 577,\n",
       "             'non': 578,\n",
       "             'michael': 579,\n",
       "             'victor': 580,\n",
       "             'ridiculous': 581,\n",
       "             'god': 582,\n",
       "             'similar': 583,\n",
       "             'general': 584,\n",
       "             'major': 585,\n",
       "             'bunch': 586,\n",
       "             'sister': 587,\n",
       "             'oscar': 588,\n",
       "             'turned': 589,\n",
       "             'brilliant': 590,\n",
       "             'highly': 591,\n",
       "             'nearly': 592,\n",
       "             'de': 593,\n",
       "             'please': 594,\n",
       "             'romance': 595,\n",
       "             'body': 596,\n",
       "             'extremely': 597,\n",
       "             'mr.': 598,\n",
       "             'soon': 599,\n",
       "             'yourself': 600,\n",
       "             'known': 601,\n",
       "             'lack': 602,\n",
       "             'age': 603,\n",
       "             'interest': 604,\n",
       "             'ago': 605,\n",
       "             'stories': 606,\n",
       "             'exactly': 607,\n",
       "             'finds': 608,\n",
       "             'modern': 609,\n",
       "             'voice': 610,\n",
       "             'perfect': 611,\n",
       "             'heart': 612,\n",
       "             'alone': 613,\n",
       "             'tells': 614,\n",
       "             'daughter': 615,\n",
       "             'directed': 616,\n",
       "             'needs': 617,\n",
       "             'kid': 618,\n",
       "             'lady': 619,\n",
       "             'sad': 620,\n",
       "             'fight': 621,\n",
       "             'happened': 622,\n",
       "             'eye': 623,\n",
       "             'favorite': 624,\n",
       "             'using': 625,\n",
       "             'upon': 626,\n",
       "             'ben': 627,\n",
       "             'none': 628,\n",
       "             'beyond': 629,\n",
       "             'nature': 630,\n",
       "             'change': 631,\n",
       "             'save': 632,\n",
       "             'shots': 633,\n",
       "             'country': 634,\n",
       "             'number': 635,\n",
       "             'shown': 636,\n",
       "             'surprised': 637,\n",
       "             'romantic': 638,\n",
       "             'huge': 639,\n",
       "             'murder': 640,\n",
       "             'steve': 641,\n",
       "             'slow': 642,\n",
       "             'myself': 643,\n",
       "             'woods': 644,\n",
       "             'apparently': 645,\n",
       "             'lake': 646,\n",
       "             'cheap': 647,\n",
       "             'involved': 648,\n",
       "             'roles': 649,\n",
       "             '6': 650,\n",
       "             'gore': 651,\n",
       "             'obviously': 652,\n",
       "             'knew': 653,\n",
       "             'level': 654,\n",
       "             '8': 655,\n",
       "             'experience': 656,\n",
       "             'became': 657,\n",
       "             'gone': 658,\n",
       "             'cover': 659,\n",
       "             'amazing': 660,\n",
       "             'create': 661,\n",
       "             'living': 662,\n",
       "             'usually': 663,\n",
       "             'order': 664,\n",
       "             'monster': 665,\n",
       "             'happen': 666,\n",
       "             'list': 667,\n",
       "             'clearly': 668,\n",
       "             'power': 669,\n",
       "             'features': 670,\n",
       "             're': 671,\n",
       "             'subject': 672,\n",
       "             'across': 673,\n",
       "             'parents': 674,\n",
       "             'seriously': 675,\n",
       "             'ways': 676,\n",
       "             'room': 677,\n",
       "             'filmed': 678,\n",
       "             'cheesy': 679,\n",
       "             'disappointed': 680,\n",
       "             'important': 681,\n",
       "             'plenty': 682,\n",
       "             '7': 683,\n",
       "             'particular': 684,\n",
       "             'started': 685,\n",
       "             'today': 686,\n",
       "             'enjoyed': 687,\n",
       "             'cinematography': 688,\n",
       "             'annoying': 689,\n",
       "             'looked': 690,\n",
       "             'supporting': 691,\n",
       "             'mostly': 692,\n",
       "             'message': 693,\n",
       "             'somewhat': 694,\n",
       "             'viewer': 695,\n",
       "             'type': 696,\n",
       "             'certain': 697,\n",
       "             'release': 698,\n",
       "             'effort': 699,\n",
       "             'possible': 700,\n",
       "             'add': 701,\n",
       "             'figure': 702,\n",
       "             'named': 703,\n",
       "             'wish': 704,\n",
       "             'difficult': 705,\n",
       "             'falls': 706,\n",
       "             'four': 707,\n",
       "             'husband': 708,\n",
       "             'score': 709,\n",
       "             'leads': 710,\n",
       "             'form': 711,\n",
       "             'working': 712,\n",
       "             'writer': 713,\n",
       "             'sets': 714,\n",
       "             'including': 715,\n",
       "             'enjoyable': 716,\n",
       "             'ok': 717,\n",
       "             'note': 718,\n",
       "             'spent': 719,\n",
       "             'review': 720,\n",
       "             'art': 721,\n",
       "             'police': 722,\n",
       "             'sit': 723,\n",
       "             'horrible': 724,\n",
       "             'actress': 725,\n",
       "             'ones': 726,\n",
       "             'bring': 727,\n",
       "             'greatest': 728,\n",
       "             'dance': 729,\n",
       "             'earth': 730,\n",
       "             'becomes': 731,\n",
       "             'happy': 732,\n",
       "             'cut': 733,\n",
       "             'straight': 734,\n",
       "             'soundtrack': 735,\n",
       "             'leading': 736,\n",
       "             'laugh': 737,\n",
       "             'strange': 738,\n",
       "             'space': 739,\n",
       "             'b': 740,\n",
       "             'tale': 741,\n",
       "             'comic': 742,\n",
       "             'near': 743,\n",
       "             'due': 744,\n",
       "             'weak': 745,\n",
       "             'earlier': 746,\n",
       "             'follow': 747,\n",
       "             'british': 748,\n",
       "             'ends': 749,\n",
       "             'typical': 750,\n",
       "             'attention': 751,\n",
       "             'points': 752,\n",
       "             'talent': 753,\n",
       "             'tom': 754,\n",
       "             'female': 755,\n",
       "             'future': 756,\n",
       "             'fall': 757,\n",
       "             'laughs': 758,\n",
       "             'stop': 759,\n",
       "             'easy': 760,\n",
       "             'moving': 761,\n",
       "             'apart': 762,\n",
       "             'chance': 763,\n",
       "             'running': 764,\n",
       "             'york': 765,\n",
       "             'particularly': 766,\n",
       "             'luke': 767,\n",
       "             'bill': 768,\n",
       "             'forced': 769,\n",
       "             'theme': 770,\n",
       "             'rating': 771,\n",
       "             'coming': 772,\n",
       "             'davis': 773,\n",
       "             'totally': 774,\n",
       "             'realistic': 775,\n",
       "             'simple': 776,\n",
       "             'hours': 777,\n",
       "             'taken': 778,\n",
       "             'indeed': 779,\n",
       "             'released': 780,\n",
       "             'sexual': 781,\n",
       "             'feels': 782,\n",
       "             'french': 783,\n",
       "             'screenplay': 784,\n",
       "             'la': 785,\n",
       "             'jokes': 786,\n",
       "             'sequences': 787,\n",
       "             'chase': 788,\n",
       "             'portrayed': 789,\n",
       "             'dramatic': 790,\n",
       "             'mention': 791,\n",
       "             'talk': 792,\n",
       "             'gun': 793,\n",
       "             'thriller': 794,\n",
       "             'jimmy': 795,\n",
       "             'career': 796,\n",
       "             'reality': 797,\n",
       "             'incredibly': 798,\n",
       "             'whether': 799,\n",
       "             'towards': 800,\n",
       "             'easily': 801,\n",
       "             'entertainment': 802,\n",
       "             'feature': 803,\n",
       "             'western': 804,\n",
       "             'dialog': 805,\n",
       "             'business': 806,\n",
       "             'suspense': 807,\n",
       "             'focus': 808,\n",
       "             'doubt': 809,\n",
       "             'possibly': 810,\n",
       "             'water': 811,\n",
       "             'gay': 812,\n",
       "             'blob': 813,\n",
       "             'comments': 814,\n",
       "             'brothers': 815,\n",
       "             'clear': 816,\n",
       "             'agree': 817,\n",
       "             'allen': 818,\n",
       "             'door': 819,\n",
       "             'editing': 820,\n",
       "             'third': 821,\n",
       "             'deserves': 822,\n",
       "             'silly': 823,\n",
       "             'fantastic': 824,\n",
       "             'convincing': 825,\n",
       "             'hardly': 826,\n",
       "             'lame': 827,\n",
       "             'act': 828,\n",
       "             'former': 829,\n",
       "             'material': 830,\n",
       "             'appears': 831,\n",
       "             'understand': 832,\n",
       "             'twist': 833,\n",
       "             'episodes': 834,\n",
       "             'buy': 835,\n",
       "             'secret': 836,\n",
       "             'richard': 837,\n",
       "             'south': 838,\n",
       "             'bourne': 839,\n",
       "             'deal': 840,\n",
       "             'musical': 841,\n",
       "             'words': 842,\n",
       "             'unique': 843,\n",
       "             'mess': 844,\n",
       "             'opening': 845,\n",
       "             'society': 846,\n",
       "             'avoid': 847,\n",
       "             'footage': 848,\n",
       "             'joe': 849,\n",
       "             'free': 850,\n",
       "             'forget': 851,\n",
       "             'herself': 852,\n",
       "             'appear': 853,\n",
       "             'obvious': 854,\n",
       "             'box': 855,\n",
       "             'single': 856,\n",
       "             'average': 857,\n",
       "             'indian': 858,\n",
       "             'rent': 859,\n",
       "             'okay': 860,\n",
       "             'scary': 861,\n",
       "             'within': 862,\n",
       "             'office': 863,\n",
       "             'crime': 864,\n",
       "             'science': 865,\n",
       "             '80': 866,\n",
       "             'believable': 867,\n",
       "             'period': 868,\n",
       "             'showing': 869,\n",
       "             'call': 870,\n",
       "             'return': 871,\n",
       "             'keeps': 872,\n",
       "             'lee': 873,\n",
       "             'expected': 874,\n",
       "             'stay': 875,\n",
       "             'middle': 876,\n",
       "             'jack': 877,\n",
       "             'hands': 878,\n",
       "             'david': 879,\n",
       "             'attempts': 880,\n",
       "             'strong': 881,\n",
       "             'tension': 882,\n",
       "             'crew': 883,\n",
       "             'hilarious': 884,\n",
       "             'grade': 885,\n",
       "             'outside': 886,\n",
       "             'means': 887,\n",
       "             'viewing': 888,\n",
       "             'sadly': 889,\n",
       "             'hell': 890,\n",
       "             'whatever': 891,\n",
       "             'sorry': 892,\n",
       "             'recently': 893,\n",
       "             'stage': 894,\n",
       "             'decides': 895,\n",
       "             'hear': 896,\n",
       "             'team': 897,\n",
       "             'learn': 898,\n",
       "             'nor': 899,\n",
       "             'open': 900,\n",
       "             'break': 901,\n",
       "             'question': 902,\n",
       "             'remake': 903,\n",
       "             'porn': 904,\n",
       "             'pain': 905,\n",
       "             'imagine': 906,\n",
       "             'deep': 907,\n",
       "             'zombie': 908,\n",
       "             'basically': 909,\n",
       "             'killing': 910,\n",
       "             'company': 911,\n",
       "             'poorly': 912,\n",
       "             'dr.': 913,\n",
       "             'predictable': 914,\n",
       "             'taking': 915,\n",
       "             'large': 916,\n",
       "             'language': 917,\n",
       "             'giving': 918,\n",
       "             'public': 919,\n",
       "             'audiences': 920,\n",
       "             'ask': 921,\n",
       "             'cool': 922,\n",
       "             'america': 923,\n",
       "             'slasher': 924,\n",
       "             'west': 925,\n",
       "             'mentioned': 926,\n",
       "             'die': 927,\n",
       "             'christmas': 928,\n",
       "             'complete': 929,\n",
       "             'needed': 930,\n",
       "             'martin': 931,\n",
       "             'cgi': 932,\n",
       "             'boys': 933,\n",
       "             'vargas': 934,\n",
       "             'usual': 935,\n",
       "             'begin': 936,\n",
       "             'dad': 937,\n",
       "             'total': 938,\n",
       "             'somehow': 939,\n",
       "             'stick': 940,\n",
       "             'shame': 941,\n",
       "             'successful': 942,\n",
       "             'sitting': 943,\n",
       "             'fred': 944,\n",
       "             'meets': 945,\n",
       "             'unless': 946,\n",
       "             'dancing': 947,\n",
       "             'sounds': 948,\n",
       "             'above': 949,\n",
       "             'elements': 950,\n",
       "             'whose': 951,\n",
       "             'german': 952,\n",
       "             'considering': 953,\n",
       "             'caught': 954,\n",
       "             'credit': 955,\n",
       "             'interested': 956,\n",
       "             'move': 957,\n",
       "             'filming': 958,\n",
       "             'truth': 959,\n",
       "             'eventually': 960,\n",
       "             'share': 961,\n",
       "             'ability': 962,\n",
       "             'meaning': 963,\n",
       "             'agent': 964,\n",
       "             'fast': 965,\n",
       "             'stand': 966,\n",
       "             'onto': 967,\n",
       "             'plain': 968,\n",
       "             'comment': 969,\n",
       "             'kept': 970,\n",
       "             'situation': 971,\n",
       "             'setting': 972,\n",
       "             'value': 973,\n",
       "             'willing': 974,\n",
       "             'realize': 975,\n",
       "             'acted': 976,\n",
       "             'weird': 977,\n",
       "             'alive': 978,\n",
       "             'fairly': 979,\n",
       "             'dream': 980,\n",
       "             'building': 981,\n",
       "             'hair': 982,\n",
       "             'bored': 983,\n",
       "             'minute': 984,\n",
       "             'emotional': 985,\n",
       "             'directing': 986,\n",
       "             'theatrical': 987,\n",
       "             'famous': 988,\n",
       "             'begins': 989,\n",
       "             'front': 990,\n",
       "             'catch': 991,\n",
       "             'sequence': 992,\n",
       "             'runs': 993,\n",
       "             'follows': 994,\n",
       "             'song': 995,\n",
       "             'government': 996,\n",
       "             'miss': 997,\n",
       "             'actual': 998,\n",
       "             'makers': 999,\n",
       "             ...})"
      ]
     },
     "execution_count": 18,
     "metadata": {},
     "output_type": "execute_result"
    }
   ],
   "source": [
    "movie_reviews.vocab.stoi"
   ]
  },
  {
   "cell_type": "markdown",
   "metadata": {},
   "source": [
    "#### `movie_reviews.vocab.itos` maps the `indexes` of vocabulary tokens to `strings`"
   ]
  },
  {
   "cell_type": "code",
   "execution_count": 19,
   "metadata": {
    "scrolled": true
   },
   "outputs": [
    {
     "data": {
      "text/plain": [
       "['xxunk',\n",
       " 'xxpad',\n",
       " 'xxbos',\n",
       " 'xxeos',\n",
       " 'xxfld',\n",
       " 'xxmaj',\n",
       " 'xxup',\n",
       " 'xxrep',\n",
       " 'xxwrep',\n",
       " 'the',\n",
       " '.',\n",
       " ',',\n",
       " 'and',\n",
       " 'a',\n",
       " 'of',\n",
       " 'to',\n",
       " 'is',\n",
       " 'it',\n",
       " 'in',\n",
       " 'i',\n",
       " 'that',\n",
       " 'this',\n",
       " '\"',\n",
       " \"'s\",\n",
       " '\\n \\n ',\n",
       " '-',\n",
       " 'was',\n",
       " 'as',\n",
       " 'for',\n",
       " 'movie',\n",
       " 'with',\n",
       " 'but',\n",
       " 'film',\n",
       " 'you',\n",
       " ')',\n",
       " 'on',\n",
       " '(',\n",
       " \"n't\",\n",
       " 'are',\n",
       " 'he',\n",
       " 'his',\n",
       " 'not',\n",
       " 'have',\n",
       " 'be',\n",
       " 'one',\n",
       " 'they',\n",
       " 'all',\n",
       " 'at',\n",
       " 'by',\n",
       " 'an',\n",
       " 'from',\n",
       " 'like',\n",
       " '!',\n",
       " 'so',\n",
       " 'who',\n",
       " 'there',\n",
       " 'about',\n",
       " 'just',\n",
       " 'out',\n",
       " 'if',\n",
       " 'or',\n",
       " 'do',\n",
       " \"'\",\n",
       " 'what',\n",
       " 'her',\n",
       " 'has',\n",
       " 'some',\n",
       " 'more',\n",
       " 'good',\n",
       " 'when',\n",
       " 'up',\n",
       " 'very',\n",
       " '?',\n",
       " 'she',\n",
       " 'would',\n",
       " 'no',\n",
       " 'really',\n",
       " 'were',\n",
       " 'their',\n",
       " 'my',\n",
       " 'had',\n",
       " 'time',\n",
       " 'can',\n",
       " 'only',\n",
       " 'which',\n",
       " 'even',\n",
       " 'see',\n",
       " 'story',\n",
       " 'me',\n",
       " 'into',\n",
       " 'did',\n",
       " ':',\n",
       " 'well',\n",
       " 'we',\n",
       " 'will',\n",
       " 'does',\n",
       " 'than',\n",
       " 'also',\n",
       " 'get',\n",
       " '...',\n",
       " 'people',\n",
       " 'other',\n",
       " 'bad',\n",
       " 'been',\n",
       " 'could',\n",
       " 'first',\n",
       " 'much',\n",
       " 'how',\n",
       " 'most',\n",
       " 'any',\n",
       " 'because',\n",
       " 'two',\n",
       " 'then',\n",
       " 'great',\n",
       " 'him',\n",
       " 'its',\n",
       " 'too',\n",
       " 'made',\n",
       " 'them',\n",
       " 'after',\n",
       " 'movies',\n",
       " 'make',\n",
       " '/',\n",
       " 'way',\n",
       " 'think',\n",
       " 'never',\n",
       " 'watch',\n",
       " 'acting',\n",
       " 'seen',\n",
       " ';',\n",
       " 'films',\n",
       " 'plot',\n",
       " 'being',\n",
       " 'many',\n",
       " 'over',\n",
       " 'where',\n",
       " 'character',\n",
       " 'man',\n",
       " 'little',\n",
       " 'better',\n",
       " 'life',\n",
       " 'characters',\n",
       " 'love',\n",
       " 'your',\n",
       " 'here',\n",
       " 'know',\n",
       " 'scenes',\n",
       " 'best',\n",
       " 'end',\n",
       " 'show',\n",
       " 'while',\n",
       " 'through',\n",
       " 'should',\n",
       " 'off',\n",
       " 'ever',\n",
       " 'these',\n",
       " 'go',\n",
       " 'such',\n",
       " 'say',\n",
       " '--',\n",
       " 'something',\n",
       " 'scene',\n",
       " 'still',\n",
       " 'before',\n",
       " 'though',\n",
       " 'watching',\n",
       " 'between',\n",
       " 'actually',\n",
       " 'old',\n",
       " '10',\n",
       " 'find',\n",
       " 'back',\n",
       " 'now',\n",
       " 'why',\n",
       " 'years',\n",
       " \"'ve\",\n",
       " 'actors',\n",
       " 'fact',\n",
       " 'those',\n",
       " \"'m\",\n",
       " 'thing',\n",
       " 'pretty',\n",
       " 'quite',\n",
       " 'part',\n",
       " 'going',\n",
       " 'same',\n",
       " 'real',\n",
       " 'another',\n",
       " 'down',\n",
       " '*',\n",
       " 'funny',\n",
       " 'nothing',\n",
       " 'look',\n",
       " 'makes',\n",
       " 'new',\n",
       " 'want',\n",
       " 'action',\n",
       " '&',\n",
       " 'director',\n",
       " 'work',\n",
       " 'few',\n",
       " \"'re\",\n",
       " 'seems',\n",
       " 'around',\n",
       " 'world',\n",
       " 'point',\n",
       " 'without',\n",
       " 'cast',\n",
       " 'again',\n",
       " 'own',\n",
       " 'both',\n",
       " 'lot',\n",
       " 'enough',\n",
       " 'every',\n",
       " 'family',\n",
       " 'got',\n",
       " 'ca',\n",
       " \"'ll\",\n",
       " 'probably',\n",
       " 'big',\n",
       " 'bit',\n",
       " 'might',\n",
       " 'things',\n",
       " 'horror',\n",
       " 'us',\n",
       " 'almost',\n",
       " 'may',\n",
       " 'right',\n",
       " 'must',\n",
       " 'away',\n",
       " 'thought',\n",
       " 'interesting',\n",
       " 'least',\n",
       " 'whole',\n",
       " 'series',\n",
       " 'gets',\n",
       " 'each',\n",
       " 'give',\n",
       " 'young',\n",
       " 'however',\n",
       " 'making',\n",
       " 'day',\n",
       " 'fun',\n",
       " 'anything',\n",
       " 'minutes',\n",
       " 'kind',\n",
       " 'come',\n",
       " 'girl',\n",
       " 'saw',\n",
       " 'script',\n",
       " 'take',\n",
       " 'long',\n",
       " 'times',\n",
       " 'someone',\n",
       " 'found',\n",
       " 'done',\n",
       " 'feel',\n",
       " 'far',\n",
       " 'since',\n",
       " 'role',\n",
       " 'original',\n",
       " 'course',\n",
       " 'goes',\n",
       " 'last',\n",
       " 'true',\n",
       " 'simply',\n",
       " 'always',\n",
       " \"'d\",\n",
       " 'tv',\n",
       " 'hard',\n",
       " 'place',\n",
       " 'set',\n",
       " 'trying',\n",
       " 'believe',\n",
       " 'shot',\n",
       " 'comes',\n",
       " 'actor',\n",
       " 'yet',\n",
       " '4',\n",
       " 'having',\n",
       " 'book',\n",
       " 'looks',\n",
       " 'guy',\n",
       " 'screen',\n",
       " 'later',\n",
       " 'shows',\n",
       " 'performance',\n",
       " 'worth',\n",
       " 'comedy',\n",
       " 'sure',\n",
       " 'looking',\n",
       " 'sense',\n",
       " 'star',\n",
       " 'effects',\n",
       " 'read',\n",
       " 'takes',\n",
       " 'although',\n",
       " 'audience',\n",
       " 'ending',\n",
       " 'john',\n",
       " 'anyone',\n",
       " 'worst',\n",
       " 'american',\n",
       " 'year',\n",
       " 'especially',\n",
       " 'women',\n",
       " 'together',\n",
       " 'dvd',\n",
       " 'instead',\n",
       " 'different',\n",
       " 'am',\n",
       " 'woman',\n",
       " 'men',\n",
       " '2',\n",
       " 'our',\n",
       " 'played',\n",
       " 'music',\n",
       " 'special',\n",
       " 'three',\n",
       " 'rest',\n",
       " 'put',\n",
       " 'maybe',\n",
       " 'wife',\n",
       " 'kids',\n",
       " 'war',\n",
       " 'left',\n",
       " 'black',\n",
       " 'once',\n",
       " 'second',\n",
       " 'watched',\n",
       " 'next',\n",
       " 'friends',\n",
       " 'rather',\n",
       " 'let',\n",
       " '\\x96',\n",
       " 'job',\n",
       " 'start',\n",
       " 'others',\n",
       " 'budget',\n",
       " 'need',\n",
       " 'mind',\n",
       " 'said',\n",
       " 'main',\n",
       " 'else',\n",
       " 'wrong',\n",
       " 'beautiful',\n",
       " 'half',\n",
       " 'high',\n",
       " 'idea',\n",
       " 'death',\n",
       " 'tell',\n",
       " 'help',\n",
       " 'nice',\n",
       " 'seem',\n",
       " 'perhaps',\n",
       " 'hollywood',\n",
       " 'everyone',\n",
       " 'play',\n",
       " 'case',\n",
       " 'production',\n",
       " 'piece',\n",
       " 'episode',\n",
       " 'camera',\n",
       " 'low',\n",
       " 'already',\n",
       " 'top',\n",
       " 'poor',\n",
       " 'during',\n",
       " '3',\n",
       " 'stars',\n",
       " 'house',\n",
       " '..',\n",
       " 'couple',\n",
       " 'boring',\n",
       " 'reason',\n",
       " 'try',\n",
       " 'along',\n",
       " 'name',\n",
       " 'small',\n",
       " 'plays',\n",
       " 'father',\n",
       " 'everything',\n",
       " 'used',\n",
       " 'video',\n",
       " 'getting',\n",
       " 'money',\n",
       " 'full',\n",
       " 'less',\n",
       " 'performances',\n",
       " 'often',\n",
       " 'liked',\n",
       " 'came',\n",
       " '1',\n",
       " 'robert',\n",
       " 'either',\n",
       " 'fan',\n",
       " 'given',\n",
       " 'hand',\n",
       " 'kill',\n",
       " 'felt',\n",
       " 'yes',\n",
       " 'completely',\n",
       " 'night',\n",
       " 'children',\n",
       " 'himself',\n",
       " 'girls',\n",
       " 'early',\n",
       " 'awful',\n",
       " 'oh',\n",
       " 'live',\n",
       " 'picture',\n",
       " 'parts',\n",
       " 'throughout',\n",
       " 'until',\n",
       " 'become',\n",
       " 'town',\n",
       " 'written',\n",
       " 'terrible',\n",
       " 'turn',\n",
       " 'child',\n",
       " 'despite',\n",
       " 'moments',\n",
       " 'boy',\n",
       " 'problem',\n",
       " 'head',\n",
       " 'stupid',\n",
       " 'beginning',\n",
       " 'home',\n",
       " 'version',\n",
       " 'able',\n",
       " 'excellent',\n",
       " 'sometimes',\n",
       " 'overall',\n",
       " 'recommend',\n",
       " 'sex',\n",
       " 'keep',\n",
       " 'human',\n",
       " 'drama',\n",
       " 'hero',\n",
       " 'supposed',\n",
       " 'seemed',\n",
       " 'use',\n",
       " 'writing',\n",
       " 'wo',\n",
       " 'remember',\n",
       " 'went',\n",
       " 'enjoy',\n",
       " 'classic',\n",
       " 'person',\n",
       " 'killer',\n",
       " 'lost',\n",
       " 'late',\n",
       " '5',\n",
       " 'title',\n",
       " 'king',\n",
       " 'entire',\n",
       " 'history',\n",
       " 'son',\n",
       " 'school',\n",
       " 'lead',\n",
       " 'english',\n",
       " 'sound',\n",
       " 'cinema',\n",
       " 'seeing',\n",
       " 'unfortunately',\n",
       " 'genre',\n",
       " 'sort',\n",
       " 'mean',\n",
       " 'friend',\n",
       " 'fans',\n",
       " 'close',\n",
       " 'quality',\n",
       " 'definitely',\n",
       " 'james',\n",
       " 'worse',\n",
       " 'says',\n",
       " 'except',\n",
       " 'doing',\n",
       " 'itself',\n",
       " 'past',\n",
       " 'certainly',\n",
       " 'days',\n",
       " 'five',\n",
       " 'dialogue',\n",
       " 'line',\n",
       " 'anyway',\n",
       " 'under',\n",
       " 'tries',\n",
       " 'called',\n",
       " 'fine',\n",
       " 'guys',\n",
       " 'care',\n",
       " 'style',\n",
       " 'hope',\n",
       " 'short',\n",
       " 'lines',\n",
       " 'told',\n",
       " 'car',\n",
       " 'decent',\n",
       " 'brother',\n",
       " 'killed',\n",
       " 'wanted',\n",
       " 'entertaining',\n",
       " 'based',\n",
       " 'absolutely',\n",
       " 'feeling',\n",
       " 'truly',\n",
       " 'etc',\n",
       " 'heard',\n",
       " 'serious',\n",
       " 'run',\n",
       " 'wonderful',\n",
       " 'lives',\n",
       " 'gives',\n",
       " 'moment',\n",
       " 'game',\n",
       " 'documentary',\n",
       " 'self',\n",
       " 'several',\n",
       " 'waste',\n",
       " 'dead',\n",
       " 'blood',\n",
       " 'matter',\n",
       " 'wonder',\n",
       " 'humor',\n",
       " 'thinking',\n",
       " 'against',\n",
       " 'white',\n",
       " 'side',\n",
       " 'works',\n",
       " 'mother',\n",
       " 'flick',\n",
       " 'stuff',\n",
       " 'turns',\n",
       " 'finally',\n",
       " 'loved',\n",
       " 'group',\n",
       " 'wants',\n",
       " 'face',\n",
       " 'guess',\n",
       " 'dark',\n",
       " 'city',\n",
       " 'events',\n",
       " 'starts',\n",
       " 'hour',\n",
       " 'took',\n",
       " 'george',\n",
       " 'themselves',\n",
       " 'red',\n",
       " 'behind',\n",
       " 'talking',\n",
       " 'hit',\n",
       " 'eyes',\n",
       " 'attempt',\n",
       " 'direction',\n",
       " 'novel',\n",
       " 'saying',\n",
       " 'word',\n",
       " 'dull',\n",
       " 'light',\n",
       " 'view',\n",
       " 'playing',\n",
       " 'opinion',\n",
       " 'expect',\n",
       " 'evil',\n",
       " 'ten',\n",
       " 'violence',\n",
       " 'local',\n",
       " 'final',\n",
       " 'gave',\n",
       " 'leave',\n",
       " 'paul',\n",
       " 'crap',\n",
       " 'happens',\n",
       " 'knows',\n",
       " 'problems',\n",
       " 'example',\n",
       " 'relationship',\n",
       " 'non',\n",
       " 'michael',\n",
       " 'victor',\n",
       " 'ridiculous',\n",
       " 'god',\n",
       " 'similar',\n",
       " 'general',\n",
       " 'major',\n",
       " 'bunch',\n",
       " 'sister',\n",
       " 'oscar',\n",
       " 'turned',\n",
       " 'brilliant',\n",
       " 'highly',\n",
       " 'nearly',\n",
       " 'de',\n",
       " 'please',\n",
       " 'romance',\n",
       " 'body',\n",
       " 'extremely',\n",
       " 'mr.',\n",
       " 'soon',\n",
       " 'yourself',\n",
       " 'known',\n",
       " 'lack',\n",
       " 'age',\n",
       " 'interest',\n",
       " 'ago',\n",
       " 'stories',\n",
       " 'exactly',\n",
       " 'finds',\n",
       " 'modern',\n",
       " 'voice',\n",
       " 'perfect',\n",
       " 'heart',\n",
       " 'alone',\n",
       " 'tells',\n",
       " 'daughter',\n",
       " 'directed',\n",
       " 'needs',\n",
       " 'kid',\n",
       " 'lady',\n",
       " 'sad',\n",
       " 'fight',\n",
       " 'happened',\n",
       " 'eye',\n",
       " 'favorite',\n",
       " 'using',\n",
       " 'upon',\n",
       " 'ben',\n",
       " 'none',\n",
       " 'beyond',\n",
       " 'nature',\n",
       " 'change',\n",
       " 'save',\n",
       " 'shots',\n",
       " 'country',\n",
       " 'number',\n",
       " 'shown',\n",
       " 'surprised',\n",
       " 'romantic',\n",
       " 'huge',\n",
       " 'murder',\n",
       " 'steve',\n",
       " 'slow',\n",
       " 'myself',\n",
       " 'woods',\n",
       " 'apparently',\n",
       " 'lake',\n",
       " 'cheap',\n",
       " 'involved',\n",
       " 'roles',\n",
       " '6',\n",
       " 'gore',\n",
       " 'obviously',\n",
       " 'knew',\n",
       " 'level',\n",
       " '8',\n",
       " 'experience',\n",
       " 'became',\n",
       " 'gone',\n",
       " 'cover',\n",
       " 'amazing',\n",
       " 'create',\n",
       " 'living',\n",
       " 'usually',\n",
       " 'order',\n",
       " 'monster',\n",
       " 'happen',\n",
       " 'list',\n",
       " 'clearly',\n",
       " 'power',\n",
       " 'features',\n",
       " 're',\n",
       " 'subject',\n",
       " 'across',\n",
       " 'parents',\n",
       " 'seriously',\n",
       " 'ways',\n",
       " 'room',\n",
       " 'filmed',\n",
       " 'cheesy',\n",
       " 'disappointed',\n",
       " 'important',\n",
       " 'plenty',\n",
       " '7',\n",
       " 'particular',\n",
       " 'started',\n",
       " 'today',\n",
       " 'enjoyed',\n",
       " 'cinematography',\n",
       " 'annoying',\n",
       " 'looked',\n",
       " 'supporting',\n",
       " 'mostly',\n",
       " 'message',\n",
       " 'somewhat',\n",
       " 'viewer',\n",
       " 'type',\n",
       " 'certain',\n",
       " 'release',\n",
       " 'effort',\n",
       " 'possible',\n",
       " 'add',\n",
       " 'figure',\n",
       " 'named',\n",
       " 'wish',\n",
       " 'difficult',\n",
       " 'falls',\n",
       " 'four',\n",
       " 'husband',\n",
       " 'score',\n",
       " 'leads',\n",
       " 'form',\n",
       " 'working',\n",
       " 'writer',\n",
       " 'sets',\n",
       " 'including',\n",
       " 'enjoyable',\n",
       " 'ok',\n",
       " 'note',\n",
       " 'spent',\n",
       " 'review',\n",
       " 'art',\n",
       " 'police',\n",
       " 'sit',\n",
       " 'horrible',\n",
       " 'actress',\n",
       " 'ones',\n",
       " 'bring',\n",
       " 'greatest',\n",
       " 'dance',\n",
       " 'earth',\n",
       " 'becomes',\n",
       " 'happy',\n",
       " 'cut',\n",
       " 'straight',\n",
       " 'soundtrack',\n",
       " 'leading',\n",
       " 'laugh',\n",
       " 'strange',\n",
       " 'space',\n",
       " 'b',\n",
       " 'tale',\n",
       " 'comic',\n",
       " 'near',\n",
       " 'due',\n",
       " 'weak',\n",
       " 'earlier',\n",
       " 'follow',\n",
       " 'british',\n",
       " 'ends',\n",
       " 'typical',\n",
       " 'attention',\n",
       " 'points',\n",
       " 'talent',\n",
       " 'tom',\n",
       " 'female',\n",
       " 'future',\n",
       " 'fall',\n",
       " 'laughs',\n",
       " 'stop',\n",
       " 'easy',\n",
       " 'moving',\n",
       " 'apart',\n",
       " 'chance',\n",
       " 'running',\n",
       " 'york',\n",
       " 'particularly',\n",
       " 'luke',\n",
       " 'bill',\n",
       " 'forced',\n",
       " 'theme',\n",
       " 'rating',\n",
       " 'coming',\n",
       " 'davis',\n",
       " 'totally',\n",
       " 'realistic',\n",
       " 'simple',\n",
       " 'hours',\n",
       " 'taken',\n",
       " 'indeed',\n",
       " 'released',\n",
       " 'sexual',\n",
       " 'feels',\n",
       " 'french',\n",
       " 'screenplay',\n",
       " 'la',\n",
       " 'jokes',\n",
       " 'sequences',\n",
       " 'chase',\n",
       " 'portrayed',\n",
       " 'dramatic',\n",
       " 'mention',\n",
       " 'talk',\n",
       " 'gun',\n",
       " 'thriller',\n",
       " 'jimmy',\n",
       " 'career',\n",
       " 'reality',\n",
       " 'incredibly',\n",
       " 'whether',\n",
       " 'towards',\n",
       " 'easily',\n",
       " 'entertainment',\n",
       " 'feature',\n",
       " 'western',\n",
       " 'dialog',\n",
       " 'business',\n",
       " 'suspense',\n",
       " 'focus',\n",
       " 'doubt',\n",
       " 'possibly',\n",
       " 'water',\n",
       " 'gay',\n",
       " 'blob',\n",
       " 'comments',\n",
       " 'brothers',\n",
       " 'clear',\n",
       " 'agree',\n",
       " 'allen',\n",
       " 'door',\n",
       " 'editing',\n",
       " 'third',\n",
       " 'deserves',\n",
       " 'silly',\n",
       " 'fantastic',\n",
       " 'convincing',\n",
       " 'hardly',\n",
       " 'lame',\n",
       " 'act',\n",
       " 'former',\n",
       " 'material',\n",
       " 'appears',\n",
       " 'understand',\n",
       " 'twist',\n",
       " 'episodes',\n",
       " 'buy',\n",
       " 'secret',\n",
       " 'richard',\n",
       " 'south',\n",
       " 'bourne',\n",
       " 'deal',\n",
       " 'musical',\n",
       " 'words',\n",
       " 'unique',\n",
       " 'mess',\n",
       " 'opening',\n",
       " 'society',\n",
       " 'avoid',\n",
       " 'footage',\n",
       " 'joe',\n",
       " 'free',\n",
       " 'forget',\n",
       " 'herself',\n",
       " 'appear',\n",
       " 'obvious',\n",
       " 'box',\n",
       " 'single',\n",
       " 'average',\n",
       " 'indian',\n",
       " 'rent',\n",
       " 'okay',\n",
       " 'scary',\n",
       " 'within',\n",
       " 'office',\n",
       " 'crime',\n",
       " 'science',\n",
       " '80',\n",
       " 'believable',\n",
       " 'period',\n",
       " 'showing',\n",
       " 'call',\n",
       " 'return',\n",
       " 'keeps',\n",
       " 'lee',\n",
       " 'expected',\n",
       " 'stay',\n",
       " 'middle',\n",
       " 'jack',\n",
       " 'hands',\n",
       " 'david',\n",
       " 'attempts',\n",
       " 'strong',\n",
       " 'tension',\n",
       " 'crew',\n",
       " 'hilarious',\n",
       " 'grade',\n",
       " 'outside',\n",
       " 'means',\n",
       " 'viewing',\n",
       " 'sadly',\n",
       " 'hell',\n",
       " 'whatever',\n",
       " 'sorry',\n",
       " 'recently',\n",
       " 'stage',\n",
       " 'decides',\n",
       " 'hear',\n",
       " 'team',\n",
       " 'learn',\n",
       " 'nor',\n",
       " 'open',\n",
       " 'break',\n",
       " 'question',\n",
       " 'remake',\n",
       " 'porn',\n",
       " 'pain',\n",
       " 'imagine',\n",
       " 'deep',\n",
       " 'zombie',\n",
       " 'basically',\n",
       " 'killing',\n",
       " 'company',\n",
       " 'poorly',\n",
       " 'dr.',\n",
       " 'predictable',\n",
       " 'taking',\n",
       " 'large',\n",
       " 'language',\n",
       " 'giving',\n",
       " 'public',\n",
       " 'audiences',\n",
       " 'ask',\n",
       " 'cool',\n",
       " 'america',\n",
       " 'slasher',\n",
       " 'west',\n",
       " 'mentioned',\n",
       " 'die',\n",
       " 'christmas',\n",
       " 'complete',\n",
       " 'needed',\n",
       " 'martin',\n",
       " 'cgi',\n",
       " 'boys',\n",
       " 'vargas',\n",
       " 'usual',\n",
       " 'begin',\n",
       " 'dad',\n",
       " 'total',\n",
       " 'somehow',\n",
       " 'stick',\n",
       " 'shame',\n",
       " 'successful',\n",
       " 'sitting',\n",
       " 'fred',\n",
       " 'meets',\n",
       " 'unless',\n",
       " 'dancing',\n",
       " 'sounds',\n",
       " 'above',\n",
       " 'elements',\n",
       " 'whose',\n",
       " 'german',\n",
       " 'considering',\n",
       " 'caught',\n",
       " 'credit',\n",
       " 'interested',\n",
       " 'move',\n",
       " 'filming',\n",
       " 'truth',\n",
       " 'eventually',\n",
       " 'share',\n",
       " 'ability',\n",
       " 'meaning',\n",
       " 'agent',\n",
       " 'fast',\n",
       " 'stand',\n",
       " 'onto',\n",
       " 'plain',\n",
       " 'comment',\n",
       " 'kept',\n",
       " 'situation',\n",
       " 'setting',\n",
       " 'value',\n",
       " 'willing',\n",
       " 'realize',\n",
       " 'acted',\n",
       " 'weird',\n",
       " 'alive',\n",
       " 'fairly',\n",
       " 'dream',\n",
       " 'building',\n",
       " 'hair',\n",
       " 'bored',\n",
       " 'minute',\n",
       " 'emotional',\n",
       " 'directing',\n",
       " 'theatrical',\n",
       " 'famous',\n",
       " 'begins',\n",
       " 'front',\n",
       " 'catch',\n",
       " 'sequence',\n",
       " 'runs',\n",
       " 'follows',\n",
       " 'song',\n",
       " 'government',\n",
       " 'miss',\n",
       " 'actual',\n",
       " 'makers',\n",
       " ...]"
      ]
     },
     "execution_count": 19,
     "metadata": {},
     "output_type": "execute_result"
    }
   ],
   "source": [
    "movie_reviews.vocab.itos"
   ]
  },
  {
   "cell_type": "markdown",
   "metadata": {},
   "source": [
    "#### Notice that ints-to-string and string-to-ints have different lengths.  Think for a moment about why this is.\n",
    "See Hint below"
   ]
  },
  {
   "cell_type": "code",
   "execution_count": 20,
   "metadata": {},
   "outputs": [
    {
     "name": "stdout",
     "output_type": "stream",
     "text": [
      "itos  length  6008 <class 'list'>\n",
      "stoi  length  19159 <class 'collections.defaultdict'>\n"
     ]
    }
   ],
   "source": [
    "print('itos ', 'length ',len(movie_reviews.vocab.itos),type(movie_reviews.vocab.itos) )\n",
    "print('stoi ', 'length ',len(movie_reviews.vocab.stoi),type(movie_reviews.vocab.stoi) )"
   ]
  },
  {
   "cell_type": "markdown",
   "metadata": {},
   "source": [
    "#### Hint: `stoi` is an instance of the class `defaultdict`\n",
    "<img src=\"default_dict.png\" alt=\"floating point\" style=\"width: 90%\"/>"
   ]
  },
  {
   "cell_type": "markdown",
   "metadata": {},
   "source": [
    "#### In a `defaultdict`, rare words that appear fewer than three times in the corpus, and words that are not in the dictionary, are mapped to a `default value`, in this case, zero"
   ]
  },
  {
   "cell_type": "code",
   "execution_count": 21,
   "metadata": {
    "scrolled": true
   },
   "outputs": [
    {
     "name": "stdout",
     "output_type": "stream",
     "text": [
      "0\n",
      "0\n",
      "0\n",
      "0\n",
      "0\n",
      "0\n"
     ]
    }
   ],
   "source": [
    "rare_words = ['acrid','a_random_made_up_nonexistant_word','acrimonious','allosteric','anodyne','antikythera']\n",
    "for word in rare_words:\n",
    "    print(movie_reviews.vocab.stoi[word])"
   ]
  },
  {
   "cell_type": "markdown",
   "metadata": {},
   "source": [
    "#### What's the `token` corresponding to the `default` value?"
   ]
  },
  {
   "cell_type": "code",
   "execution_count": 22,
   "metadata": {},
   "outputs": [
    {
     "name": "stdout",
     "output_type": "stream",
     "text": [
      "xxunk\n"
     ]
    }
   ],
   "source": [
    "print(movie_reviews.vocab.itos[0])"
   ]
  },
  {
   "cell_type": "markdown",
   "metadata": {},
   "source": [
    "#### Note that `stoi` (string-to-int) is larger than `itos` (int-to-string)."
   ]
  },
  {
   "cell_type": "code",
   "execution_count": 23,
   "metadata": {},
   "outputs": [
    {
     "name": "stdout",
     "output_type": "stream",
     "text": [
      "len(stoi) = 19164\n",
      "len(itos) = 6008\n",
      "len(stoi) - len(itos) = 13156\n"
     ]
    }
   ],
   "source": [
    "print(f'len(stoi) = {len(movie_reviews.vocab.stoi)}')\n",
    "print(f'len(itos) = {len(movie_reviews.vocab.itos)}')\n",
    "print(f'len(stoi) - len(itos) = {len(movie_reviews.vocab.stoi) - len(movie_reviews.vocab.itos)}')"
   ]
  },
  {
   "cell_type": "markdown",
   "metadata": {},
   "source": [
    "#### This is because many words map to `unknown`.  We can confirm here:"
   ]
  },
  {
   "cell_type": "code",
   "execution_count": 24,
   "metadata": {},
   "outputs": [],
   "source": [
    "unk = []\n",
    "for word, num in movie_reviews.vocab.stoi.items():\n",
    "    if num==0:\n",
    "        unk.append(word)"
   ]
  },
  {
   "cell_type": "code",
   "execution_count": 25,
   "metadata": {},
   "outputs": [
    {
     "data": {
      "text/plain": [
       "13157"
      ]
     },
     "execution_count": 25,
     "metadata": {},
     "output_type": "execute_result"
    }
   ],
   "source": [
    "len(unk)"
   ]
  },
  {
   "cell_type": "markdown",
   "metadata": {},
   "source": [
    "#### Question: why isn't len(unk) = len(stoi) - len(itos)?\n",
    "Hint: remember the list of rare words we used to query `stoi` a few cells back?"
   ]
  },
  {
   "cell_type": "markdown",
   "metadata": {},
   "source": [
    "#### Here are the first 25 words that are mapped to `unknown`"
   ]
  },
  {
   "cell_type": "code",
   "execution_count": 26,
   "metadata": {
    "scrolled": false
   },
   "outputs": [
    {
     "data": {
      "text/plain": [
       "['xxunk',\n",
       " 'bleeping',\n",
       " 'pert',\n",
       " 'ticky',\n",
       " 'schtick',\n",
       " 'whoosh',\n",
       " 'banzai',\n",
       " 'chill',\n",
       " 'wooofff',\n",
       " 'cheery',\n",
       " 'superstars',\n",
       " 'fashionable',\n",
       " 'cruelly',\n",
       " 'separating',\n",
       " 'mistreat',\n",
       " 'tensions',\n",
       " 'religions',\n",
       " 'baseness',\n",
       " 'nobility',\n",
       " 'puro',\n",
       " 'disowned',\n",
       " 'option',\n",
       " 'faults',\n",
       " 'dignified',\n",
       " 'realisation']"
      ]
     },
     "execution_count": 26,
     "metadata": {},
     "output_type": "execute_result"
    }
   ],
   "source": [
    "unk[:25]"
   ]
  },
  {
   "cell_type": "markdown",
   "metadata": {},
   "source": [
    "## 3. Map the movie reviews into a vector space"
   ]
  },
  {
   "cell_type": "markdown",
   "metadata": {},
   "source": [
    "### There are 6016 unique tokens in the IMDb review vocabulary. Their numericalized values range from 0 to 6015"
   ]
  },
  {
   "cell_type": "code",
   "execution_count": 27,
   "metadata": {},
   "outputs": [
    {
     "name": "stdout",
     "output_type": "stream",
     "text": [
      "There are 6008 unique tokens in the IMDb review sample vocabulary\n",
      "The numericalized token values run from 0 to 6007 \n"
     ]
    }
   ],
   "source": [
    "print(f'There are {len(movie_reviews.vocab.itos)} unique tokens in the IMDb review sample vocabulary')\n",
    "print(f'The numericalized token values run from {min(movie_reviews.vocab.stoi.values())} to {max(movie_reviews.vocab.stoi.values())} ')"
   ]
  },
  {
   "cell_type": "markdown",
   "metadata": {},
   "source": [
    "### Each review can be mapped to a 6016-dimensional `embedding vector` whose indices correspond to the numericalized tokens, and whose values are the number of times the corresponding token appeared in the review. To do this efficiently we need to learn a bit about `Counters`."
   ]
  },
  {
   "cell_type": "markdown",
   "metadata": {},
   "source": [
    "### 3A. Counters"
   ]
  },
  {
   "cell_type": "markdown",
   "metadata": {},
   "source": [
    "A **Counter** is a useful Python object.  A **Counter** applied to a list returns an ordered dictionary whose keys are the unique elements in the list, and whose values are the counts of the unique elements. Counters are from the collections module (along with OrderedDict, defaultdict, deque, and namedtuple).\n",
    "Here is how Counters work:"
   ]
  },
  {
   "cell_type": "markdown",
   "metadata": {},
   "source": [
    "#### Let's make a TokenCounter for movie reviews"
   ]
  },
  {
   "cell_type": "code",
   "execution_count": 28,
   "metadata": {},
   "outputs": [
    {
     "data": {
      "text/plain": [
       "dict_items([(2, 1), (5, 15), (4619, 1), (25, 3), (0, 8), (867, 1), (52, 5), (3776, 1), (1800, 1), (95, 1), (37, 1), (85, 1), (192, 1), (64, 2), (935, 1), (2738, 1), (517, 1), (18, 1), (21, 3), (11, 1), (84, 1), (2417, 1), (193, 1), (88, 1), (3777, 1), (1801, 1), (127, 1), (10, 3), (269, 1), (15, 1), (273, 1), (73, 1), (26, 2), (9, 2), (1360, 1), (35, 2), (1213, 1), (1144, 1), (1145, 1), (2418, 1), (91, 1), (63, 1), (245, 1), (14, 2), (1361, 1), (1447, 1), (65, 1), (40, 1), (796, 1), (103, 1), (72, 2), (99, 1), (534, 1), (616, 1), (48, 1), (282, 1), (54, 1), (90, 1), (219, 1), (228, 1), (43, 1), (13, 1), (3778, 1), (3779, 1), (355, 1), (492, 1)])"
      ]
     },
     "execution_count": 28,
     "metadata": {},
     "output_type": "execute_result"
    }
   ],
   "source": [
    "TokenCounter = lambda review_index : Counter((movie_reviews.train.x)[review_index].data)\n",
    "TokenCounter(0).items()"
   ]
  },
  {
   "cell_type": "markdown",
   "metadata": {},
   "source": [
    "#### The TokenCounter `keys` are the numericalized `tokens` that apper in the review"
   ]
  },
  {
   "cell_type": "code",
   "execution_count": 29,
   "metadata": {},
   "outputs": [
    {
     "data": {
      "text/plain": [
       "dict_keys([2, 5, 4619, 25, 0, 867, 52, 3776, 1800, 95, 37, 85, 192, 64, 935, 2738, 517, 18, 21, 11, 84, 2417, 193, 88, 3777, 1801, 127, 10, 269, 15, 273, 73, 26, 9, 1360, 35, 1213, 1144, 1145, 2418, 91, 63, 245, 14, 1361, 1447, 65, 40, 796, 103, 72, 99, 534, 616, 48, 282, 54, 90, 219, 228, 43, 13, 3778, 3779, 355, 492])"
      ]
     },
     "execution_count": 29,
     "metadata": {},
     "output_type": "execute_result"
    }
   ],
   "source": [
    "TokenCounter(0).keys()"
   ]
  },
  {
   "cell_type": "markdown",
   "metadata": {},
   "source": [
    "#### The TokenCounter `values` are the `token multiplicities`, i.e the number of times each `token` appears in the review"
   ]
  },
  {
   "cell_type": "code",
   "execution_count": 30,
   "metadata": {},
   "outputs": [
    {
     "data": {
      "text/plain": [
       "dict_values([1, 15, 1, 3, 8, 1, 5, 1, 1, 1, 1, 1, 1, 2, 1, 1, 1, 1, 3, 1, 1, 1, 1, 1, 1, 1, 1, 3, 1, 1, 1, 1, 2, 2, 1, 2, 1, 1, 1, 1, 1, 1, 1, 2, 1, 1, 1, 1, 1, 1, 2, 1, 1, 1, 1, 1, 1, 1, 1, 1, 1, 1, 1, 1, 1, 1])"
      ]
     },
     "execution_count": 30,
     "metadata": {},
     "output_type": "execute_result"
    }
   ],
   "source": [
    "TokenCounter(0).values()"
   ]
  },
  {
   "cell_type": "markdown",
   "metadata": {},
   "source": [
    "### 3B. Mapping movie reviews to `embedding vectors`"
   ]
  },
  {
   "cell_type": "markdown",
   "metadata": {},
   "source": [
    "#### Make a `count_vectorizer` function that represents a movie review as a 6016-dimensional `embedding vector`\n",
    "#### The `indices` of  the `embedding vector` correspond to the n6016 numericalized tokens in the vocabulary; the `values` specify how often the corresponding token appears in the review. "
   ]
  },
  {
   "cell_type": "code",
   "execution_count": 31,
   "metadata": {},
   "outputs": [],
   "source": [
    "n_terms = len(movie_reviews.vocab.itos)\n",
    "n_docs = len(movie_reviews.train.x)\n",
    "make_token_counter = lambda review_index: Counter(movie_reviews.train.x[review_index].data)\n",
    "def count_vectorizer(review_index,n_terms = n_terms,make_token_counter = make_token_counter):\n",
    "    # input: review index, n_terms, and tokenizer function\n",
    "    # output: embedding vector for the review\n",
    "    embedding_vector = np.zeros(n_terms)        \n",
    "    keys = list(make_token_counter(review_index).keys())\n",
    "    values = list(make_token_counter(review_index).values())\n",
    "    embedding_vector[keys] = values\n",
    "    return embedding_vector\n",
    "\n",
    "# make the embedding vector for the first review\n",
    "embedding_vector = count_vectorizer(0)"
   ]
  },
  {
   "cell_type": "code",
   "execution_count": 32,
   "metadata": {},
   "outputs": [
    {
     "data": {
      "text/plain": [
       "array([8., 0., 1., 0., ..., 0., 0., 0., 0.])"
      ]
     },
     "execution_count": 32,
     "metadata": {},
     "output_type": "execute_result"
    }
   ],
   "source": [
    "embedding_vector"
   ]
  },
  {
   "cell_type": "markdown",
   "metadata": {},
   "source": [
    "#### Here is the `embedding vector` for the first review in the training data set"
   ]
  },
  {
   "cell_type": "code",
   "execution_count": 33,
   "metadata": {},
   "outputs": [
    {
     "name": "stdout",
     "output_type": "stream",
     "text": [
      "The review is embedded in a 6008 dimensional vector\n"
     ]
    },
    {
     "data": {
      "text/plain": [
       "array([8., 0., 1., 0., ..., 0., 0., 0., 0.])"
      ]
     },
     "execution_count": 33,
     "metadata": {},
     "output_type": "execute_result"
    }
   ],
   "source": [
    "print(f'The review is embedded in a {len(embedding_vector)} dimensional vector')\n",
    "embedding_vector"
   ]
  },
  {
   "cell_type": "markdown",
   "metadata": {},
   "source": [
    "## 4. Create the document-term matrix for the IMDb"
   ]
  },
  {
   "cell_type": "markdown",
   "metadata": {},
   "source": [
    "#### In non-deep learning methods of NLP, we are often interested only in `which words` were used in a review, and `how often each word got used`. This is known as the `bag of words` approach, and it suggests a really simple way to store a document (in this case, a movie review). \n",
    "\n",
    "#### For each review we can keep track of which words were used and how often each word was used with a `vector` whose `length` is the number of tokens in the vocabulary, which we will call `n`. The `indexes` of this `vector` correspond to the `tokens` in the `IMDb vocabulary`, and the`values` of the vector are the number of times the corresponding tokens appeared in the review. For example the values stored at indexes 0, 1, 2, 3, 4 of the vector record the number of times the 5 tokens ['xxunk','xxpad','xxbos','xxeos','xxfld'] appeared in the review, respectively.\n",
    "\n",
    "#### Now, if our movie review database has `m` reviews, and each review is represented by a `vector` of length `n`, then vertically stacking the row vectors for all the reviews creates a matrix representation of the IMDb, which we call its `document-term matrix`. The `rows` correspond to `documents` (reviews), while the `columns` correspond to `terms` (or tokens in the vocabulary)."
   ]
  },
  {
   "cell_type": "markdown",
   "metadata": {},
   "source": [
    "In the previous lesson, we used [sklearn's CountVectorizer](https://github.com/scikit-learn/scikit-learn/blob/55bf5d9/sklearn/feature_extraction/text.py#L940) to generate the `vectors` that represent individual reviews. Today we will create our own (similar) version.  This is for two reasons:\n",
    "- to understand what sklearn is doing underneath the hood\n",
    "- to create something that will work with a fastai TextList"
   ]
  },
  {
   "cell_type": "markdown",
   "metadata": {},
   "source": [
    "### Form the embedding vectors for the movie_reviews in the training set and stack them vertically"
   ]
  },
  {
   "cell_type": "code",
   "execution_count": 34,
   "metadata": {},
   "outputs": [
    {
     "name": "stdout",
     "output_type": "stream",
     "text": [
      "there are 800 reviews, and 6008 unique tokens in the vocabulary\n"
     ]
    }
   ],
   "source": [
    "# Define a function to build the full document-term matrix\n",
    "print(f'there are {n_docs} reviews, and {n_terms} unique tokens in the vocabulary')\n",
    "def make_full_doc_term_matrix(count_vectorizer,n_terms=n_terms,n_docs=n_docs):\n",
    "    \n",
    "    # loop through the movie reviews\n",
    "    for doc_index in range(n_docs):\n",
    "        \n",
    "        # make the embedding vector for the current review\n",
    "        embedding_vector = count_vectorizer(doc_index,n_terms)    \n",
    "            \n",
    "        # append the embedding vector to the document-term matrix\n",
    "        if(doc_index == 0):\n",
    "            A = embedding_vector\n",
    "        else:\n",
    "            A = np.vstack((A,embedding_vector))\n",
    "            \n",
    "    # return the document-term matrix\n",
    "    return A\n",
    "\n",
    "# Build the full document term matrix for the movie_reviews training set\n",
    "A = make_full_doc_term_matrix(count_vectorizer)"
   ]
  },
  {
   "cell_type": "markdown",
   "metadata": {},
   "source": [
    "### Explore the `sparsity` of the document-term matrix"
   ]
  },
  {
   "cell_type": "markdown",
   "metadata": {},
   "source": [
    "#### The `sparsity` of a matrix is defined as the fraction of of zero-valued elements"
   ]
  },
  {
   "cell_type": "code",
   "execution_count": 35,
   "metadata": {},
   "outputs": [
    {
     "name": "stdout",
     "output_type": "stream",
     "text": [
      "Only 112409 of the 4806400 elements in the document-term matrix are nonzero\n",
      "The sparsity of the document-term matrix is 0.9766126414780293\n"
     ]
    }
   ],
   "source": [
    "NNZ = np.count_nonzero(A)\n",
    "sparsity = (A.size-NNZ)/A.size\n",
    "print(f'Only {NNZ} of the {A.size} elements in the document-term matrix are nonzero')\n",
    "print(f'The sparsity of the document-term matrix is {sparsity}')"
   ]
  },
  {
   "cell_type": "markdown",
   "metadata": {},
   "source": [
    "#### Using matplotlib's `spy` method, we can visualize the structure of the `document-term matrix`\n",
    "`spy` plots the array, indicating each non-zero value with a dot."
   ]
  },
  {
   "cell_type": "code",
   "execution_count": 36,
   "metadata": {},
   "outputs": [
    {
     "data": {
      "image/png": "[encoded data removed]",
      "text/plain": [
       "<Figure size 576x432 with 1 Axes>"
      ]
     },
     "metadata": {
      "needs_background": "light"
     },
     "output_type": "display_data"
    }
   ],
   "source": [
    "fig = plt.figure()\n",
    "plt.spy(A, markersize=0.10, aspect = 'auto')\n",
    "fig.set_size_inches(8,6)\n",
    "fig.savefig('doc_term_matrix.png', dpi=800)"
   ]
  },
  {
   "cell_type": "markdown",
   "metadata": {},
   "source": [
    "#### Several observations stand out:\n",
    "1. Evidently, the document-term matrix is `sparse` ie. has a high proportion of zeros! \n",
    "2. The density of the matrix increases toward the `left` edge. This makes sense because the tokens are ordered by usage frequency, with frequency increasing toward the `left`.\n",
    "3. There is a perplexing pattern of curved vertical `density ripples`. If anyone has an explanation, please let me know! \n",
    "\n",
    "#### Next we'll see how to  exploit matrix sparsity to save memory storage space, and compute time and resources.\n"
   ]
  },
  {
   "cell_type": "markdown",
   "metadata": {},
   "source": [
    "## 5. Sparse Matrix Representation"
   ]
  },
  {
   "cell_type": "markdown",
   "metadata": {},
   "source": [
    "#### Even though we've reduced over 19,000 unique words in our corpus of reviews down to a vocabulary of 6,000 words, that's still a lot! But reviews are generally short, a few hundred words. So most tokens don't appear in a typical review.  That means that most of the entries in the document-term matrix will be zeros, and therefore ordinary matrix operations will waste a lot of compute resources multiplying and adding zeros. \n",
    "\n",
    "####  We want to maximize the use of space and time by storing and performing matrix operations on our document-term matrix as a **sparse matrix**. `scipy` provides tools for efficient sparse matrix representatin and operations. "
   ]
  },
  {
   "cell_type": "markdown",
   "metadata": {},
   "source": [
    "#### Loosely speaking,  matrix with a high proportion of zeros is called `sparse` (the opposite of sparse is `dense`).  For sparse matrices, you can save a lot of memory by only storing the non-zero values.\n",
    "\n",
    "#### More specifically, a class of matrices is called **sparse** if the number of non-zero elements is proportional to the number of rows (or columns) instead of being proportional to the product rows x columns. An example is the class of diagonal matrices.\n",
    "\n",
    "\n",
    "<img src=\"images/sparse.png\" alt=\"floating point\" style=\"width: 30%\"/>\n",
    "\n"
   ]
  },
  {
   "cell_type": "markdown",
   "metadata": {},
   "source": [
    "### Visualizing sparse matrix structure\n",
    "<img src=\"sparse-matrix-structure-visualization.png\" alt=\"floating point\" style=\"width: 90%\"/>\n",
    "ref. https://scipy-lectures.org/advanced/scipy_sparse/introduction.html"
   ]
  },
  {
   "cell_type": "markdown",
   "metadata": {},
   "source": [
    "### Sparse matrix storage formats\n",
    "\n",
    "<img src=\"summary_of_sparse_matrix_storage_schemes.png\" alt=\"floating point\" style=\"width: 90%\"/>\n",
    "ref. https://scipy-lectures.org/advanced/scipy_sparse/storage_schemes.html\n",
    "\n",
    "There are the most common sparse storage formats:\n",
    "- coordinate-wise (scipy calls COO)\n",
    "- compressed sparse row (CSR)\n",
    "- compressed sparse column (CSC)\n",
    "\n"
   ]
  },
  {
   "cell_type": "markdown",
   "metadata": {},
   "source": [
    "### Definition of the Compressed Sparse Row (CSR) format\n",
    "\n",
    "Let's start out with a presecription for the **CSR format** (ref. https://en.wikipedia.org/wiki/Sparse_matrix)\n",
    "\n",
    "Given a full matrix **`A`** that has **`m`** rows, **`n`** columns, and **`N`** nonzero values, the CSR (Compressed Sparse Row) representation uses three arrays as follows:\n",
    "\n",
    "1. **`Val[0:N]`** contains the **values** of the **`N` non-zero elements**.\n",
    "\n",
    "2. **`Col[0:N]`** contains the **column indices** of the **`N` non-zero elements**. \n",
    "    \n",
    "3. For each row **`i`** of **`A`**, **`RowPointer[i]`** contains the index in **Val** of the the first **nonzero value** in row **`i`**. If there are no nonzero values in the **ith** row, then **`RowPointer[i] = None`**. And, by convention, an extra value **`RowPointer[m] = N`** is tacked on at the end. \n",
    "\n",
    "Question: How many floats and ints does it take to store the matrix **`A`** in CSR format?\n",
    "\n",
    "Let's walk through [a few examples](http://www.mathcs.emory.edu/~cheung/Courses/561/Syllabus/3-C/sparse.html) at the Emory University website\n",
    "\n"
   ]
  },
  {
   "cell_type": "markdown",
   "metadata": {},
   "source": [
    "## 6. Store the document-term matrix in CSR format\n",
    "i.e. given the `TextList` object containing the list of reviews, return the three arrays (values, column_indices, row_pointer)"
   ]
  },
  {
   "cell_type": "markdown",
   "metadata": {},
   "source": [
    "### Scipy Implementation of sparse matrices\n",
    "\n",
    "From the [Scipy Sparse Matrix Documentation](https://docs.scipy.org/doc/scipy-0.18.1/reference/sparse.html)\n",
    "\n",
    "- To construct a matrix efficiently, use either dok_matrix or lil_matrix. The lil_matrix class supports basic slicing and fancy indexing with a similar syntax to NumPy arrays. As illustrated below, the COO format may also be used to efficiently construct matrices\n",
    "- To perform manipulations such as multiplication or inversion, first convert the matrix to either CSC or CSR format.\n",
    "- All conversions among the CSR, CSC, and COO formats are efficient, linear-time operations."
   ]
  },
  {
   "cell_type": "markdown",
   "metadata": {},
   "source": [
    "### To really understand the CSR format, we need to be able know how to do two things:\n",
    "1. Translate a regular matrix A into CSR format\n",
    "2. Reconstruct a regular matrix from its CSR sparse representation\n"
   ]
  },
  {
   "cell_type": "markdown",
   "metadata": {},
   "source": [
    "### 6.1. Translate a regular matrix A into CSR format\n",
    "This is done by implementing the definition of `CSR format`, given above."
   ]
  },
  {
   "cell_type": "code",
   "execution_count": 37,
   "metadata": {},
   "outputs": [],
   "source": [
    "# construct the document-term matrix in CSR format\n",
    "# i.e. return (values, column_indices, row_pointer)\n",
    "def get_doc_term_matrix(text_list, n_terms):\n",
    "    \n",
    "    # inputs:\n",
    "    #    text_list, a TextList object\n",
    "    #    n_terms, the number of tokens in our IMDb vocabulary\n",
    "    \n",
    "    # output: \n",
    "    #    the CSR format sparse representation of the document-term matrix in the form of a\n",
    "    #    scipy.sparse.csr.csr_matrix object\n",
    "\n",
    "    \n",
    "    # initialize arrays\n",
    "    values = []\n",
    "    column_indices = []\n",
    "    row_pointer = []\n",
    "    row_pointer.append(0)\n",
    "\n",
    "    # from the TextList object\n",
    "    for _, doc in enumerate(text_list):\n",
    "        feature_counter = Counter(doc.data)\n",
    "        column_indices.extend(feature_counter.keys())\n",
    "        values.extend(feature_counter.values())\n",
    "        # Tack on N (number of nonzero elements in the matrix) to the end of the row_pointer array\n",
    "        row_pointer.append(len(values))\n",
    "        \n",
    "    return scipy.sparse.csr_matrix((values, column_indices, row_pointer),\n",
    "                                   shape=(len(row_pointer) - 1, n_terms),\n",
    "                                   dtype=int)"
   ]
  },
  {
   "cell_type": "markdown",
   "metadata": {},
   "source": [
    "#### Get the document-term matrix in CSR format for the training data"
   ]
  },
  {
   "cell_type": "code",
   "execution_count": 38,
   "metadata": {},
   "outputs": [
    {
     "name": "stdout",
     "output_type": "stream",
     "text": [
      "CPU times: user 125 ms, sys: 711 µs, total: 126 ms\n",
      "Wall time: 121 ms\n"
     ]
    }
   ],
   "source": [
    "%%time\n",
    "train_doc_term = get_doc_term_matrix(movie_reviews.train.x, len(movie_reviews.vocab.itos))"
   ]
  },
  {
   "cell_type": "code",
   "execution_count": 39,
   "metadata": {},
   "outputs": [
    {
     "data": {
      "text/plain": [
       "scipy.sparse.csr.csr_matrix"
      ]
     },
     "execution_count": 39,
     "metadata": {},
     "output_type": "execute_result"
    }
   ],
   "source": [
    "type(train_doc_term)"
   ]
  },
  {
   "cell_type": "code",
   "execution_count": 40,
   "metadata": {},
   "outputs": [
    {
     "data": {
      "text/plain": [
       "(800, 6008)"
      ]
     },
     "execution_count": 40,
     "metadata": {},
     "output_type": "execute_result"
    }
   ],
   "source": [
    "train_doc_term.shape"
   ]
  },
  {
   "cell_type": "markdown",
   "metadata": {},
   "source": [
    "#### Get the document-term matrix in CSR format for the validation data"
   ]
  },
  {
   "cell_type": "code",
   "execution_count": 41,
   "metadata": {},
   "outputs": [
    {
     "name": "stdout",
     "output_type": "stream",
     "text": [
      "CPU times: user 30.3 ms, sys: 3.52 ms, total: 33.8 ms\n",
      "Wall time: 32.5 ms\n"
     ]
    }
   ],
   "source": [
    "%%time\n",
    "valid_doc_term = get_doc_term_matrix(movie_reviews.valid.x, len(movie_reviews.vocab.itos))"
   ]
  },
  {
   "cell_type": "code",
   "execution_count": 42,
   "metadata": {},
   "outputs": [
    {
     "data": {
      "text/plain": [
       "scipy.sparse.csr.csr_matrix"
      ]
     },
     "execution_count": 42,
     "metadata": {},
     "output_type": "execute_result"
    }
   ],
   "source": [
    "type(valid_doc_term)"
   ]
  },
  {
   "cell_type": "code",
   "execution_count": 43,
   "metadata": {},
   "outputs": [
    {
     "data": {
      "text/plain": [
       "(200, 6008)"
      ]
     },
     "execution_count": 43,
     "metadata": {},
     "output_type": "execute_result"
    }
   ],
   "source": [
    "valid_doc_term.shape"
   ]
  },
  {
   "cell_type": "markdown",
   "metadata": {},
   "source": [
    "### 6.2 Reconstruct a regular matrix from its CSR sparse representation\n",
    "#### Given a CSR format sparse matrix representation $(\\text{values},\\text{column_indices}, \\text{row_pointer})$ of a $\\text{m}\\times \\text{n}$ matrix $\\text{A}$, <br> how can we recover $\\text{A}$?\n",
    "\n",
    "First create $\\text{m}\\times \\text{n}$ matrix with all zeros.\n",
    "We will recover $\\text{A}$ by overwriting the entries in the zeros matrix row by row with the non-zero entries in $\\text{A}$ as follows:"
   ]
  },
  {
   "cell_type": "code",
   "execution_count": 44,
   "metadata": {},
   "outputs": [],
   "source": [
    "def CSR_to_full(values, column_indices, row_ptr, m,n):\n",
    "    A = zeros(m,n)\n",
    "    for row in range(n):\n",
    "        if row_ptr is not null:\n",
    "            A[row,column_indices[row_ptr[row]:row_ptr[row+1]]] = values[row_ptr[row]:row_ptr[row+1]]\n",
    "    return A\n"
   ]
  },
  {
   "cell_type": "markdown",
   "metadata": {},
   "source": [
    "## 7. IMDb data exploration exercises"
   ]
  },
  {
   "cell_type": "markdown",
   "metadata": {},
   "source": [
    "#### The`.todense()` method converts a sparse matrix back to a regular (dense) matrix."
   ]
  },
  {
   "cell_type": "code",
   "execution_count": 45,
   "metadata": {},
   "outputs": [
    {
     "data": {
      "text/plain": [
       "<200x6008 sparse matrix of type '<class 'numpy.int64'>'\n",
       "\twith 27849 stored elements in Compressed Sparse Row format>"
      ]
     },
     "execution_count": 45,
     "metadata": {},
     "output_type": "execute_result"
    }
   ],
   "source": [
    "valid_doc_term"
   ]
  },
  {
   "cell_type": "code",
   "execution_count": 46,
   "metadata": {
    "scrolled": false
   },
   "outputs": [
    {
     "data": {
      "text/plain": [
       "matrix([[32,  0,  1,  0, ...,  1,  0,  0, 10],\n",
       "        [ 9,  0,  1,  0, ...,  1,  0,  0,  7],\n",
       "        [ 6,  0,  1,  0, ...,  0,  0,  0, 12],\n",
       "        [78,  0,  1,  0, ...,  0,  0,  0, 44],\n",
       "        ...,\n",
       "        [ 8,  0,  1,  0, ...,  0,  0,  0,  8],\n",
       "        [43,  0,  1,  0, ...,  8,  1,  0, 25],\n",
       "        [ 7,  0,  1,  0, ...,  1,  0,  0,  9],\n",
       "        [19,  0,  1,  0, ...,  2,  0,  0,  5]])"
      ]
     },
     "execution_count": 46,
     "metadata": {},
     "output_type": "execute_result"
    }
   ],
   "source": [
    "valid_doc_term.todense()[:10,:10]"
   ]
  },
  {
   "cell_type": "markdown",
   "metadata": {},
   "source": [
    "#### Consider the second review in the validation set"
   ]
  },
  {
   "cell_type": "code",
   "execution_count": 47,
   "metadata": {},
   "outputs": [
    {
     "data": {
      "text/plain": [
       "Text [  2  19 248  21 ...   9   0  10   0]"
      ]
     },
     "execution_count": 47,
     "metadata": {},
     "output_type": "execute_result"
    }
   ],
   "source": [
    "review = movie_reviews.valid.x[1]\n",
    "review"
   ]
  },
  {
   "cell_type": "markdown",
   "metadata": {},
   "source": [
    "**Exercise 1:** How many times does the word \"it\" appear in this review? Confirm that the correct values is stored in the document-term matrix, for the row corresponding to this review and the column corresponding to the word \"it\"."
   ]
  },
  {
   "cell_type": "code",
   "execution_count": null,
   "metadata": {},
   "outputs": [],
   "source": []
  },
  {
   "cell_type": "markdown",
   "metadata": {},
   "source": [
    "#### Answer 1:"
   ]
  },
  {
   "cell_type": "code",
   "execution_count": 48,
   "metadata": {},
   "outputs": [],
   "source": [
    "from fastai.text.data import Text"
   ]
  },
  {
   "cell_type": "code",
   "execution_count": 49,
   "metadata": {},
   "outputs": [
    {
     "data": {
      "text/plain": [
       "array([  2,  19, 248,  21, ...,   9,   0,  10,   0])"
      ]
     },
     "execution_count": 49,
     "metadata": {},
     "output_type": "execute_result"
    }
   ],
   "source": [
    "movie_reviews.valid.x[1].data"
   ]
  },
  {
   "cell_type": "code",
   "execution_count": 50,
   "metadata": {},
   "outputs": [
    {
     "data": {
      "text/plain": [
       "10"
      ]
     },
     "execution_count": 50,
     "metadata": {},
     "output_type": "execute_result"
    }
   ],
   "source": [
    "sum([1 if i ==17 else 0  for i in movie_reviews.valid.x[1].data ])"
   ]
  },
  {
   "cell_type": "code",
   "execution_count": 51,
   "metadata": {},
   "outputs": [
    {
     "data": {
      "text/plain": [
       "10"
      ]
     },
     "execution_count": 51,
     "metadata": {},
     "output_type": "execute_result"
    }
   ],
   "source": [
    "valid_doc_term.todense()[1,17]"
   ]
  },
  {
   "cell_type": "code",
   "execution_count": null,
   "metadata": {},
   "outputs": [],
   "source": [
    "# try it! \n",
    "# Your code here."
   ]
  },
  {
   "cell_type": "markdown",
   "metadata": {},
   "source": [
    "**Exercise 2**: Confirm that the review has 144 tokens, 81 of which are distinct"
   ]
  },
  {
   "cell_type": "markdown",
   "metadata": {},
   "source": [
    "#### Answer 2:"
   ]
  },
  {
   "cell_type": "code",
   "execution_count": 53,
   "metadata": {},
   "outputs": [
    {
     "data": {
      "text/plain": [
       "<1x6008 sparse matrix of type '<class 'numpy.int64'>'\n",
       "\twith 81 stored elements in Compressed Sparse Row format>"
      ]
     },
     "execution_count": 53,
     "metadata": {},
     "output_type": "execute_result"
    }
   ],
   "source": [
    "valid_doc_term[1]"
   ]
  },
  {
   "cell_type": "code",
   "execution_count": 54,
   "metadata": {},
   "outputs": [
    {
     "data": {
      "text/plain": [
       "144"
      ]
     },
     "execution_count": 54,
     "metadata": {},
     "output_type": "execute_result"
    }
   ],
   "source": [
    "valid_doc_term[1].sum()"
   ]
  },
  {
   "cell_type": "code",
   "execution_count": 55,
   "metadata": {},
   "outputs": [
    {
     "data": {
      "text/plain": [
       "81"
      ]
     },
     "execution_count": 55,
     "metadata": {},
     "output_type": "execute_result"
    }
   ],
   "source": [
    "len(set(review.data))"
   ]
  },
  {
   "cell_type": "markdown",
   "metadata": {},
   "source": [
    "**Exercise 3:** How could you convert review.data back to text (without just using review.text)?"
   ]
  },
  {
   "cell_type": "code",
   "execution_count": null,
   "metadata": {},
   "outputs": [],
   "source": [
    "map(review.data)"
   ]
  },
  {
   "cell_type": "markdown",
   "metadata": {},
   "source": [
    "#### Answer 3:"
   ]
  },
  {
   "cell_type": "code",
   "execution_count": 56,
   "metadata": {},
   "outputs": [
    {
     "name": "stdout",
     "output_type": "stream",
     "text": [
      "['xxbos', 'i', 'saw', 'this', 'movie', 'once', 'as', 'a', 'kid', 'on', 'the', 'late', '-', 'late', 'show', 'and', 'fell', 'in', 'love', 'with', 'it', '.', '\\n \\n ', 'xxmaj', 'it', 'took', '30', '+', 'years', ',', 'but', 'i', 'recently', 'did', 'find', 'it', 'on', 'xxup', 'dvd', '-', 'it', 'was', \"n't\", 'cheap', ',', 'either', '-', 'in', 'a', 'xxunk', 'that', 'xxunk', 'in', 'war', 'movies', '.', 'xxmaj', 'we', 'watched', 'it', 'last', 'night', 'for', 'the', 'first', 'time', '.', 'xxmaj', 'the', 'audio', 'was', 'good', ',', 'however', 'it', 'was', 'grainy', 'and', 'had', 'the', 'trailers', 'between', 'xxunk', '.', 'xxmaj', 'even', 'so', ',', 'it', 'was', 'better', 'than', 'i', 'remembered', 'it', '.', 'i', 'was', 'also', 'impressed', 'at', 'how', 'true', 'it', 'was', 'to', 'the', 'play', '.', '\\n \\n ', 'xxmaj', 'the', 'xxunk', 'is', 'around', 'here', 'xxunk', '.', 'xxmaj', 'if', 'you', \"'re\", 'xxunk', 'in', 'finding', 'it', ',', 'fire', 'me', 'a', 'xxunk', 'and', 'i', \"'ll\", 'see', 'if', 'i', 'can', 'get', 'you', 'the', 'xxunk', '.', 'xxunk']\n"
     ]
    }
   ],
   "source": [
    "word_list = [movie_reviews.vocab.itos[a] for a in review.data]\n",
    "print(word_list)"
   ]
  },
  {
   "cell_type": "code",
   "execution_count": 57,
   "metadata": {},
   "outputs": [
    {
     "name": "stdout",
     "output_type": "stream",
     "text": [
      "xxbos i saw this movie once as a kid on the late - late show and fell in love with it . \n",
      " \n",
      "  xxmaj it took 30 + years , but i recently did find it on xxup dvd - it was n't cheap , either - in a xxunk that xxunk in war movies . xxmaj we watched it last night for the first time . xxmaj the audio was good , however it was grainy and had the trailers between xxunk . xxmaj even so , it was better than i remembered it . i was also impressed at how true it was to the play . \n",
      " \n",
      "  xxmaj the xxunk is around here xxunk . xxmaj if you 're xxunk in finding it , fire me a xxunk and i 'll see if i can get you the xxunk . xxunk\n"
     ]
    }
   ],
   "source": [
    "reconstructed_text = ' '.join(word_list)\n",
    "print(reconstructed_text)"
   ]
  },
  {
   "cell_type": "markdown",
   "metadata": {},
   "source": [
    "## *Video 4 material ends here.* \n",
    "## *Video 5 material begins below.*"
   ]
  },
  {
   "cell_type": "markdown",
   "metadata": {},
   "source": [
    "## 8. What is a [Naive Bayes classifier](https://towardsdatascience.com/the-naive-bayes-classifier-e92ea9f47523)? "
   ]
  },
  {
   "cell_type": "markdown",
   "metadata": {},
   "source": [
    "\n",
    "#### The `bag of words model` considers a movie review as equivalent to a list of the counts of all the tokens that it contains. When you do this, you throw away the rich information that comes from the sequential arrangement of the tokens into sentences and paragraphs. \n",
    "\n",
    "#### Nevertheless, even if you are not allowed to read the review but are only given its representation as `token counts`, you can usually still get a pretty good sense of whether the review was good or bad. How do you do this?  By mentally gauging the overall `positive` or `negative` sentiment that the collection of words conveys, right?  \n",
    "\n",
    "#### The `Naive Bayes Classifier` is an algorithm that encodes this simple reasoning process mathematically. It is based on two important pieces of information that we can learn from the training set:\n",
    "* The `class priors`, i.e. the probabilities that a randomly chosen review will be `positive`, or `negative`\n",
    "* The `token likelihoods` i.e. how likely is it that a given token would appear in a `positive` or `negative` review \n",
    "\n",
    "#### It turns out that this is all the information we need to build a model capable of predicting fairly accurately how any given review will be classified, given its text! \n",
    "\n",
    "#### We shall unfold the complete explanation of the magic of the Naive Bayes Classifier in the next section. \n",
    "\n",
    "#### Meanwhile, In this section, we focus on how to compute the necessary information from the training data, specifically the `prior probabilities` for reviews of each class, and the `class occurrence counts` and `class likelihood ratios` for each `token` in the `vocabulary`. "
   ]
  },
  {
   "cell_type": "markdown",
   "metadata": {},
   "source": [
    "### 8A. Class priors"
   ]
  },
  {
   "cell_type": "markdown",
   "metadata": {},
   "source": [
    "#### From the training data we can determine the `class priors` $p$ and $q$, which are the overall probabilities that a randomly chosen review is in the `positive`, or `negative` class, resepectively. \n",
    "\n",
    "#### $p=\\frac{N^{+}}{N}$ \n",
    "#### and\n",
    "#### $q=\\frac{N^{-}}{N}$ \n",
    "\n",
    "#### Here $N^{+}$ and $N^{-}$ are the numbers of `positive` and `negative` reviews, and $N$ is the total number of reviews in the training set, so that \n",
    "\n",
    "#### $N = N^{+} + N^{-}$, \n",
    "\n",
    "#### and \n",
    "\n",
    "#### $q = 1-p$"
   ]
  },
  {
   "cell_type": "markdown",
   "metadata": {},
   "source": [
    "### 8B. Class `occurrence counts`"
   ]
  },
  {
   "cell_type": "markdown",
   "metadata": {},
   "source": [
    "#### Let $C^{+}_{t}$ and $C^{-}_{t}$ be the `occurrence counts` of token $t$ in `positive` and `negative` reviews, respectively, and $N^{+}$ and $N^{-}$ be the total numbers of`positive` and `negative` reviews in the data set, respectively. \n"
   ]
  },
  {
   "cell_type": "markdown",
   "metadata": {},
   "source": [
    "### 8B.1 Data exploration with class `occurrence counts`"
   ]
  },
  {
   "cell_type": "markdown",
   "metadata": {},
   "source": [
    "#### Movie reviews classes and their integer representations"
   ]
  },
  {
   "cell_type": "code",
   "execution_count": 58,
   "metadata": {},
   "outputs": [
    {
     "data": {
      "text/plain": [
       "['__class__',\n",
       " '__delattr__',\n",
       " '__dict__',\n",
       " '__dir__',\n",
       " '__doc__',\n",
       " '__eq__',\n",
       " '__format__',\n",
       " '__ge__',\n",
       " '__getattr__',\n",
       " '__getattribute__',\n",
       " '__gt__',\n",
       " '__hash__',\n",
       " '__init__',\n",
       " '__init_subclass__',\n",
       " '__le__',\n",
       " '__lt__',\n",
       " '__module__',\n",
       " '__ne__',\n",
       " '__new__',\n",
       " '__reduce__',\n",
       " '__reduce_ex__',\n",
       " '__repr__',\n",
       " '__setattr__',\n",
       " '__setstate__',\n",
       " '__sizeof__',\n",
       " '__str__',\n",
       " '__subclasshook__',\n",
       " '__weakref__',\n",
       " 'add_test',\n",
       " 'add_test_folder',\n",
       " 'databunch',\n",
       " 'filter_by_func',\n",
       " 'get_processors',\n",
       " 'label_const',\n",
       " 'label_empty',\n",
       " 'label_from_df',\n",
       " 'label_from_folder',\n",
       " 'label_from_func',\n",
       " 'label_from_list',\n",
       " 'label_from_lists',\n",
       " 'label_from_re',\n",
       " 'lists',\n",
       " 'load_empty',\n",
       " 'load_state',\n",
       " 'path',\n",
       " 'process',\n",
       " 'test',\n",
       " 'train',\n",
       " 'transform',\n",
       " 'transform_y',\n",
       " 'valid']"
      ]
     },
     "execution_count": 58,
     "metadata": {},
     "output_type": "execute_result"
    }
   ],
   "source": [
    "dir(movie_reviews)"
   ]
  },
  {
   "cell_type": "code",
   "execution_count": 59,
   "metadata": {},
   "outputs": [
    {
     "data": {
      "text/plain": [
       "2"
      ]
     },
     "execution_count": 59,
     "metadata": {},
     "output_type": "execute_result"
    }
   ],
   "source": [
    "movie_reviews.y.c"
   ]
  },
  {
   "cell_type": "code",
   "execution_count": 60,
   "metadata": {},
   "outputs": [
    {
     "data": {
      "text/plain": [
       "['negative', 'positive']"
      ]
     },
     "execution_count": 60,
     "metadata": {},
     "output_type": "execute_result"
    }
   ],
   "source": [
    "movie_reviews.y.classes"
   ]
  },
  {
   "cell_type": "code",
   "execution_count": 61,
   "metadata": {},
   "outputs": [
    {
     "name": "stdout",
     "output_type": "stream",
     "text": [
      "Integer representations:  positive: 1, negative: 0\n"
     ]
    }
   ],
   "source": [
    "positive = movie_reviews.y.c2i['positive']\n",
    "negative = movie_reviews.y.c2i['negative']\n",
    "print(f'Integer representations:  positive: {positive}, negative: {negative}')"
   ]
  },
  {
   "cell_type": "markdown",
   "metadata": {},
   "source": [
    "#### Brief names for training set document term matrix and its labels, validation labels, and vocabulary"
   ]
  },
  {
   "cell_type": "code",
   "execution_count": 62,
   "metadata": {},
   "outputs": [],
   "source": [
    "x = train_doc_term\n",
    "y = movie_reviews.train.y\n",
    "valid_y = movie_reviews.valid.y\n",
    "v = movie_reviews.vocab"
   ]
  },
  {
   "cell_type": "code",
   "execution_count": 63,
   "metadata": {},
   "outputs": [
    {
     "data": {
      "text/plain": [
       "(800, 6008)"
      ]
     },
     "execution_count": 63,
     "metadata": {},
     "output_type": "execute_result"
    }
   ],
   "source": [
    "x.shape"
   ]
  },
  {
   "cell_type": "markdown",
   "metadata": {},
   "source": [
    "#### The `count arrays` `C1` and `C0` list the total `occurrence counts` of the tokens in `positive` and `negative` reviews, respectively."
   ]
  },
  {
   "cell_type": "code",
   "execution_count": 64,
   "metadata": {},
   "outputs": [],
   "source": [
    "C1 = np.squeeze(np.asarray(x[y.items==positive].sum(0)))\n",
    "C0 = np.squeeze(np.asarray(x[y.items==negative].sum(0)))"
   ]
  },
  {
   "cell_type": "markdown",
   "metadata": {},
   "source": [
    "For each vocabulary token, we are summing up how many positive reviews it is in, and how many negative reviews it is in. Here are the occurrence counts for the first 10 tokens in the vocabulary."
   ]
  },
  {
   "cell_type": "code",
   "execution_count": 65,
   "metadata": {},
   "outputs": [
    {
     "name": "stdout",
     "output_type": "stream",
     "text": [
      "[ 6471     0   383     0     0 10267   674    57     0  5260]\n",
      "[ 7153     0   417     0     0 10741   908    53     1  6150]\n"
     ]
    }
   ],
   "source": [
    "print(C1[:10])\n",
    "print(C0[:10])"
   ]
  },
  {
   "cell_type": "markdown",
   "metadata": {},
   "source": [
    "### 8B.2 Exercise"
   ]
  },
  {
   "cell_type": "markdown",
   "metadata": {},
   "source": [
    "#### We can use `C0` and `C1` to do some more data exploration!"
   ]
  },
  {
   "cell_type": "markdown",
   "metadata": {},
   "source": [
    "**Exercise 4**: Compare how often the word \"loved\" appears in positive reviews vs. negative reviews.  Do the same for the word \"hate\""
   ]
  },
  {
   "cell_type": "markdown",
   "metadata": {},
   "source": [
    "#### Answer 4:"
   ]
  },
  {
   "cell_type": "code",
   "execution_count": 66,
   "metadata": {},
   "outputs": [
    {
     "name": "stdout",
     "output_type": "stream",
     "text": [
      "The word \"love\" appears 133 and 75 times in positive and negative documents, respectively\n"
     ]
    }
   ],
   "source": [
    "# Exercise: How often does the word \"love\" appear in neg vs. pos reviews?\n",
    "ind = v.stoi['love']\n",
    "pos_counts = C1[ind] \n",
    "neg_counts = C0[ind] \n",
    "print(f'The word \"love\" appears {pos_counts} and {neg_counts} times in positive and negative documents, respectively')"
   ]
  },
  {
   "cell_type": "code",
   "execution_count": 67,
   "metadata": {},
   "outputs": [
    {
     "name": "stdout",
     "output_type": "stream",
     "text": [
      "The word \"hate\" appears 5 and 13 times in positive and negative documents, respectively\n"
     ]
    }
   ],
   "source": [
    "# Exercise: How often does the word \"hate\" appear in neg vs. pos reviews?\n",
    "ind = v.stoi['hate']\n",
    "pos_counts = C1[ind] \n",
    "neg_counts = C0[ind] \n",
    "print(f'The word \"hate\" appears {pos_counts} and {neg_counts} times in positive and negative documents, respectively')"
   ]
  },
  {
   "cell_type": "markdown",
   "metadata": {},
   "source": [
    "#### Let's look for an example of a positive review containing the word \"hated\""
   ]
  },
  {
   "cell_type": "code",
   "execution_count": 68,
   "metadata": {},
   "outputs": [
    {
     "name": "stdout",
     "output_type": "stream",
     "text": [
      "[ 15  49 304 351 393 612 695 773]\n",
      "[  1   3  10  11 ... 787 789 790 797]\n"
     ]
    },
    {
     "data": {
      "text/plain": [
       "'xxbos xxmaj there are numerous films relating to xxup xxunk , but xxmaj mother xxmaj night is quite xxunk among them : xxmaj in this film , we are introduced to xxmaj howard xxmaj campbell ( xxmaj nolte ) , an xxmaj american living in xxmaj berlin and married to a xxmaj german , xxmaj xxunk xxmaj xxunk ( xxmaj lee ) , who decides to accept the role of a spy : xxmaj more specifically , a xxup cia agent xxmaj major xxmaj xxunk ( xxmaj goodman ) recruits xxmaj campbell who becomes a xxmaj nazi xxunk in order to enter the highest xxunk of the xxmaj hitler xxunk . xxmaj however , the deal is that the xxup us xxmaj government will never xxunk xxmaj campbell \\'s role in the war for national security reasons , and so xxmaj campbell becomes a hated figure across the xxup us . xxmaj after the war , he tries to xxunk his identity , but the past comes back and xxunk him . xxmaj his only \" friend \" is xxmaj xxunk , but even he can not do much for the xxunk of events that fall upon poor xxmaj campbell ... \\n \\n  xxmaj the story is deeply touching , as we watch the tragedy of xxmaj campbell who although a great patriot , is treated by xxunk by everybody who xxunk him . xxmaj not only that , but he also gradually realizes that even the persons who are most close to him , have many xxunk of their own . xxmaj vonnegut provides us with a moving atmosphere , with xxmaj campbell \\'s despair building up and almost choking the viewer . \\n \\n  xxmaj nolte plays the role of his life , in my opinion ; he is even better than in \" xxmaj xxunk \" , although in both roles he plays tragic figures who are destined to self - destruction . xxmaj xxunk xxmaj lee is also excellent , and the same can be said for the whole cast in general . \\n \\n  i have n\\'t read the book , so i can not xxunk how the film compares to it . xxmaj in any case , this is something of no importance here : xxmaj my xxunk is upon the film per xxunk , and the film xxunk deserves a 9 / 10 .'"
      ]
     },
     "execution_count": 68,
     "metadata": {},
     "output_type": "execute_result"
    }
   ],
   "source": [
    "index = v.stoi['hated']\n",
    "a = np.argwhere((x[:,index] > 0))[:,0]\n",
    "print(a)\n",
    "b = np.argwhere(y.items==positive)[:,0]\n",
    "print(b)\n",
    "c = list(set(a).intersection(set(b)))[0]\n",
    "review = movie_reviews.train.x[c]\n",
    "review.text"
   ]
  },
  {
   "cell_type": "markdown",
   "metadata": {},
   "source": [
    "#### Example of a negative review with the word \"loved\""
   ]
  },
  {
   "cell_type": "code",
   "execution_count": 69,
   "metadata": {},
   "outputs": [
    {
     "name": "stdout",
     "output_type": "stream",
     "text": [
      "[  1  15  29  69  75  79 174 185 200 205 262 296 303 333 350 351 398 407 440 489 496 528 538 600 602 605 627 642 657\n",
      " 660 700 712 729 735 755 767 785]\n",
      "[  0   2   4   5 ... 795 796 798 799]\n"
     ]
    },
    {
     "data": {
      "text/plain": [
       "'xxbos xxmaj oh if only i could give this rubbish less than one star ! xxmaj there were two mildly amusing parts in the whole film and that is it ! one was where a line or two from the song xxmaj do n\\'t xxmaj worry , xxmaj be xxmaj happy was xxunk by the slugs and the other was where xxmaj roddy fell of the toilet roll and landed with his feet and legs apart so that everything else he landed on on the way down hit him in the xxunk . xxmaj that is it there was nothing more amusing than that , at least not for me anyway ! xxmaj xxunk is not right in saying \\' xxmaj fans of the completely terrible \" xxmaj shrek \" might enjoy , but \" xxmaj wallace & xxmaj xxunk \" fans will probably turn away in xxunk . \\' xxmaj as i loved xxmaj shrek 1 2 and 3 and i also love xxmaj wallace and xxmaj xxunk . xxmaj you see what it xxunk down to is that if an animation is done extremely well then it is definitely worth watching , this however was about as far from done well as you can possibly get ! xxmaj the continuity mistakes were too big in number . xxmaj some were pointed out by the makers of this site others were not . i wo n\\'t point out all of the others , but here are a few more to see : xxmaj when the young daughter leaves at the start of the film the catch to the cage door comes down and the hook part of it that is on the right clearly goes back around behind the round xxunk thus effectively making sure xxmaj roddy would not be able to get out and yet he does just by simply kicking at it . xxmaj at one point the ruby falls down xxmaj roddy \\'s back and gets pushed straight up into the the air by xxmaj xxunk all the while the ship is moving forwards . xxmaj in the next scene xxmaj roddy has caught it again . xxmaj this is impossible . xxmaj seeing as how the ship is moving forwards the only place when the ruby was xxunk out from under the back of xxmaj roddy \\'s shirt the only place it could have landed was in the water not in xxmaj roddy \\'s hand . xxmaj there was a third one i wanted to point out but for now i have forgotten it . \\n \\n  xxmaj too many , for want of a better word , \\' jokes \\' were repeated in one way or another , there was not enough time to establish any sort of connection with any of the characters , the characters were xxunk , shallow and empty , and the whole film left you wanting xxrep 4 . wanting to watch xxunk minutes of anything else ! xxmaj paint xxunk or grass growing are two superb xxunk !'"
      ]
     },
     "execution_count": 69,
     "metadata": {},
     "output_type": "execute_result"
    }
   ],
   "source": [
    "index = v.stoi['loved']\n",
    "a = np.argwhere((x[:,index] > 0))[:,0]\n",
    "print(a)\n",
    "b = np.argwhere(y.items==negative)[:,0]\n",
    "print(b)\n",
    "c = list(set(a).intersection(set(b)))[0]\n",
    "review = movie_reviews.train.x[c]\n",
    "review.text"
   ]
  },
  {
   "cell_type": "markdown",
   "metadata": {},
   "source": [
    "### 8C. Class likelihood ratios"
   ]
  },
  {
   "cell_type": "markdown",
   "metadata": {},
   "source": [
    "#### Then, given the knowledge that a review is classified as `positive`, the `conditional likelihood` that a token $t$ will appear in the review is\n",
    "### $ L(t|+) = \\frac{C^{+}_{t}}{N^+}$, \n",
    "#### and simlarly, the `conditional likelihood` of a token appearing in a `negative` review is \n",
    "### $ L(t|-) = \\frac{C^{-}_{t}}{N^-}$"
   ]
  },
  {
   "cell_type": "markdown",
   "metadata": {},
   "source": [
    "### 8D. The `log-count ratio`"
   ]
  },
  {
   "cell_type": "markdown",
   "metadata": {},
   "source": [
    "#### From the class likelihood ratios, we can define a **log-count ratio** $R_{t}$ for each token $t$ as\n",
    "### $ R_{t} = \\text{log} \\frac{L(t|+)}  {L(t|-)}$\n",
    "#### The `log-count ratio` ranks tokens by their relative affinities for positive and negative reviews\n",
    "#### We observe that\n",
    "* $R_{t} \\gt 0$ means `positive` reviews are more likely to contain this token \n",
    "* $R_{t} \\lt 0$ means `negative` reviews are more likely to contain this token \n",
    "* $R_{t} = 0$ indicates the token $t$ has equal likelihood to appear in  `positive` and `negative` reviews\n"
   ]
  },
  {
   "cell_type": "markdown",
   "metadata": {},
   "source": [
    "## 9. Building a Naive Bayes Classifier for IMDb movie reviews"
   ]
  },
  {
   "cell_type": "markdown",
   "metadata": {},
   "source": [
    "#### From the `occurrence count` arrays, we can compute the `class likelihoods` and `log-count ratios` of all the tokens in the vocabulary. "
   ]
  },
  {
   "cell_type": "markdown",
   "metadata": {},
   "source": [
    "### 9A. Compute the `class likelihoods`"
   ]
  },
  {
   "cell_type": "markdown",
   "metadata": {},
   "source": [
    "#### We compute slightly modified `conditional likelihoods`, by adding 1 to the numerator and denominator to insure numerically stability."
   ]
  },
  {
   "cell_type": "code",
   "execution_count": 70,
   "metadata": {},
   "outputs": [],
   "source": [
    "L1 = (C1+1) / ((y.items==positive).sum() + 1)\n",
    "L0 = (C0+1) / ((y.items==negative).sum() + 1)"
   ]
  },
  {
   "cell_type": "markdown",
   "metadata": {},
   "source": [
    "### 9B. Compute the `log-count ratios`"
   ]
  },
  {
   "cell_type": "markdown",
   "metadata": {},
   "source": [
    "#### The log-count ratios are"
   ]
  },
  {
   "cell_type": "code",
   "execution_count": 71,
   "metadata": {},
   "outputs": [
    {
     "name": "stdout",
     "output_type": "stream",
     "text": [
      "[-0.015348  0.084839  0.        0.084839 ...  1.471133 -1.301455 -1.301455 -1.301455]\n"
     ]
    }
   ],
   "source": [
    "R = np.log(L1/L0)\n",
    "print(R)"
   ]
  },
  {
   "cell_type": "markdown",
   "metadata": {},
   "source": [
    "#### Data Exercise: find the vocabulary words most likely to be associated with positive and negative reviews"
   ]
  },
  {
   "cell_type": "markdown",
   "metadata": {},
   "source": [
    "#### Get the indices of the tokens with the highest and lowest log-count ratios"
   ]
  },
  {
   "cell_type": "code",
   "execution_count": null,
   "metadata": {},
   "outputs": [],
   "source": [
    "n_tokens = 10\n",
    "highest_R = np.argpartition(R, -n_tokens)[-n_tokens:]\n",
    "lowest_R = np.argpartition(R, n_tokens)[:n_tokens]"
   ]
  },
  {
   "cell_type": "code",
   "execution_count": null,
   "metadata": {},
   "outputs": [],
   "source": [
    "print(f'Highest {n_tokens} log-count ratios: {R[list(highest_R)]}\\n')\n",
    "print(f'Lowest {n_tokens} log-count ratios: {R[list(lowest_R)]}')"
   ]
  },
  {
   "cell_type": "markdown",
   "metadata": {},
   "source": [
    "#### Most positive words:"
   ]
  },
  {
   "cell_type": "code",
   "execution_count": null,
   "metadata": {},
   "outputs": [],
   "source": [
    "highest_R"
   ]
  },
  {
   "cell_type": "code",
   "execution_count": null,
   "metadata": {},
   "outputs": [],
   "source": [
    "[v.itos[k] for k in highest_R]"
   ]
  },
  {
   "cell_type": "markdown",
   "metadata": {},
   "source": [
    "#### There are only two movie reviews that mention \"biko\""
   ]
  },
  {
   "cell_type": "code",
   "execution_count": null,
   "metadata": {},
   "outputs": [],
   "source": [
    "token = 'biko'\n",
    "train_doc_term[:,v.stoi[token]]"
   ]
  },
  {
   "cell_type": "markdown",
   "metadata": {},
   "source": [
    "#### Which movie review has the most occurrences of 'biko'?"
   ]
  },
  {
   "cell_type": "code",
   "execution_count": null,
   "metadata": {},
   "outputs": [],
   "source": [
    "index = np.argmax(train_doc_term[:,v.stoi[token]])\n",
    "n_times = train_doc_term[index,v.stoi[token]]\n",
    "print(f'review # {index} has {n_times} occurrences of \"{token}\"\\n')\n",
    "print(movie_reviews.train.x[index].text)"
   ]
  },
  {
   "cell_type": "markdown",
   "metadata": {},
   "source": [
    "#### Most negative words:"
   ]
  },
  {
   "cell_type": "code",
   "execution_count": null,
   "metadata": {},
   "outputs": [],
   "source": [
    "lowest_R"
   ]
  },
  {
   "cell_type": "code",
   "execution_count": null,
   "metadata": {},
   "outputs": [],
   "source": [
    "[v.itos[k] for k in lowest_R]"
   ]
  },
  {
   "cell_type": "markdown",
   "metadata": {},
   "source": [
    "#### There's only one movie review that mentions \"soderbergh\""
   ]
  },
  {
   "cell_type": "code",
   "execution_count": null,
   "metadata": {},
   "outputs": [],
   "source": [
    "token = 'soderbergh'\n",
    "train_doc_term[:,v.stoi[token]]"
   ]
  },
  {
   "cell_type": "code",
   "execution_count": null,
   "metadata": {},
   "outputs": [],
   "source": [
    "index = np.argmax(train_doc_term[:,v.stoi[token]])\n",
    "n_times = train_doc_term[index,v.stoi[token]]\n",
    "print(f'review # {index} has {n_times} occurrences of \"{token}\"\\n')\n",
    "print(movie_reviews.train.x[index].text)\n"
   ]
  },
  {
   "cell_type": "code",
   "execution_count": null,
   "metadata": {},
   "outputs": [],
   "source": [
    "train_doc_term[:,v.stoi[token]]"
   ]
  },
  {
   "cell_type": "markdown",
   "metadata": {},
   "source": [
    "### 9C. Compute the prior probabilities for  each class"
   ]
  },
  {
   "cell_type": "code",
   "execution_count": null,
   "metadata": {},
   "outputs": [],
   "source": [
    "p = (y.items==positive).mean()\n",
    "q = (y.items==negative).mean()\n",
    "print(f'The prior probabilities for positive and negative classes are {p} annd {q}')"
   ]
  },
  {
   "cell_type": "markdown",
   "metadata": {},
   "source": [
    "#### The log probability ratio is\n",
    "\n",
    "### $b = \\text{log} \\frac{p} {q}$ \n",
    "\n",
    "#### is a measure of the `bias`, or `imbalance` in the data set. \n",
    "\n",
    "* $b = 0$ indicates a perfectly balanced data set\n",
    "* $b \\gt 0$ indicates bias towards `positive` reviews \n",
    "* $b \\lt 0$ indicates bias towards `negative` reviews "
   ]
  },
  {
   "cell_type": "code",
   "execution_count": null,
   "metadata": {},
   "outputs": [],
   "source": [
    "b = np.log((y.items==positive).mean() / (y.items==negative).mean())\n",
    "print(f'The log probability ratio is L = {b}')"
   ]
  },
  {
   "cell_type": "markdown",
   "metadata": {},
   "source": [
    "#### We see that the training set is slightly imbalanced toward `negative` reviews."
   ]
  },
  {
   "cell_type": "markdown",
   "metadata": {},
   "source": [
    "### 9D.  Putting it all together: the Naive Bayes Movie Review Classifier\n",
    "In this section, we'll start with a discussion of Bayes' Theorem, then we'll use it to derive the Naive Bayes Classifier. Next we'll apply the Naive Bayes classifier to our movie reviews problem. Finally we'll review the prescription for building a Naive Bayes Classifier. "
   ]
  },
  {
   "cell_type": "markdown",
   "metadata": {},
   "source": [
    "### 9D.1 What is Bayes Theorem, and what does it have to say about IMDb movie reviews?\n",
    "\n",
    "Consider two events, $A$ and $B$  \n",
    "Then the probability of $A$ and $B$ occurring together can be written in two ways:\n",
    "$p(A,B) = p(A|B)\\cdot p(B)$\n",
    "$p(A,B) = p(B|A)\\cdot p(A)$\n",
    "\n",
    "where $p(A|B)$ and $p(B|A)$ are conditional probabilities:\n",
    "$p(A|B)$ is the probability of $A$ occurring given that $B$ has occurred,\n",
    "$p(A)$ is the probability that $A$ occurs,\n",
    "$p(B)$ is the probabilityt that $B$ occurs\n",
    "\n",
    "\n",
    "$\\textbf{Bayes Theorem}$ is just the statement that the right hand sides of the above two equations are equal:\n",
    "\n",
    "$p(A|B) \\cdot p(B) = p(B|A) \\cdot p(A)$\n",
    "\n",
    "Applying $\\textbf{Bayes Theorem}$ to our IMDb movie review problem:\n",
    "\n",
    "We identify $A$ and $B$ as <br> \n",
    "$A \\equiv \\text{class}$, i.e. positive or negative, and <br>\n",
    "$B \\equiv \\text{tokens}$, i.e. the \"bag\" of tokens used in the review\n",
    "\n",
    "Then $\\textbf{Bayes Theorem}$ says\n",
    "\n",
    "$p(\\text{class}|\\text{tokens})\\cdot p(\\text{tokens}) = p(\\text{tokens}|\\text{class}) \\cdot p(\\text{class})$\n",
    "\n",
    "so that <br>\n",
    "$p(\\text{class}|\\text{tokens}) = p(\\text{tokens}|\\text{class})\\cdot \\frac{p(\\text{class})}{p(\\text{tokens})}$\n",
    "\n",
    "Since $p(\\text{tokens})$ is a constant, we have the proportionality \n",
    "\n",
    "$p(\\text{class}|\\text{tokens}) \\propto p(\\text{tokens}|\\text{class})\\cdot p(\\text{class})$\n",
    "\n",
    "The left hand side of the above expression is called the $\\textbf{posterior class probability}$, the probability that the review is positive (or negative), given the tokens it contains. This is exactly what we want to predict!"
   ]
  },
  {
   "cell_type": "markdown",
   "metadata": {},
   "source": [
    "### 9D.2 The Naive Bayes Classifier\n",
    "\n",
    "#### Given the list of tokens in a review, we seek to predict whether the review is rated as `positive` or `negative` \n",
    "\n",
    "#### We can make the prediction if we know the `posterior class probabilities`.\n",
    "\n",
    "#### $p(\\text{class}|\\text{tokens})$,\n",
    "#### where $\\text{class}$ is either `positive` or `negative`, and $\\text{tokens}$ is the list of tokens that appear in the review.\n",
    "#### [Bayes' Theorem](https://en.wikipedia.org/wiki/Bayes%27_theorem) tells us that the posterior probabilities, the likelihoods and the priors are related this way:\n",
    "\n",
    "#### $p(\\text{class}|\\text{tokens}) \\propto p(\\text{tokens}|\\text{class})\\cdot p(\\text{class})$\n",
    "\n",
    "#### Now the tokens are not independent of one another.  For example, 'go' often appears with 'to', so if 'go' appears in a review it is more likely that the review also contains 'to'. Nevertheless, assuming the tokens are independent allows us to simplify things, so we recklessly do it, hoping it's not too wrong!\n",
    "#### $p(\\text{tokens}|\\text{class}) = \\prod_{i=1}^{n} p(t_{i}|\\text{class})$\n",
    "\n",
    "#### where $t_{i}$ is the $i\\text{th}$ token in the vocabulary and $n$ is the number of tokens in the vocabulary. \n",
    "\n",
    "#### So Bayes' theorem is\n",
    "\n",
    "#### $p(\\text{class}|\\text{tokens}) \\propto p(\\text{class}) \\prod_{i=1}^{n} p(t_{i}|\\text{class}) $\n",
    "\n",
    "#### Taking the ratio of the $\\textbf{posterior class probabilities}$ for the `positive` and `negative` classes, we have\n",
    "\n",
    "#### $\\frac{p(+|\\text{tokens})}{p( - |\\text{tokens})} =  \\frac{p(+)}{p( - )}  \\cdot  \\prod_{i=1}^{n} \\frac {p(t_{i}|+)}  {p(t_{i}| - )} = \\frac{p}{q}  \\cdot  \\prod_{i=1}^{n} \\frac {L(t_{i}|+)}  {L(t_{i}| - )}$\n",
    "#### since likelihoods are proportional to probabilities.\n",
    "#### Taking the log of both sides converts this to a `linear` problem:\n",
    "#### $\\text{log} \\frac{p(+|\\text{tokens})}{p( - |\\text{tokens})} = \\text{log}\\frac{p}{q} + \\sum_{i=1}^{n} \\text{log} \\frac {L(t_{i}|+)}  {L(t_{i}| - )} = b + \\sum_{i=1}^{n}  R_{t_{i}}$\n",
    "\n",
    "#### The first term on the right-hand side is the `bias`, and the second term is the dot product of the *binarized* embedding vector and the log-count ratios\n",
    "\n",
    "#### If the left-hand side is greater than or equal to zero, we predict the review is `positive`, else we predict the review is `negative`. \n",
    "\n",
    "####  We can re-write the last equation in matrix form to generate a $m \\times 1$ boolean column vector $\\textbf{preds}$ of review predictions:\n",
    "\n",
    "#### $\\textbf{preds} = \\textbf{W} \\cdot \\textbf{R} + \\textbf{b}$\n",
    "#### where \n",
    "\n",
    "* $\\textbf{preds} \\equiv \\text{log} \\frac{p(+|\\text{tokens})}{p( - |\\text{tokens})}$\n",
    "* $\\textbf{W}$ is the $m\\times n$ `binarized document-term matrix`, whose rows are the binarized embedding vectors for the movie reviews\n",
    "* $\\textbf{R}$ is the $n\\times 1$ vector of `log-count ratios`  for the tokens, and \n",
    "* $\\textbf{b}$ is a $n\\times 1$ vector whose entries are the bias $b$\n",
    "\n",
    "\n",
    "#### The Naive Bayes model consists of the log-counts vector $\\textbf{R}$ and the bias $\\textbf{b}$"
   ]
  },
  {
   "cell_type": "markdown",
   "metadata": {},
   "source": [
    "### 9E. Implement our Naive Bayes Movie Review classifier\n",
    "#### and use it to predict labels for the training and validation sets of the IMDb_sample data."
   ]
  },
  {
   "cell_type": "code",
   "execution_count": null,
   "metadata": {},
   "outputs": [],
   "source": [
    "W = train_doc_term.sign()\n",
    "preds_train = (W @ R + b) > 0\n",
    "train_accuracy = (preds_train == y.items).mean()\n",
    "print(f'The prediction accuracy for the training set is {train_accuracy}')"
   ]
  },
  {
   "cell_type": "code",
   "execution_count": null,
   "metadata": {},
   "outputs": [],
   "source": [
    "W = valid_doc_term.sign()\n",
    "preds_valid = (W @ R + b) > 0\n",
    "valid_accuracy = (preds_valid == valid_y.items).mean()\n",
    "print(f'The prediction accuracy for the validation set is {valid_accuracy}')"
   ]
  },
  {
   "cell_type": "markdown",
   "metadata": {},
   "source": [
    "### 9F. Summary: A recipe for the Naive Bayes  Classifier\n",
    "#### Here is a summary of our procedure for predicting labels with the Naive Bayes Classifier, starting with the training set `x` and the training labels `y`\n",
    "\n",
    "\n",
    "#### 1. Compute the token count vectors\n",
    "> C0 = np.squeeze(np.asarray(x[y.items==negative].sum(0))) <br> \n",
    "> C1 = np.squeeze(np.asarray(x[y.items==positive].sum(0))) <br> \n",
    "\n",
    "#### 2. Compute the token class likelihood vectors\n",
    "> L0 = (C0+1) / ((y.items==negative).sum() + 1) <br> \n",
    "> L1 = (C1+1) / ((y.items==positive).sum() + 1) <br> \n",
    "\n",
    "#### 3. Compute the log-count ratios vector\n",
    "> R = np.log(L1/L0)\n",
    "\n",
    "#### 4. Compute the bias term\n",
    "> b = np.log((y.items==positive).mean() / (y.items==negative).mean())\n",
    "\n",
    "#### 5. The Naive Bayes model consists of the log-counts vector $\\textbf{R}$ and the bias $\\textbf{b}$\n",
    "#### 6. Predict the movie review labels from a linear transformation of the log-count ratios vector:\n",
    "> preds = (W @ R + b) > 0, <br> \n",
    "> where the weights matrix W = valid_doc_term.sign() is the binarized `valid_doc_term matrix` whose rows are the binarized embedding vectors for the movie reviews for which you want to predict ratings.\n"
   ]
  },
  {
   "cell_type": "markdown",
   "metadata": {},
   "source": [
    "## 10. Working with the full IMDb data set"
   ]
  },
  {
   "cell_type": "markdown",
   "metadata": {},
   "source": [
    "Now that we have our approach working on a smaller sample of the data, we can try using it on the full dataset."
   ]
  },
  {
   "cell_type": "markdown",
   "metadata": {},
   "source": [
    "### 10A. Download the data"
   ]
  },
  {
   "cell_type": "code",
   "execution_count": null,
   "metadata": {},
   "outputs": [],
   "source": [
    "path = untar_data(URLs.IMDB)\n",
    "path.ls()"
   ]
  },
  {
   "cell_type": "code",
   "execution_count": null,
   "metadata": {},
   "outputs": [],
   "source": [
    "(path/'train').ls()"
   ]
  },
  {
   "cell_type": "markdown",
   "metadata": {},
   "source": [
    "### 10B. Preprocess the data"
   ]
  },
  {
   "cell_type": "markdown",
   "metadata": {},
   "source": [
    "#### Attempt to split and label the data fails most of the time, throwing a `BrokenProcessPool`  error; we apply a `brute force` approach, trying repeatedly until we succeed. Takes 10 minutes if it goes on the first try."
   ]
  },
  {
   "cell_type": "code",
   "execution_count": null,
   "metadata": {},
   "outputs": [],
   "source": [
    "%%time\n",
    "# throws `BrokenProcessPool' Error sometimes. Keep trying `till it works!\n",
    "count = 0\n",
    "error = True\n",
    "while error:\n",
    "    try: \n",
    "        # Preprocessing steps\n",
    "        reviews_full = (TextList.from_folder(path)\n",
    "             #  Make a `TextList` object that is a list of `WindowsPath` objects, \n",
    "             #     each of which contains the full path to one of the data files.\n",
    "             .split_by_folder(valid='test')\n",
    "             # Generate a `LabelLists` object that splits files by training and validation folders\n",
    "             # Note: .label_from_folder in next line causes the `BrokenProcessPool` error\n",
    "             .label_from_folder(classes=['neg', 'pos']))\n",
    "             # Create a `CategoryLists` object which contains the data and\n",
    "             #   its labels that are derived from folder names\n",
    "        error = False\n",
    "        print(f'failure count is {count}\\n')    \n",
    "    except: # catch *all* exceptions\n",
    "        # accumulate failure count\n",
    "        count = count + 1\n",
    "        print(f'failure count is {count}')\n"
   ]
  },
  {
   "cell_type": "markdown",
   "metadata": {},
   "source": [
    "### 10C. Create document-term matrices for training and validation sets. \n",
    "#### This takes about ~4 sec per matrix"
   ]
  },
  {
   "cell_type": "code",
   "execution_count": null,
   "metadata": {},
   "outputs": [],
   "source": [
    "%%time\n",
    "valid_doc_term = get_doc_term_matrix(reviews_full.valid.x, len(reviews_full.vocab.itos))"
   ]
  },
  {
   "cell_type": "code",
   "execution_count": null,
   "metadata": {
    "scrolled": true
   },
   "outputs": [],
   "source": [
    "%%time\n",
    "train_doc_term = get_doc_term_matrix(reviews_full.train.x, len(reviews_full.vocab.itos))"
   ]
  },
  {
   "cell_type": "markdown",
   "metadata": {},
   "source": [
    "### 10D. Save the data\n",
    "When storing data like this, always make sure it's included in your `.gitignore` file"
   ]
  },
  {
   "cell_type": "code",
   "execution_count": null,
   "metadata": {},
   "outputs": [],
   "source": [
    "scipy.sparse.save_npz(\"train_doc_term.npz\", train_doc_term)"
   ]
  },
  {
   "cell_type": "code",
   "execution_count": null,
   "metadata": {},
   "outputs": [],
   "source": [
    "scipy.sparse.save_npz(\"valid_doc_term.npz\", valid_doc_term)"
   ]
  },
  {
   "cell_type": "code",
   "execution_count": null,
   "metadata": {},
   "outputs": [],
   "source": [
    "with open('reviews_full.pickle', 'wb') as handle:\n",
    "    pickle.dump(reviews_full, handle, protocol=pickle.HIGHEST_PROTOCOL)"
   ]
  },
  {
   "cell_type": "markdown",
   "metadata": {},
   "source": [
    "#### In the future, we'll just be able to load our data:"
   ]
  },
  {
   "cell_type": "code",
   "execution_count": null,
   "metadata": {},
   "outputs": [],
   "source": [
    "train_doc_term = scipy.sparse.load_npz(\"train_doc_term.npz\")\n",
    "valid_doc_term = scipy.sparse.load_npz(\"valid_doc_term.npz\")"
   ]
  },
  {
   "cell_type": "code",
   "execution_count": null,
   "metadata": {},
   "outputs": [],
   "source": [
    "with open('reviews_full.pickle', 'rb') as handle:\n",
    "    pickle.load(handle)"
   ]
  },
  {
   "cell_type": "markdown",
   "metadata": {},
   "source": [
    "## 11. Understanding Fastai's API$^\\dagger$ for text data sets <br>\n",
    "$^\\dagger$API $\\equiv$ Application Programming Interface"
   ]
  },
  {
   "cell_type": "markdown",
   "metadata": {},
   "source": [
    "#### reviews_full is a `LabelLists` object, which contains `LabelList` objects `train`, `valid` and potentially `test`"
   ]
  },
  {
   "cell_type": "code",
   "execution_count": null,
   "metadata": {},
   "outputs": [],
   "source": [
    "type(reviews_full)"
   ]
  },
  {
   "cell_type": "code",
   "execution_count": null,
   "metadata": {},
   "outputs": [],
   "source": [
    "type(reviews_full.valid)"
   ]
  },
  {
   "cell_type": "markdown",
   "metadata": {},
   "source": [
    "#### reviews_full also contains the `vocab` object though it is not shown with the dir() command. This is an error."
   ]
  },
  {
   "cell_type": "code",
   "execution_count": null,
   "metadata": {},
   "outputs": [],
   "source": [
    "print(reviews_full.vocab)"
   ]
  },
  {
   "cell_type": "markdown",
   "metadata": {},
   "source": [
    "#### We will store the `vocabulary` in a variable `full_vocab`"
   ]
  },
  {
   "cell_type": "code",
   "execution_count": null,
   "metadata": {},
   "outputs": [],
   "source": [
    "full_vocab = reviews_full.vocab"
   ]
  },
  {
   "cell_type": "markdown",
   "metadata": {},
   "source": [
    "#### Recall that a `vocab` object has a method `itos` which returns a list of tokens"
   ]
  },
  {
   "cell_type": "code",
   "execution_count": null,
   "metadata": {
    "scrolled": true
   },
   "outputs": [],
   "source": [
    "full_vocab.itos[100:110]"
   ]
  },
  {
   "cell_type": "markdown",
   "metadata": {},
   "source": [
    "#### A LabelList object contains a `TextList` object `x` and a `CategoryList` object `y` "
   ]
  },
  {
   "cell_type": "code",
   "execution_count": null,
   "metadata": {},
   "outputs": [],
   "source": [
    "reviews_full.valid"
   ]
  },
  {
   "cell_type": "markdown",
   "metadata": {},
   "source": [
    "#### A `TextList` object is a list of `Text` objects containing the reviews as items"
   ]
  },
  {
   "cell_type": "code",
   "execution_count": null,
   "metadata": {},
   "outputs": [],
   "source": [
    "type(reviews_full.valid.x[0])"
   ]
  },
  {
   "cell_type": "markdown",
   "metadata": {},
   "source": [
    "#### A `Text` object has properties \n",
    "#### `text`, which is a `str` containing the review text:"
   ]
  },
  {
   "cell_type": "code",
   "execution_count": null,
   "metadata": {},
   "outputs": [],
   "source": [
    "reviews_full.valid.x[0].text"
   ]
  },
  {
   "cell_type": "markdown",
   "metadata": {},
   "source": [
    "####  and  `data`,  which is an array of integers representing the tokens in the review:"
   ]
  },
  {
   "cell_type": "code",
   "execution_count": null,
   "metadata": {},
   "outputs": [],
   "source": [
    "reviews_full.valid.x[0].data"
   ]
  },
  {
   "cell_type": "markdown",
   "metadata": {},
   "source": [
    "#### A `Text` object also has a method `.items` which returns the integer array representations for all the reviews"
   ]
  },
  {
   "cell_type": "code",
   "execution_count": null,
   "metadata": {},
   "outputs": [],
   "source": [
    "reviews_full.valid.x.items"
   ]
  },
  {
   "cell_type": "markdown",
   "metadata": {},
   "source": [
    "#### Review labels are stored as a `CategoryList` object"
   ]
  },
  {
   "cell_type": "code",
   "execution_count": null,
   "metadata": {},
   "outputs": [],
   "source": [
    "type(reviews_full.valid.y)"
   ]
  },
  {
   "cell_type": "markdown",
   "metadata": {},
   "source": [
    "#### A `CategoryList` object is a list of `Category` objects"
   ]
  },
  {
   "cell_type": "code",
   "execution_count": null,
   "metadata": {},
   "outputs": [],
   "source": [
    "type(reviews_full.valid.y[0])"
   ]
  },
  {
   "cell_type": "code",
   "execution_count": null,
   "metadata": {},
   "outputs": [],
   "source": [
    "reviews_full.valid.y[0]"
   ]
  },
  {
   "cell_type": "markdown",
   "metadata": {},
   "source": [
    "#### A `Category` object also has a method `.items` which returns an array of integers labels for all the reviews"
   ]
  },
  {
   "cell_type": "code",
   "execution_count": null,
   "metadata": {},
   "outputs": [],
   "source": [
    "reviews_full.valid.y.items"
   ]
  },
  {
   "cell_type": "markdown",
   "metadata": {},
   "source": [
    "#### The label of the first review seems right"
   ]
  },
  {
   "cell_type": "code",
   "execution_count": null,
   "metadata": {},
   "outputs": [],
   "source": [
    "reviews_full.valid.y[0]"
   ]
  },
  {
   "cell_type": "markdown",
   "metadata": {},
   "source": [
    "#### Names of classes"
   ]
  },
  {
   "cell_type": "code",
   "execution_count": null,
   "metadata": {},
   "outputs": [],
   "source": [
    "reviews_full.valid.y.classes"
   ]
  },
  {
   "cell_type": "markdown",
   "metadata": {},
   "source": [
    "#### Number of classes"
   ]
  },
  {
   "cell_type": "code",
   "execution_count": null,
   "metadata": {},
   "outputs": [],
   "source": [
    "reviews_full.valid.y.c"
   ]
  },
  {
   "cell_type": "markdown",
   "metadata": {},
   "source": [
    "#### The classes have both integer rand string representations:"
   ]
  },
  {
   "cell_type": "code",
   "execution_count": null,
   "metadata": {},
   "outputs": [],
   "source": [
    "reviews_full.valid.y.c2i"
   ]
  },
  {
   "cell_type": "code",
   "execution_count": null,
   "metadata": {},
   "outputs": [],
   "source": [
    "reviews_full.valid.y[0].data"
   ]
  },
  {
   "cell_type": "code",
   "execution_count": null,
   "metadata": {},
   "outputs": [],
   "source": [
    "reviews_full.valid.y[0].obj"
   ]
  },
  {
   "cell_type": "markdown",
   "metadata": {},
   "source": [
    "#### The training and validation data sets each have 25000 samples"
   ]
  },
  {
   "cell_type": "code",
   "execution_count": null,
   "metadata": {},
   "outputs": [],
   "source": [
    "len(reviews_full.train), len(reviews_full.valid)"
   ]
  },
  {
   "cell_type": "markdown",
   "metadata": {},
   "source": [
    "## 12. The Naive Bayes classifier with the full IMDb dataset"
   ]
  },
  {
   "cell_type": "code",
   "execution_count": null,
   "metadata": {},
   "outputs": [],
   "source": [
    "x=train_doc_term\n",
    "y=reviews_full.train.y\n",
    "valid_y = reviews_full.valid.y.items"
   ]
  },
  {
   "cell_type": "code",
   "execution_count": null,
   "metadata": {},
   "outputs": [],
   "source": [
    "x"
   ]
  },
  {
   "cell_type": "code",
   "execution_count": null,
   "metadata": {},
   "outputs": [],
   "source": [
    "positive = y.c2i['pos']\n",
    "negative = y.c2i['neg']"
   ]
  },
  {
   "cell_type": "code",
   "execution_count": null,
   "metadata": {},
   "outputs": [],
   "source": [
    "C0 = np.squeeze(np.asarray(x[y.items==negative].sum(0)))\n",
    "C1 = np.squeeze(np.asarray(x[y.items==positive].sum(0)))"
   ]
  },
  {
   "cell_type": "code",
   "execution_count": null,
   "metadata": {},
   "outputs": [],
   "source": [
    "C0"
   ]
  },
  {
   "cell_type": "code",
   "execution_count": null,
   "metadata": {},
   "outputs": [],
   "source": [
    "C1"
   ]
  },
  {
   "cell_type": "markdown",
   "metadata": {},
   "source": [
    "### 12A. Data exploration: log-count ratios"
   ]
  },
  {
   "cell_type": "markdown",
   "metadata": {},
   "source": [
    "#### Token likelihoods conditioned on class"
   ]
  },
  {
   "cell_type": "code",
   "execution_count": null,
   "metadata": {},
   "outputs": [],
   "source": [
    "L1 = (C1+1) / ((y.items==positive).sum() + 1)\n",
    "L0 = (C0+1) / ((y.items==negative).sum() + 1)"
   ]
  },
  {
   "cell_type": "markdown",
   "metadata": {},
   "source": [
    "#### log-count ratios"
   ]
  },
  {
   "cell_type": "code",
   "execution_count": null,
   "metadata": {},
   "outputs": [],
   "source": [
    "R = np.log(L1/L0)"
   ]
  },
  {
   "cell_type": "markdown",
   "metadata": {},
   "source": [
    "#### Examples of log-count ratios for a few words\n",
    "Check that log-count ratios are negative for words with `negative` sentiment and positive for words with `positive` sentiment! "
   ]
  },
  {
   "cell_type": "code",
   "execution_count": null,
   "metadata": {},
   "outputs": [],
   "source": [
    "R[full_vocab.stoi['hated']]"
   ]
  },
  {
   "cell_type": "code",
   "execution_count": null,
   "metadata": {},
   "outputs": [],
   "source": [
    "R[full_vocab.stoi['loved']]"
   ]
  },
  {
   "cell_type": "code",
   "execution_count": null,
   "metadata": {},
   "outputs": [],
   "source": [
    "R[full_vocab.stoi['liked']]"
   ]
  },
  {
   "cell_type": "code",
   "execution_count": null,
   "metadata": {},
   "outputs": [],
   "source": [
    "R[full_vocab.stoi['worst']]"
   ]
  },
  {
   "cell_type": "code",
   "execution_count": null,
   "metadata": {},
   "outputs": [],
   "source": [
    "R[full_vocab.stoi['best']]"
   ]
  },
  {
   "cell_type": "markdown",
   "metadata": {},
   "source": [
    "#### Since we have equal numbers of positive and negative reviews in this data set, the `bias` $b$ is 0."
   ]
  },
  {
   "cell_type": "code",
   "execution_count": null,
   "metadata": {},
   "outputs": [],
   "source": [
    "b = np.log((y.items==positive).mean() / (y.items==negative).mean())\n",
    "print(f'The bias term b is {b}')"
   ]
  },
  {
   "cell_type": "markdown",
   "metadata": {},
   "source": [
    "### 12B. Predictions of the Naive Bayes Classifier for the full IMDb data set.\n",
    "#### We get much better accuracy this time, because of the larger training set."
   ]
  },
  {
   "cell_type": "code",
   "execution_count": null,
   "metadata": {},
   "outputs": [],
   "source": [
    "# predict labels for the validation data\n",
    "W = valid_doc_term.sign()\n",
    "preds = (W @ R + b) > 0\n",
    "valid_accuracy = (preds == valid_y).mean()\n",
    "print(f'Validation accuracy is {valid_accuracy} for the full data set')"
   ]
  },
  {
   "cell_type": "markdown",
   "metadata": {},
   "source": [
    "## 13. The Logistic Regression classifier with the full IMBb data set"
   ]
  },
  {
   "cell_type": "markdown",
   "metadata": {},
   "source": [
    "#### With the `sci-kit learn` library, we can fit logistic a regression model where the features are the unigrams. Here $C$ is a regularization parameter."
   ]
  },
  {
   "cell_type": "code",
   "execution_count": null,
   "metadata": {},
   "outputs": [],
   "source": [
    "from sklearn.linear_model import LogisticRegression"
   ]
  },
  {
   "cell_type": "markdown",
   "metadata": {},
   "source": [
    "#### Using the full `document-term matrix`:"
   ]
  },
  {
   "cell_type": "code",
   "execution_count": null,
   "metadata": {},
   "outputs": [],
   "source": [
    "m = LogisticRegression(C=0.1, dual=False,solver = 'liblinear')\n",
    "# 'liblinear' and 'newton-cg' solvers both get 0.88328 accuracy\n",
    "# 'sag', 'saga', and 'lbfgs' don't converge\n",
    "m.fit(train_doc_term, y.items.astype(int))\n",
    "preds = m.predict(valid_doc_term)\n",
    "valid_accuracy = (preds==valid_y).mean()\n",
    "print(f'Validation accuracy is {valid_accuracy} using the full doc-term matrix')"
   ]
  },
  {
   "cell_type": "markdown",
   "metadata": {},
   "source": [
    "#### Using the binarized `document-term` matrix gets a slightly higher accuracy:"
   ]
  },
  {
   "cell_type": "code",
   "execution_count": null,
   "metadata": {},
   "outputs": [],
   "source": [
    "m = LogisticRegression(C=0.1, dual=False,solver = 'liblinear')\n",
    "m.fit(train_doc_term.sign(), y.items.astype(int))\n",
    "preds = m.predict(valid_doc_term.sign())\n",
    "valid_accuracy = (preds==valid_y).mean()\n",
    "print(f'Validation accuracy is {valid_accuracy} using the binarized doc-term matrix')"
   ]
  },
  {
   "cell_type": "markdown",
   "metadata": {},
   "source": [
    "## 14. `Trigram` representation of the `IMDb_sample`: preprocessing"
   ]
  },
  {
   "cell_type": "markdown",
   "metadata": {},
   "source": [
    "#### Our next model is a version of logistic regression with Naive Bayes features extended to include bigrams and trigrams as well as unigrams, described [here](https://www.aclweb.org/anthology/P12-2018). For every document we compute binarized features as described above, but this time we use bigrams and trigrams too. Each feature is a log-count ratio. A logistic regression model is then trained to predict sentiment. Because of the much larger number of features, we will return to the smaller `IMDb_sample` data set."
   ]
  },
  {
   "cell_type": "markdown",
   "metadata": {},
   "source": [
    "### What are `ngrams`?"
   ]
  },
  {
   "cell_type": "markdown",
   "metadata": {},
   "source": [
    "#### An `n-gram` is a contiguous sequence of n items (where the items can be characters, syllables, or words).  A `1-gram` is a `unigram`, a `2-gram` is a `bigram`, and a `3-gram` is a `trigram`.\n",
    "\n",
    "#### Here, we are referring to sequences of words. So examples of bigrams include \"the dog\", \"said that\", and \"can't you\"."
   ]
  },
  {
   "cell_type": "markdown",
   "metadata": {},
   "source": [
    "### 14A. Get the IMDb_sample"
   ]
  },
  {
   "cell_type": "code",
   "execution_count": null,
   "metadata": {},
   "outputs": [],
   "source": [
    "path = untar_data(URLs.IMDB_SAMPLE)"
   ]
  },
  {
   "cell_type": "markdown",
   "metadata": {},
   "source": [
    "####  Again we find that accessing the `TextList` API *sometimes* (about 50% of the time) throws a `BrokenProcessPool` Error. This is puzzling, I don't know why it happens. But usually works on 1st or 2nd try."
   ]
  },
  {
   "cell_type": "code",
   "execution_count": null,
   "metadata": {},
   "outputs": [],
   "source": [
    "%%time\n",
    "# throws `BrokenProcessPool' Error sometimes. Keep trying `till it works!\n",
    "\n",
    "count = 0\n",
    "error = True\n",
    "while error:\n",
    "    try: \n",
    "        # Preprocessing steps\n",
    "        movie_reviews = (TextList.from_csv(path, 'texts.csv', cols='text')\n",
    "                .split_from_df(col=2)\n",
    "                .label_from_df(cols=0))\n",
    "\n",
    "        error = False\n",
    "        print(f'failure count is {count}\\n')    \n",
    "    except: # catch *all* exceptions\n",
    "        # accumulate failure count\n",
    "        count = count + 1\n",
    "        print(f'failure count is {count}')\n"
   ]
  },
  {
   "cell_type": "markdown",
   "metadata": {},
   "source": [
    "#### IMDb_sample vocabulary"
   ]
  },
  {
   "cell_type": "code",
   "execution_count": null,
   "metadata": {},
   "outputs": [],
   "source": [
    "vocab_sample = movie_reviews.vocab.itos\n",
    "vocab_len = len(vocab_sample)\n",
    "print(f'IMDb_sample vocabulary has {vocab_len} tokens')"
   ]
  },
  {
   "cell_type": "markdown",
   "metadata": {},
   "source": [
    "### 14B. Create the `ngram-doc matrix` for the training data"
   ]
  },
  {
   "cell_type": "markdown",
   "metadata": {},
   "source": [
    "#### Just as the `doc-term matrix` encodes the `token` features, the `ngram-doc matrix` encodes the `ngram` features."
   ]
  },
  {
   "cell_type": "code",
   "execution_count": null,
   "metadata": {},
   "outputs": [],
   "source": [
    "min_n=1\n",
    "max_n=3\n",
    "\n",
    "j_indices = []\n",
    "indptr = []\n",
    "values = []\n",
    "indptr.append(0)\n",
    "num_tokens = vocab_len\n",
    "\n",
    "itongram = dict()\n",
    "ngramtoi = dict()"
   ]
  },
  {
   "cell_type": "markdown",
   "metadata": {},
   "source": [
    "#### We will iterate through the sequences of words to create our n-grams. This takes several minutes:"
   ]
  },
  {
   "cell_type": "code",
   "execution_count": null,
   "metadata": {},
   "outputs": [],
   "source": [
    "%%time\n",
    "for i, doc in enumerate(movie_reviews.train.x):\n",
    "    feature_counter = Counter(doc.data)\n",
    "    j_indices.extend(feature_counter.keys())\n",
    "    values.extend(feature_counter.values())\n",
    "    this_doc_ngrams = list()\n",
    "\n",
    "    m = 0\n",
    "    for n in range(min_n, max_n + 1):\n",
    "        for k in range(vocab_len - n + 1):\n",
    "            ngram = doc.data[k: k + n]\n",
    "            if str(ngram) not in ngramtoi:\n",
    "                if len(ngram)==1:\n",
    "                    num = ngram[0]\n",
    "                    ngramtoi[str(ngram)] = num\n",
    "                    itongram[num] = ngram\n",
    "                else:\n",
    "                    ngramtoi[str(ngram)] = num_tokens\n",
    "                    itongram[num_tokens] = ngram\n",
    "                    num_tokens += 1\n",
    "            this_doc_ngrams.append(ngramtoi[str(ngram)])\n",
    "            m += 1\n",
    "\n",
    "    ngram_counter = Counter(this_doc_ngrams)\n",
    "    j_indices.extend(ngram_counter.keys())\n",
    "    values.extend(ngram_counter.values())\n",
    "    indptr.append(len(j_indices))"
   ]
  },
  {
   "cell_type": "markdown",
   "metadata": {},
   "source": [
    "#### Using dictionaries to convert between indices and strings (in this case, for n-grams) is a common and useful approach!  Here, we have created `itongram` (index to n-gram) and `ngramtoi` (n-gram to index) dictionaries. This takes a few minutes..."
   ]
  },
  {
   "cell_type": "code",
   "execution_count": null,
   "metadata": {},
   "outputs": [],
   "source": [
    "%%time\n",
    "train_ngram_doc_matrix = scipy.sparse.csr_matrix((values, j_indices, indptr),\n",
    "                                   shape=(len(indptr) - 1, len(ngramtoi)),\n",
    "                                   dtype=int)"
   ]
  },
  {
   "cell_type": "code",
   "execution_count": null,
   "metadata": {},
   "outputs": [],
   "source": [
    "train_ngram_doc_matrix"
   ]
  },
  {
   "cell_type": "markdown",
   "metadata": {},
   "source": [
    "### 14C. Examine some ngrams in the training data"
   ]
  },
  {
   "cell_type": "code",
   "execution_count": null,
   "metadata": {},
   "outputs": [],
   "source": [
    "len(ngramtoi), len(itongram)"
   ]
  },
  {
   "cell_type": "code",
   "execution_count": null,
   "metadata": {},
   "outputs": [],
   "source": [
    "itongram[20005]"
   ]
  },
  {
   "cell_type": "code",
   "execution_count": null,
   "metadata": {},
   "outputs": [],
   "source": [
    "ngramtoi[str(itongram[20005])]"
   ]
  },
  {
   "cell_type": "code",
   "execution_count": null,
   "metadata": {},
   "outputs": [],
   "source": [
    "vocab_sample[125],vocab_sample[340],vocab_sample[10], "
   ]
  },
  {
   "cell_type": "code",
   "execution_count": null,
   "metadata": {},
   "outputs": [],
   "source": [
    "itongram[100000]"
   ]
  },
  {
   "cell_type": "code",
   "execution_count": null,
   "metadata": {},
   "outputs": [],
   "source": [
    "vocab_sample[42], vocab_sample[49]"
   ]
  },
  {
   "cell_type": "code",
   "execution_count": null,
   "metadata": {},
   "outputs": [],
   "source": [
    "itongram[100010]"
   ]
  },
  {
   "cell_type": "code",
   "execution_count": null,
   "metadata": {},
   "outputs": [],
   "source": [
    "vocab_sample[38], vocab_sample[862]"
   ]
  },
  {
   "cell_type": "code",
   "execution_count": null,
   "metadata": {},
   "outputs": [],
   "source": [
    "itongram[6116]"
   ]
  },
  {
   "cell_type": "code",
   "execution_count": null,
   "metadata": {},
   "outputs": [],
   "source": [
    "vocab_sample[867], vocab_sample[52], vocab_sample[5]"
   ]
  },
  {
   "cell_type": "code",
   "execution_count": null,
   "metadata": {},
   "outputs": [],
   "source": [
    "itongram[6119]"
   ]
  },
  {
   "cell_type": "code",
   "execution_count": null,
   "metadata": {},
   "outputs": [],
   "source": [
    "vocab_sample[3376], vocab_sample[5], vocab_sample[1800]"
   ]
  },
  {
   "cell_type": "code",
   "execution_count": null,
   "metadata": {},
   "outputs": [],
   "source": [
    "itongram[80000]"
   ]
  },
  {
   "cell_type": "code",
   "execution_count": null,
   "metadata": {},
   "outputs": [],
   "source": [
    "vocab_sample[0], vocab_sample[1240], vocab_sample[0]"
   ]
  },
  {
   "cell_type": "markdown",
   "metadata": {},
   "source": [
    "### 14D. Create the `ngram-doc matrix` for the validation data"
   ]
  },
  {
   "cell_type": "code",
   "execution_count": null,
   "metadata": {},
   "outputs": [],
   "source": [
    "%%time\n",
    "j_indices = []\n",
    "indptr = []\n",
    "values = []\n",
    "indptr.append(0)\n",
    "\n",
    "for i, doc in enumerate(movie_reviews.valid.x):\n",
    "    feature_counter = Counter(doc.data)\n",
    "    j_indices.extend(feature_counter.keys())\n",
    "    values.extend(feature_counter.values())\n",
    "    this_doc_ngrams = list()\n",
    "\n",
    "    m = 0\n",
    "    for n in range(min_n, max_n + 1):\n",
    "        for k in range(vocab_len - n + 1):\n",
    "            ngram = doc.data[k: k + n]\n",
    "            if str(ngram) in ngramtoi:\n",
    "                this_doc_ngrams.append(ngramtoi[str(ngram)])\n",
    "            m += 1\n",
    "\n",
    "    ngram_counter = Counter(this_doc_ngrams)\n",
    "    j_indices.extend(ngram_counter.keys())\n",
    "    values.extend(ngram_counter.values())\n",
    "    indptr.append(len(j_indices))"
   ]
  },
  {
   "cell_type": "code",
   "execution_count": null,
   "metadata": {},
   "outputs": [],
   "source": [
    "%%time\n",
    "valid_ngram_doc_matrix = scipy.sparse.csr_matrix((values, j_indices, indptr),\n",
    "                                   shape=(len(indptr) - 1, len(ngramtoi)),\n",
    "                                   dtype=int)"
   ]
  },
  {
   "cell_type": "code",
   "execution_count": null,
   "metadata": {},
   "outputs": [],
   "source": [
    "valid_ngram_doc_matrix"
   ]
  },
  {
   "cell_type": "markdown",
   "metadata": {},
   "source": [
    "### 14E. Save the `ngram` data so we won't have to spend the time to generate it again"
   ]
  },
  {
   "cell_type": "code",
   "execution_count": null,
   "metadata": {},
   "outputs": [],
   "source": [
    "scipy.sparse.save_npz(\"train_ngram_matrix.npz\", train_ngram_doc_matrix)\n",
    "scipy.sparse.save_npz(\"valid_ngram_matrix.npz\", valid_ngram_doc_matrix)"
   ]
  },
  {
   "cell_type": "code",
   "execution_count": null,
   "metadata": {},
   "outputs": [],
   "source": [
    "with open('itongram.pickle', 'wb') as handle:\n",
    "    pickle.dump(itongram, handle, protocol=pickle.HIGHEST_PROTOCOL)\n",
    "    \n",
    "with open('ngramtoi.pickle', 'wb') as handle:\n",
    "    pickle.dump(ngramtoi, handle, protocol=pickle.HIGHEST_PROTOCOL)"
   ]
  },
  {
   "cell_type": "markdown",
   "metadata": {
    "heading_collapsed": true
   },
   "source": [
    "### 14F. Load the `ngram` data"
   ]
  },
  {
   "cell_type": "code",
   "execution_count": null,
   "metadata": {
    "hidden": true
   },
   "outputs": [],
   "source": [
    "train_ngram_doc_matrix = scipy.sparse.load_npz(\"train_ngram_matrix.npz\")\n",
    "valid_ngram_doc_matrix = scipy.sparse.load_npz(\"valid_ngram_matrix.npz\")"
   ]
  },
  {
   "cell_type": "code",
   "execution_count": null,
   "metadata": {
    "hidden": true
   },
   "outputs": [],
   "source": [
    "with open('itongram.pickle', 'rb') as handle:\n",
    "    b = pickle.load(handle)\n",
    "    \n",
    "with open('ngramtoi.pickle', 'rb') as handle:\n",
    "    b = pickle.load(handle)"
   ]
  },
  {
   "cell_type": "markdown",
   "metadata": {},
   "source": [
    "## 15. A Naive Bayes IMDb classifier using Trigrams instead of Tokens"
   ]
  },
  {
   "cell_type": "code",
   "execution_count": null,
   "metadata": {},
   "outputs": [],
   "source": [
    "x=train_ngram_doc_matrix\n",
    "x"
   ]
  },
  {
   "cell_type": "code",
   "execution_count": null,
   "metadata": {},
   "outputs": [],
   "source": [
    "x.todense()[0].shape"
   ]
  },
  {
   "cell_type": "code",
   "execution_count": null,
   "metadata": {},
   "outputs": [],
   "source": [
    "k = x.shape[1]\n",
    "print(f'There are {k} 1-gram, 2-gram, and 3-gram features in the IMDb_sample vocabulary')"
   ]
  },
  {
   "cell_type": "code",
   "execution_count": null,
   "metadata": {},
   "outputs": [],
   "source": [
    "y=movie_reviews.train.y\n",
    "y.items\n",
    "y.items.shape"
   ]
  },
  {
   "cell_type": "markdown",
   "metadata": {},
   "source": [
    "#### Numerical label representation"
   ]
  },
  {
   "cell_type": "code",
   "execution_count": null,
   "metadata": {},
   "outputs": [],
   "source": [
    "positive = y.c2i['positive']\n",
    "negative = y.c2i['negative']\n",
    "print(f'positive and negative review labels are represented numerically by {positive} and {negative}')"
   ]
  },
  {
   "cell_type": "markdown",
   "metadata": {},
   "source": [
    "#### Boolean indicator tells whether or not a training label is positive"
   ]
  },
  {
   "cell_type": "code",
   "execution_count": null,
   "metadata": {},
   "outputs": [],
   "source": [
    "valid_labels = [label == positive for label in movie_reviews.valid.y.items]\n",
    "valid_labels=np.array(valid_labels)[:,np.newaxis]\n",
    "valid_labels.shape"
   ]
  },
  {
   "cell_type": "markdown",
   "metadata": {},
   "source": [
    "#### Boolean indicators for `positive` and `negative` reviews in the training set"
   ]
  },
  {
   "cell_type": "code",
   "execution_count": null,
   "metadata": {},
   "outputs": [],
   "source": [
    "pos = (y.items == positive)\n",
    "neg = (y.items == negative)"
   ]
  },
  {
   "cell_type": "markdown",
   "metadata": {},
   "source": [
    "### 15A. Naive Bayes with Trigrams"
   ]
  },
  {
   "cell_type": "markdown",
   "metadata": {},
   "source": [
    "#### The input is the full `ngram_doc_matrix`"
   ]
  },
  {
   "cell_type": "markdown",
   "metadata": {},
   "source": [
    "#### Token `occurrence count` vectors\n",
    "The kernel dies if I use the sparse matrix x here, so converting x to a dense matrix"
   ]
  },
  {
   "cell_type": "code",
   "execution_count": null,
   "metadata": {},
   "outputs": [],
   "source": [
    "C0 = np.squeeze(x.todense()[neg].sum(0))\n",
    "C1 = np.squeeze(x.todense()[pos].sum(0))"
   ]
  },
  {
   "cell_type": "markdown",
   "metadata": {},
   "source": [
    "#### Token `class likelihood` vectors"
   ]
  },
  {
   "cell_type": "code",
   "execution_count": null,
   "metadata": {},
   "outputs": [],
   "source": [
    "L0 = (C0+1) / (neg.sum() + 1)\n",
    "L1 = (C1+1) / (pos.sum() + 1)"
   ]
  },
  {
   "cell_type": "markdown",
   "metadata": {},
   "source": [
    "#### `log-count ratio` column vector"
   ]
  },
  {
   "cell_type": "code",
   "execution_count": null,
   "metadata": {},
   "outputs": [],
   "source": [
    "R = np.log(L1/L0).reshape((-1,1))"
   ]
  },
  {
   "cell_type": "markdown",
   "metadata": {},
   "source": [
    "#### bias"
   ]
  },
  {
   "cell_type": "code",
   "execution_count": null,
   "metadata": {},
   "outputs": [],
   "source": [
    "(y.items==positive).mean(), (y.items==negative).mean()"
   ]
  },
  {
   "cell_type": "code",
   "execution_count": null,
   "metadata": {},
   "outputs": [],
   "source": [
    "b = np.log((y.items==positive).mean() / (y.items==negative).mean())\n",
    "print(b)"
   ]
  },
  {
   "cell_type": "markdown",
   "metadata": {},
   "source": [
    "#### The input is the  `ngram_doc_matrix`"
   ]
  },
  {
   "cell_type": "code",
   "execution_count": null,
   "metadata": {},
   "outputs": [],
   "source": [
    "W = valid_ngram_doc_matrix"
   ]
  },
  {
   "cell_type": "markdown",
   "metadata": {},
   "source": [
    "#### Label predictions with the full ngram_doc_matrix"
   ]
  },
  {
   "cell_type": "code",
   "execution_count": null,
   "metadata": {},
   "outputs": [],
   "source": [
    "preds = W @ R + b\n",
    "preds = preds > 0"
   ]
  },
  {
   "cell_type": "markdown",
   "metadata": {},
   "source": [
    "#### Accuracy is much better than with the unigram model"
   ]
  },
  {
   "cell_type": "code",
   "execution_count": null,
   "metadata": {},
   "outputs": [],
   "source": [
    "accuracy = (preds == valid_labels).mean()\n",
    "print(f'Accuracy for Naive Bayes with the full trigrams Model = {accuracy}' )"
   ]
  },
  {
   "cell_type": "markdown",
   "metadata": {},
   "source": [
    "### 15B. Binarized Naive Bayes with Trigrams"
   ]
  },
  {
   "cell_type": "markdown",
   "metadata": {},
   "source": [
    "#### The input data is the binarized `n_gram_doc_matrix`"
   ]
  },
  {
   "cell_type": "code",
   "execution_count": null,
   "metadata": {},
   "outputs": [],
   "source": [
    "x = train_ngram_doc_matrix.sign()\n",
    "x"
   ]
  },
  {
   "cell_type": "markdown",
   "metadata": {},
   "source": [
    "#### Token `occurrence count` vectors\n",
    "The kernel dies if I use the sparse matrix x here, so converting x to a dense matrix"
   ]
  },
  {
   "cell_type": "code",
   "execution_count": null,
   "metadata": {},
   "outputs": [],
   "source": [
    "C0 = np.squeeze(x.todense()[neg].sum(0))\n",
    "C1 = np.squeeze(x.todense()[pos].sum(0))"
   ]
  },
  {
   "cell_type": "markdown",
   "metadata": {},
   "source": [
    "#### Token `class likelihood` vectors"
   ]
  },
  {
   "cell_type": "code",
   "execution_count": null,
   "metadata": {},
   "outputs": [],
   "source": [
    "L1 = (C1+1) / ((y.items==positive).sum() + 1)\n",
    "L0 = (C0+1) / ((y.items==negative).sum() + 1)"
   ]
  },
  {
   "cell_type": "markdown",
   "metadata": {},
   "source": [
    "#### `log-count ratio` column vector"
   ]
  },
  {
   "cell_type": "code",
   "execution_count": null,
   "metadata": {},
   "outputs": [],
   "source": [
    "R = np.log(L1/L0).reshape((-1,1))\n",
    "print(R)"
   ]
  },
  {
   "cell_type": "markdown",
   "metadata": {},
   "source": [
    "#### Input to the model is the binarized `ngram_doc_matrix`"
   ]
  },
  {
   "cell_type": "code",
   "execution_count": null,
   "metadata": {},
   "outputs": [],
   "source": [
    "W = valid_ngram_doc_matrix.sign()"
   ]
  },
  {
   "cell_type": "markdown",
   "metadata": {},
   "source": [
    "#### Label predictions with the binarized ngram_doc_matrix"
   ]
  },
  {
   "cell_type": "code",
   "execution_count": null,
   "metadata": {},
   "outputs": [],
   "source": [
    "preds = W @ R + b\n",
    "preds = preds>0"
   ]
  },
  {
   "cell_type": "markdown",
   "metadata": {},
   "source": [
    "#### Accuracy is still much better than with unigram model, but this time a bit worse with the binarized model"
   ]
  },
  {
   "cell_type": "code",
   "execution_count": null,
   "metadata": {},
   "outputs": [],
   "source": [
    "accuracy = (preds==valid_labels).mean()\n",
    "print(f'Accuracy for Binarized Naive Bayes with Trigrams Model = {accuracy}' )"
   ]
  },
  {
   "cell_type": "markdown",
   "metadata": {},
   "source": [
    "## 16. A Logistic Regression IMDb classifier using Trigrams"
   ]
  },
  {
   "cell_type": "markdown",
   "metadata": {},
   "source": [
    "#### Here we fit `regularized` logistic regression where the features are the trigrams."
   ]
  },
  {
   "cell_type": "code",
   "execution_count": null,
   "metadata": {},
   "outputs": [],
   "source": [
    "from sklearn.linear_model import LogisticRegression\n",
    "from sklearn.feature_extraction.text import CountVectorizer"
   ]
  },
  {
   "cell_type": "markdown",
   "metadata": {},
   "source": [
    "### 16A. Use `CountVectorizer` to create the `train_ngram_doc` matrix"
   ]
  },
  {
   "cell_type": "code",
   "execution_count": null,
   "metadata": {},
   "outputs": [],
   "source": [
    "veczr = CountVectorizer(ngram_range=(1,3), preprocessor=noop, tokenizer=noop, max_features=800000)"
   ]
  },
  {
   "cell_type": "code",
   "execution_count": null,
   "metadata": {},
   "outputs": [],
   "source": [
    "train_docs = movie_reviews.train.x\n",
    "train_words = [[movie_reviews.vocab.itos[o] for o in doc.data] for doc in train_docs]"
   ]
  },
  {
   "cell_type": "code",
   "execution_count": null,
   "metadata": {},
   "outputs": [],
   "source": [
    "valid_docs = movie_reviews.valid.x\n",
    "valid_words = [[movie_reviews.vocab.itos[o] for o in doc.data] for doc in valid_docs]"
   ]
  },
  {
   "cell_type": "code",
   "execution_count": null,
   "metadata": {},
   "outputs": [],
   "source": [
    "%%time\n",
    "train_ngram_doc_matrix_veczr = veczr.fit_transform(train_words)\n",
    "train_ngram_doc_matrix_veczr"
   ]
  },
  {
   "cell_type": "code",
   "execution_count": null,
   "metadata": {},
   "outputs": [],
   "source": [
    "valid_ngram_doc_matrix_veczr = veczr.transform(valid_words)\n",
    "valid_ngram_doc_matrix_veczr"
   ]
  },
  {
   "cell_type": "code",
   "execution_count": null,
   "metadata": {},
   "outputs": [],
   "source": [
    "vocab = veczr.get_feature_names()"
   ]
  },
  {
   "cell_type": "code",
   "execution_count": null,
   "metadata": {},
   "outputs": [],
   "source": [
    "vocab[100:109]"
   ]
  },
  {
   "cell_type": "code",
   "execution_count": null,
   "metadata": {},
   "outputs": [],
   "source": [
    "vocab[200000:200005]"
   ]
  },
  {
   "cell_type": "markdown",
   "metadata": {},
   "source": [
    "#### Binarized trigram counts"
   ]
  },
  {
   "cell_type": "code",
   "execution_count": null,
   "metadata": {},
   "outputs": [],
   "source": [
    "# fit model\n",
    "m = LogisticRegression(C=0.1, dual=False, solver = 'liblinear')\n",
    "m.fit(train_ngram_doc_matrix_veczr.sign(), y.items);\n",
    "\n",
    "# get predictions\n",
    "preds = m.predict(valid_ngram_doc_matrix_veczr.sign())\n",
    "valid_labels = [label == positive for label in movie_reviews.valid.y.items]\n",
    "\n",
    "# check accuracy\n",
    "accuracy = (preds==valid_labels).mean()\n",
    "print(f'Accuracy = {accuracy} for Logistic Regression, with binarized trigram counts from `CountVectorizer`' )"
   ]
  },
  {
   "cell_type": "markdown",
   "metadata": {},
   "source": [
    "#### Full trigram counts\n",
    "Performance is worse with full trigram counts."
   ]
  },
  {
   "cell_type": "code",
   "execution_count": null,
   "metadata": {},
   "outputs": [],
   "source": [
    "m = LogisticRegression(C=0.1, dual=False, solver = 'liblinear')\n",
    "m.fit(train_ngram_doc_matrix_veczr, y.items);\n",
    "\n",
    "preds = m.predict(valid_ngram_doc_matrix_veczr)\n",
    "accuracy =(preds==valid_labels).mean()\n",
    "print(f'Accuracy  = {accuracy} for Logistic Regression, with full trigram counts from `CountVectorizer`' )"
   ]
  },
  {
   "cell_type": "code",
   "execution_count": null,
   "metadata": {},
   "outputs": [],
   "source": [
    "this is an exception"
   ]
  },
  {
   "cell_type": "markdown",
   "metadata": {},
   "source": [
    "### 16B. This time, use `our` ngrams to create the `train_ngram_doc` matrix"
   ]
  },
  {
   "cell_type": "code",
   "execution_count": null,
   "metadata": {},
   "outputs": [],
   "source": [
    "train_ngram_doc_matrix.shape"
   ]
  },
  {
   "cell_type": "markdown",
   "metadata": {},
   "source": [
    "#### Fit a model to the binarized trigram counts"
   ]
  },
  {
   "cell_type": "code",
   "execution_count": null,
   "metadata": {
    "scrolled": false
   },
   "outputs": [],
   "source": [
    "m2=None\n",
    "m2 = LogisticRegression(C=0.1, dual=False, solver = 'liblinear')\n",
    "m2.fit(train_ngram_doc_matrix.sign(), y.items)\n",
    "\n",
    "preds = m2.predict(valid_ngram_doc_matrix.sign())\n",
    "accuracy = (preds==valid_labels).mean()\n",
    "print(f'Accuracy  = {accuracy} for Logistic Regression, with our binarized trigram counts' )"
   ]
  },
  {
   "cell_type": "markdown",
   "metadata": {},
   "source": [
    "#### Fit a model to the full trigram counts\n",
    "Performance is again worse with full trigram counts."
   ]
  },
  {
   "cell_type": "code",
   "execution_count": null,
   "metadata": {
    "scrolled": false
   },
   "outputs": [],
   "source": [
    "m2 = LogisticRegression(C=0.1, dual=False,solver='liblinear')\n",
    "m2.fit(train_ngram_doc_matrix, y.items)\n",
    "preds = m2.predict(valid_ngram_doc_matrix)\n",
    "accuracy = (preds==valid_labels).mean()\n",
    "print(f'Accuracy  = {accuracy} for Not-Binarized Logistic Regression, with our Trigrams' )"
   ]
  },
  {
   "cell_type": "markdown",
   "metadata": {},
   "source": [
    "### 16C. Logistic Regression with the log-count ratio gives a slightly better result"
   ]
  },
  {
   "cell_type": "markdown",
   "metadata": {},
   "source": [
    "#### Compute the $\\text{log-count ratio}, \\textbf{R}$  and the $\\text{bias}, \\textbf{b}$"
   ]
  },
  {
   "cell_type": "code",
   "execution_count": null,
   "metadata": {},
   "outputs": [],
   "source": [
    "x=train_ngram_doc_matrix.sign()\n",
    "valid_x=valid_ngram_doc_matrix.sign()"
   ]
  },
  {
   "cell_type": "code",
   "execution_count": null,
   "metadata": {},
   "outputs": [],
   "source": [
    "C0 = np.squeeze(x.todense()[neg].sum(axis=0))\n",
    "C1 = np.squeeze(x.todense()[pos].sum(axis=0))"
   ]
  },
  {
   "cell_type": "code",
   "execution_count": null,
   "metadata": {},
   "outputs": [],
   "source": [
    "L1 = (C1+1) / ((pos).sum() + 1)\n",
    "L0 = (C0+1) / ((neg).sum() + 1)"
   ]
  },
  {
   "cell_type": "code",
   "execution_count": null,
   "metadata": {},
   "outputs": [],
   "source": [
    "R = np.log(L1/L0)\n",
    "R.shape"
   ]
  },
  {
   "cell_type": "markdown",
   "metadata": {},
   "source": [
    "#### Here we fit regularized logistic regression where the features are the log-count ratios for the trigrams':"
   ]
  },
  {
   "cell_type": "code",
   "execution_count": null,
   "metadata": {},
   "outputs": [],
   "source": [
    "R_tile = np.tile(R,[x.shape[0],1])\n",
    "print(R_tile.shape)"
   ]
  },
  {
   "cell_type": "code",
   "execution_count": null,
   "metadata": {},
   "outputs": [],
   "source": [
    "# The next line causes the kernel to die?\n",
    "# x_nb = x.multiply(R)\n",
    "# As a workaround, use the full matrices\n",
    "x_nb = np.multiply(x.todense(),R_tile)\n",
    "m = LogisticRegression(dual=False, C=0.1,solver='liblinear')\n",
    "m.fit(x_nb, y.items);\n",
    "\n",
    "# why does valid_x.multiply(R) work but x.multiply(R) does not?\n",
    "valid_x_nb = valid_x.multiply(R) \n",
    "preds = m.predict(valid_x_nb)\n",
    "\n",
    "accuracy = (preds==valid_labels).mean()\n",
    "print(f'Accuracy  = {accuracy} for Logistic Regression, with trigram log-count ratios' )"
   ]
  },
  {
   "cell_type": "markdown",
   "metadata": {},
   "source": [
    "## 17. Summary of movie review sentiment classifier results"
   ]
  },
  {
   "cell_type": "code",
   "execution_count": null,
   "metadata": {},
   "outputs": [],
   "source": [
    "from IPython.display import HTML, display\n",
    "# Note: to install the `tabulate` package, \n",
    "#     go to a shell terminal and run the command\n",
    "#     `conda install tabulate`\n",
    "import tabulate\n",
    "table = [[\"Model\",\"Data Set\",\"Token Unit\",\"Validation Accuracy(%)\"],\n",
    "         [\"Naive Bayes\",\"IMDb_sample\", \"Full Unigram\",\"64.5 (from video #5)\"],\n",
    "         [\"Naive Bayes\",\"IMDb_sample\", \"Binarized Unigram\",\"68.0\"],\n",
    "         [\"Naive Bayes\",\"IMDb_sample\", \"Full Trigram\",\"76.0\"],\n",
    "         [\"Naive Bayes\",\"IMDb_sample\", \"Binarized Trigram\",\"73.5\"],\n",
    "         [\"Logistic Regression\",\"IMDb_sample\", \"Full Trigram\",\"78.0, 80.0 (our Trigrams)\"],\n",
    "         [\"Logistic Regression\",\"IMDb_sample\", \"Binarized Trigram\",\"83.0\"],\n",
    "         [\"Logistic Regression\",\"IMDb_sample\", \"Binarized Trigram log-count ratios\",\"83.5\"],\n",
    "         [\"Naive Bayes\",\"Full IMDb\",\"IMDb_sample\", \"Binarized Trigram\",\"83.3\"],\n",
    "         [\"Logistic Regression\",\"Full IMDb\", \"Full Trigram\",\"88.3\"],\n",
    "         [\"Logistic Regression\",\"Full IMDb\", \"Binarized Trigram\",\"88.5\"]]\n",
    "display(HTML(tabulate.tabulate(table, tablefmt='html')))"
   ]
  },
  {
   "cell_type": "markdown",
   "metadata": {},
   "source": [
    "## References"
   ]
  },
  {
   "cell_type": "markdown",
   "metadata": {},
   "source": [
    "* Baselines and Bigrams: Simple, Good Sentiment and Topic Classification. Sida Wang and Christopher D. Manning [pdf](https://www.aclweb.org/anthology/P12-2018)\n",
    "* [The Naive Bayes Classifier](https://towardsdatascience.com/the-naive-bayes-classifier-e92ea9f47523). Joseph Catanzarite, in Towards Data Science"
   ]
  },
  {
   "cell_type": "markdown",
   "metadata": {},
   "source": []
  }
 ],
 "metadata": {
  "kernelspec": {
   "display_name": "Python 3",
   "language": "python",
   "name": "python3"
  },
  "language_info": {
   "codemirror_mode": {
    "name": "ipython",
    "version": 3
   },
   "file_extension": ".py",
   "mimetype": "text/x-python",
   "name": "python",
   "nbconvert_exporter": "python",
   "pygments_lexer": "ipython3",
   "version": "3.8.10"
  }
 },
 "nbformat": 4,
 "nbformat_minor": 2
}
